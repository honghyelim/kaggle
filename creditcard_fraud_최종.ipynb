{
 "cells": [
  {
   "cell_type": "code",
   "execution_count": 34,
   "metadata": {},
   "outputs": [],
   "source": [
    "import pandas as pd\n",
    "import numpy as np\n",
    "import matplotlib.pyplot as plt\n",
    "import seaborn as sns\n",
    "from sklearn.preprocessing import StandardScaler, RobustScaler,MinMaxScaler\n",
    "#from sklearn.datasets import make_classification\n",
    "from sklearn.metrics import roc_curve, roc_auc_score\n",
    "from sklearn.ensemble import RandomForestClassifier\n",
    "from sklearn.tree import DecisionTreeClassifier\n",
    "from sklearn.linear_model import LogisticRegression\n",
    "from lightgbm import LGBMClassifier\n",
    "from xgboost import XGBClassifier\n",
    "from sklearn.metrics import confusion_matrix\n",
    "from sklearn.metrics import classification_report\n",
    "from sklearn.model_selection import GridSearchCV\n",
    "from sklearn.metrics import accuracy_score, precision_score, recall_score, f1_score\n",
    "from sklearn.model_selection import train_test_split\n",
    "from sklearn.svm import SVC\n",
    "from imblearn.under_sampling import *\n",
    "import warnings\n",
    "warnings.filterwarnings(\"ignore\")"
   ]
  },
  {
   "cell_type": "markdown",
   "metadata": {},
   "source": [
    "## 분석 목표\n",
    "\n",
    "- 신용카드 사기 데이터를 바탕으로 거래가 정상적인 결제인지 사기인지 탐지(분류)하는 다양한 예측 모델 수립\n",
    "- 토픽 : 불균형한 데이터셋을 어떻게 처리할 것인가"
   ]
  },
  {
   "cell_type": "markdown",
   "metadata": {},
   "source": [
    "## EDA"
   ]
  },
  {
   "cell_type": "code",
   "execution_count": 35,
   "metadata": {},
   "outputs": [],
   "source": [
    "df = pd.read_csv(\"C:/Users/hyelim/Desktop/creditcard.csv\")"
   ]
  },
  {
   "cell_type": "code",
   "execution_count": 36,
   "metadata": {},
   "outputs": [
    {
     "data": {
      "text/html": [
       "<div>\n",
       "<style scoped>\n",
       "    .dataframe tbody tr th:only-of-type {\n",
       "        vertical-align: middle;\n",
       "    }\n",
       "\n",
       "    .dataframe tbody tr th {\n",
       "        vertical-align: top;\n",
       "    }\n",
       "\n",
       "    .dataframe thead th {\n",
       "        text-align: right;\n",
       "    }\n",
       "</style>\n",
       "<table border=\"1\" class=\"dataframe\">\n",
       "  <thead>\n",
       "    <tr style=\"text-align: right;\">\n",
       "      <th></th>\n",
       "      <th>Time</th>\n",
       "      <th>V1</th>\n",
       "      <th>V2</th>\n",
       "      <th>V3</th>\n",
       "      <th>V4</th>\n",
       "      <th>V5</th>\n",
       "      <th>V6</th>\n",
       "      <th>V7</th>\n",
       "      <th>V8</th>\n",
       "      <th>V9</th>\n",
       "      <th>...</th>\n",
       "      <th>V21</th>\n",
       "      <th>V22</th>\n",
       "      <th>V23</th>\n",
       "      <th>V24</th>\n",
       "      <th>V25</th>\n",
       "      <th>V26</th>\n",
       "      <th>V27</th>\n",
       "      <th>V28</th>\n",
       "      <th>Amount</th>\n",
       "      <th>Class</th>\n",
       "    </tr>\n",
       "  </thead>\n",
       "  <tbody>\n",
       "    <tr>\n",
       "      <th>0</th>\n",
       "      <td>0.0</td>\n",
       "      <td>-1.359807</td>\n",
       "      <td>-0.072781</td>\n",
       "      <td>2.536347</td>\n",
       "      <td>1.378155</td>\n",
       "      <td>-0.338321</td>\n",
       "      <td>0.462388</td>\n",
       "      <td>0.239599</td>\n",
       "      <td>0.098698</td>\n",
       "      <td>0.363787</td>\n",
       "      <td>...</td>\n",
       "      <td>-0.018307</td>\n",
       "      <td>0.277838</td>\n",
       "      <td>-0.110474</td>\n",
       "      <td>0.066928</td>\n",
       "      <td>0.128539</td>\n",
       "      <td>-0.189115</td>\n",
       "      <td>0.133558</td>\n",
       "      <td>-0.021053</td>\n",
       "      <td>149.62</td>\n",
       "      <td>0</td>\n",
       "    </tr>\n",
       "    <tr>\n",
       "      <th>1</th>\n",
       "      <td>0.0</td>\n",
       "      <td>1.191857</td>\n",
       "      <td>0.266151</td>\n",
       "      <td>0.166480</td>\n",
       "      <td>0.448154</td>\n",
       "      <td>0.060018</td>\n",
       "      <td>-0.082361</td>\n",
       "      <td>-0.078803</td>\n",
       "      <td>0.085102</td>\n",
       "      <td>-0.255425</td>\n",
       "      <td>...</td>\n",
       "      <td>-0.225775</td>\n",
       "      <td>-0.638672</td>\n",
       "      <td>0.101288</td>\n",
       "      <td>-0.339846</td>\n",
       "      <td>0.167170</td>\n",
       "      <td>0.125895</td>\n",
       "      <td>-0.008983</td>\n",
       "      <td>0.014724</td>\n",
       "      <td>2.69</td>\n",
       "      <td>0</td>\n",
       "    </tr>\n",
       "    <tr>\n",
       "      <th>2</th>\n",
       "      <td>1.0</td>\n",
       "      <td>-1.358354</td>\n",
       "      <td>-1.340163</td>\n",
       "      <td>1.773209</td>\n",
       "      <td>0.379780</td>\n",
       "      <td>-0.503198</td>\n",
       "      <td>1.800499</td>\n",
       "      <td>0.791461</td>\n",
       "      <td>0.247676</td>\n",
       "      <td>-1.514654</td>\n",
       "      <td>...</td>\n",
       "      <td>0.247998</td>\n",
       "      <td>0.771679</td>\n",
       "      <td>0.909412</td>\n",
       "      <td>-0.689281</td>\n",
       "      <td>-0.327642</td>\n",
       "      <td>-0.139097</td>\n",
       "      <td>-0.055353</td>\n",
       "      <td>-0.059752</td>\n",
       "      <td>378.66</td>\n",
       "      <td>0</td>\n",
       "    </tr>\n",
       "    <tr>\n",
       "      <th>3</th>\n",
       "      <td>1.0</td>\n",
       "      <td>-0.966272</td>\n",
       "      <td>-0.185226</td>\n",
       "      <td>1.792993</td>\n",
       "      <td>-0.863291</td>\n",
       "      <td>-0.010309</td>\n",
       "      <td>1.247203</td>\n",
       "      <td>0.237609</td>\n",
       "      <td>0.377436</td>\n",
       "      <td>-1.387024</td>\n",
       "      <td>...</td>\n",
       "      <td>-0.108300</td>\n",
       "      <td>0.005274</td>\n",
       "      <td>-0.190321</td>\n",
       "      <td>-1.175575</td>\n",
       "      <td>0.647376</td>\n",
       "      <td>-0.221929</td>\n",
       "      <td>0.062723</td>\n",
       "      <td>0.061458</td>\n",
       "      <td>123.50</td>\n",
       "      <td>0</td>\n",
       "    </tr>\n",
       "    <tr>\n",
       "      <th>4</th>\n",
       "      <td>2.0</td>\n",
       "      <td>-1.158233</td>\n",
       "      <td>0.877737</td>\n",
       "      <td>1.548718</td>\n",
       "      <td>0.403034</td>\n",
       "      <td>-0.407193</td>\n",
       "      <td>0.095921</td>\n",
       "      <td>0.592941</td>\n",
       "      <td>-0.270533</td>\n",
       "      <td>0.817739</td>\n",
       "      <td>...</td>\n",
       "      <td>-0.009431</td>\n",
       "      <td>0.798278</td>\n",
       "      <td>-0.137458</td>\n",
       "      <td>0.141267</td>\n",
       "      <td>-0.206010</td>\n",
       "      <td>0.502292</td>\n",
       "      <td>0.219422</td>\n",
       "      <td>0.215153</td>\n",
       "      <td>69.99</td>\n",
       "      <td>0</td>\n",
       "    </tr>\n",
       "  </tbody>\n",
       "</table>\n",
       "<p>5 rows × 31 columns</p>\n",
       "</div>"
      ],
      "text/plain": [
       "   Time        V1        V2        V3        V4        V5        V6        V7  \\\n",
       "0   0.0 -1.359807 -0.072781  2.536347  1.378155 -0.338321  0.462388  0.239599   \n",
       "1   0.0  1.191857  0.266151  0.166480  0.448154  0.060018 -0.082361 -0.078803   \n",
       "2   1.0 -1.358354 -1.340163  1.773209  0.379780 -0.503198  1.800499  0.791461   \n",
       "3   1.0 -0.966272 -0.185226  1.792993 -0.863291 -0.010309  1.247203  0.237609   \n",
       "4   2.0 -1.158233  0.877737  1.548718  0.403034 -0.407193  0.095921  0.592941   \n",
       "\n",
       "         V8        V9  ...       V21       V22       V23       V24       V25  \\\n",
       "0  0.098698  0.363787  ... -0.018307  0.277838 -0.110474  0.066928  0.128539   \n",
       "1  0.085102 -0.255425  ... -0.225775 -0.638672  0.101288 -0.339846  0.167170   \n",
       "2  0.247676 -1.514654  ...  0.247998  0.771679  0.909412 -0.689281 -0.327642   \n",
       "3  0.377436 -1.387024  ... -0.108300  0.005274 -0.190321 -1.175575  0.647376   \n",
       "4 -0.270533  0.817739  ... -0.009431  0.798278 -0.137458  0.141267 -0.206010   \n",
       "\n",
       "        V26       V27       V28  Amount  Class  \n",
       "0 -0.189115  0.133558 -0.021053  149.62      0  \n",
       "1  0.125895 -0.008983  0.014724    2.69      0  \n",
       "2 -0.139097 -0.055353 -0.059752  378.66      0  \n",
       "3 -0.221929  0.062723  0.061458  123.50      0  \n",
       "4  0.502292  0.219422  0.215153   69.99      0  \n",
       "\n",
       "[5 rows x 31 columns]"
      ]
     },
     "execution_count": 36,
     "metadata": {},
     "output_type": "execute_result"
    }
   ],
   "source": [
    "df.head()"
   ]
  },
  {
   "cell_type": "code",
   "execution_count": 37,
   "metadata": {},
   "outputs": [
    {
     "data": {
      "text/plain": [
       "(284807, 31)"
      ]
     },
     "execution_count": 37,
     "metadata": {},
     "output_type": "execute_result"
    }
   ],
   "source": [
    "df.shape"
   ]
  },
  {
   "cell_type": "code",
   "execution_count": 38,
   "metadata": {},
   "outputs": [
    {
     "name": "stdout",
     "output_type": "stream",
     "text": [
      "<class 'pandas.core.frame.DataFrame'>\n",
      "RangeIndex: 284807 entries, 0 to 284806\n",
      "Data columns (total 31 columns):\n",
      " #   Column  Non-Null Count   Dtype  \n",
      "---  ------  --------------   -----  \n",
      " 0   Time    284807 non-null  float64\n",
      " 1   V1      284807 non-null  float64\n",
      " 2   V2      284807 non-null  float64\n",
      " 3   V3      284807 non-null  float64\n",
      " 4   V4      284807 non-null  float64\n",
      " 5   V5      284807 non-null  float64\n",
      " 6   V6      284807 non-null  float64\n",
      " 7   V7      284807 non-null  float64\n",
      " 8   V8      284807 non-null  float64\n",
      " 9   V9      284807 non-null  float64\n",
      " 10  V10     284807 non-null  float64\n",
      " 11  V11     284807 non-null  float64\n",
      " 12  V12     284807 non-null  float64\n",
      " 13  V13     284807 non-null  float64\n",
      " 14  V14     284807 non-null  float64\n",
      " 15  V15     284807 non-null  float64\n",
      " 16  V16     284807 non-null  float64\n",
      " 17  V17     284807 non-null  float64\n",
      " 18  V18     284807 non-null  float64\n",
      " 19  V19     284807 non-null  float64\n",
      " 20  V20     284807 non-null  float64\n",
      " 21  V21     284807 non-null  float64\n",
      " 22  V22     284807 non-null  float64\n",
      " 23  V23     284807 non-null  float64\n",
      " 24  V24     284807 non-null  float64\n",
      " 25  V25     284807 non-null  float64\n",
      " 26  V26     284807 non-null  float64\n",
      " 27  V27     284807 non-null  float64\n",
      " 28  V28     284807 non-null  float64\n",
      " 29  Amount  284807 non-null  float64\n",
      " 30  Class   284807 non-null  int64  \n",
      "dtypes: float64(30), int64(1)\n",
      "memory usage: 67.4 MB\n"
     ]
    }
   ],
   "source": [
    "#개인 정보 보호로 인해 거래금액과 시간을 제외하고는 변수를 알 수 없음\n",
    "#v1~v28 은 이미 pca 변환을 거침 \n",
    "df.info()"
   ]
  },
  {
   "cell_type": "code",
   "execution_count": 39,
   "metadata": {},
   "outputs": [
    {
     "data": {
      "text/plain": [
       "0"
      ]
     },
     "execution_count": 39,
     "metadata": {},
     "output_type": "execute_result"
    }
   ],
   "source": [
    "#결측치 확인\n",
    "df.isna().sum().max()"
   ]
  },
  {
   "cell_type": "code",
   "execution_count": 40,
   "metadata": {},
   "outputs": [
    {
     "data": {
      "image/png": "[encoded data removed]",
      "text/plain": [
       "<Figure size 1296x288 with 2 Axes>"
      ]
     },
     "metadata": {},
     "output_type": "display_data"
    }
   ],
   "source": [
    "# time와 amount 데이터 분포 살펴보기\n",
    "\n",
    "fig, ax = plt.subplots(1, 2, figsize=(18,4))\n",
    "\n",
    "amount_val = df['Amount'].values\n",
    "time_val = df['Time'].values\n",
    "\n",
    "sns.distplot(amount_val, ax=ax[0], color='r')\n",
    "ax[0].set_title('Distribution of Transaction Amount', fontsize=14)\n",
    "ax[0].set_xlim([min(amount_val), max(amount_val)])\n",
    "\n",
    "sns.distplot(time_val, ax=ax[1], color='b')\n",
    "ax[1].set_title('Distribution of Transaction Time', fontsize=14)\n",
    "ax[1].set_xlim([min(time_val), max(time_val)])\n",
    "\n",
    "plt.show()\n",
    "\n",
    "#amount는 0에 쏠려있음\n",
    "#time는 0~16만이 넘는 값에 분포\n",
    "#둘 다 데이터 분포가 너무 크다"
   ]
  },
  {
   "cell_type": "code",
   "execution_count": 41,
   "metadata": {},
   "outputs": [
    {
     "data": {
      "image/png": "[encoded data removed]",
      "text/plain": [
       "<Figure size 1296x288 with 2 Axes>"
      ]
     },
     "metadata": {},
     "output_type": "display_data"
    }
   ],
   "source": [
    "fig, ax = plt.subplots(1, 2, figsize=(18,4))\n",
    "\n",
    "amount_val = df['V1'].values\n",
    "time_val = df['V28'].values\n",
    "\n",
    "sns.distplot(amount_val, ax=ax[0], color='r')\n",
    "ax[0].set_title('Distribution of Transaction Amount', fontsize=14)\n",
    "ax[0].set_xlim([min(amount_val), max(amount_val)])\n",
    "\n",
    "sns.distplot(time_val, ax=ax[1], color='b')\n",
    "ax[1].set_title('Distribution of Transaction Time', fontsize=14)\n",
    "ax[1].set_xlim([min(time_val), max(time_val)])\n",
    "\n",
    "plt.show()"
   ]
  },
  {
   "cell_type": "markdown",
   "metadata": {},
   "source": [
    "## 정규화"
   ]
  },
  {
   "cell_type": "code",
   "execution_count": 42,
   "metadata": {},
   "outputs": [],
   "source": [
    "#amount에 대한 정규화 \n",
    "scaler = StandardScaler()\n",
    "df['scaler_amount'] = scaler.fit_transform(df['Amount'].values.reshape(-1,1))\n",
    "\n",
    "rob_scaler = RobustScaler()\n",
    "df['rob_amount'] = rob_scaler.fit_transform(df['Amount'].values.reshape(-1,1))"
   ]
  },
  {
   "cell_type": "code",
   "execution_count": 43,
   "metadata": {},
   "outputs": [
    {
     "data": {
      "image/png": "[encoded data removed]",
      "text/plain": [
       "<Figure size 1296x288 with 2 Axes>"
      ]
     },
     "metadata": {},
     "output_type": "display_data"
    }
   ],
   "source": [
    "fig, ax = plt.subplots(1, 2, figsize=(18,4))\n",
    "\n",
    "scaler_amount = df['scaler_amount'].values\n",
    "rob_amount = df['rob_amount'].values\n",
    "\n",
    "\n",
    "sns.distplot(scaler_amount, ax=ax[0], color='y')\n",
    "ax[0].set_title('Distribution of Transaction StandardScaler', fontsize=14)\n",
    "ax[0].set_xlim([min(scaler_amount), max(scaler_amount)])\n",
    "\n",
    "sns.distplot(rob_amount, ax=ax[1], color='b')\n",
    "ax[1].set_title('Distribution of Transaction RobustScaler', fontsize=14)\n",
    "ax[1].set_xlim([min(rob_amount), max(rob_amount)])\n",
    "\n",
    "plt.show()\n",
    "\n",
    "#StandardScaler 채택"
   ]
  },
  {
   "cell_type": "code",
   "execution_count": 44,
   "metadata": {},
   "outputs": [],
   "source": [
    "#time에 대한 정규화\n",
    "scaler = StandardScaler()\n",
    "df['scaler_Time'] = scaler.fit_transform(df['Time'].values.reshape(-1,1))\n",
    "\n",
    "rob_scaler = RobustScaler()\n",
    "df['rob_Time'] = rob_scaler.fit_transform(df['Time'].values.reshape(-1,1))"
   ]
  },
  {
   "cell_type": "code",
   "execution_count": 45,
   "metadata": {},
   "outputs": [
    {
     "data": {
      "image/png": "[encoded data removed]",
      "text/plain": [
       "<Figure size 1296x288 with 2 Axes>"
      ]
     },
     "metadata": {},
     "output_type": "display_data"
    }
   ],
   "source": [
    "fig, ax = plt.subplots(1, 2, figsize=(18,4))\n",
    "\n",
    "scaler_Time = df['scaler_Time'].values\n",
    "rob_Time = df['rob_Time'].values\n",
    "\n",
    "sns.distplot(scaler_Time, ax=ax[0], color='y')\n",
    "ax[0].set_title('Distribution of Transaction StandardScaler', fontsize=14)\n",
    "ax[0].set_xlim([min(scaler_Time), max(scaler_Time)])\n",
    "\n",
    "sns.distplot(rob_Time, ax=ax[1], color='b')\n",
    "ax[1].set_title('Distribution of Transaction RobustScaler', fontsize=14)\n",
    "ax[1].set_xlim([min(rob_Time), max(rob_Time)])\n",
    "\n",
    "plt.show()\n",
    "\n",
    "#RobustScaler 채택"
   ]
  },
  {
   "cell_type": "code",
   "execution_count": 46,
   "metadata": {},
   "outputs": [],
   "source": [
    "#정규화된 데이터 추가\n",
    "df.drop(['Amount','Time','rob_amount','scaler_Time'],axis=1,inplace=True)"
   ]
  },
  {
   "cell_type": "code",
   "execution_count": 47,
   "metadata": {},
   "outputs": [
    {
     "name": "stdout",
     "output_type": "stream",
     "text": [
      "<class 'pandas.core.frame.DataFrame'>\n",
      "RangeIndex: 284807 entries, 0 to 284806\n",
      "Data columns (total 31 columns):\n",
      " #   Column         Non-Null Count   Dtype  \n",
      "---  ------         --------------   -----  \n",
      " 0   V1             284807 non-null  float64\n",
      " 1   V2             284807 non-null  float64\n",
      " 2   V3             284807 non-null  float64\n",
      " 3   V4             284807 non-null  float64\n",
      " 4   V5             284807 non-null  float64\n",
      " 5   V6             284807 non-null  float64\n",
      " 6   V7             284807 non-null  float64\n",
      " 7   V8             284807 non-null  float64\n",
      " 8   V9             284807 non-null  float64\n",
      " 9   V10            284807 non-null  float64\n",
      " 10  V11            284807 non-null  float64\n",
      " 11  V12            284807 non-null  float64\n",
      " 12  V13            284807 non-null  float64\n",
      " 13  V14            284807 non-null  float64\n",
      " 14  V15            284807 non-null  float64\n",
      " 15  V16            284807 non-null  float64\n",
      " 16  V17            284807 non-null  float64\n",
      " 17  V18            284807 non-null  float64\n",
      " 18  V19            284807 non-null  float64\n",
      " 19  V20            284807 non-null  float64\n",
      " 20  V21            284807 non-null  float64\n",
      " 21  V22            284807 non-null  float64\n",
      " 22  V23            284807 non-null  float64\n",
      " 23  V24            284807 non-null  float64\n",
      " 24  V25            284807 non-null  float64\n",
      " 25  V26            284807 non-null  float64\n",
      " 26  V27            284807 non-null  float64\n",
      " 27  V28            284807 non-null  float64\n",
      " 28  Class          284807 non-null  int64  \n",
      " 29  scaler_amount  284807 non-null  float64\n",
      " 30  rob_Time       284807 non-null  float64\n",
      "dtypes: float64(30), int64(1)\n",
      "memory usage: 67.4 MB\n"
     ]
    }
   ],
   "source": [
    "df.info()"
   ]
  },
  {
   "cell_type": "markdown",
   "metadata": {},
   "source": [
    "## 이상치 처리"
   ]
  },
  {
   "cell_type": "code",
   "execution_count": 48,
   "metadata": {},
   "outputs": [
    {
     "data": {
      "text/plain": [
       "<matplotlib.axes._subplots.AxesSubplot at 0x28797d4c288>"
      ]
     },
     "execution_count": 48,
     "metadata": {},
     "output_type": "execute_result"
    },
    {
     "data": {
      "image/png": "[encoded data removed]",
      "text/plain": [
       "<Figure size 1008x576 with 2 Axes>"
      ]
     },
     "metadata": {},
     "output_type": "display_data"
    }
   ],
   "source": [
    "#상관관계를 확인 후 목표변수에 영향을 많이 미치는 컬럼에서 이상치 제거\n",
    "\n",
    "sns.set(rc={'figure.figsize':(14,8)})\n",
    "corr = df.corr()\n",
    "sns.heatmap(corr, cmap='coolwarm_r')"
   ]
  },
  {
   "cell_type": "code",
   "execution_count": 49,
   "metadata": {},
   "outputs": [
    {
     "data": {
      "text/html": [
       "<div>\n",
       "<style scoped>\n",
       "    .dataframe tbody tr th:only-of-type {\n",
       "        vertical-align: middle;\n",
       "    }\n",
       "\n",
       "    .dataframe tbody tr th {\n",
       "        vertical-align: top;\n",
       "    }\n",
       "\n",
       "    .dataframe thead th {\n",
       "        text-align: right;\n",
       "    }\n",
       "</style>\n",
       "<table border=\"1\" class=\"dataframe\">\n",
       "  <thead>\n",
       "    <tr style=\"text-align: right;\">\n",
       "      <th></th>\n",
       "      <th>Class</th>\n",
       "    </tr>\n",
       "  </thead>\n",
       "  <tbody>\n",
       "    <tr>\n",
       "      <th>V17</th>\n",
       "      <td>-0.326481</td>\n",
       "    </tr>\n",
       "    <tr>\n",
       "      <th>V14</th>\n",
       "      <td>-0.302544</td>\n",
       "    </tr>\n",
       "    <tr>\n",
       "      <th>V12</th>\n",
       "      <td>-0.260593</td>\n",
       "    </tr>\n",
       "    <tr>\n",
       "      <th>V10</th>\n",
       "      <td>-0.216883</td>\n",
       "    </tr>\n",
       "    <tr>\n",
       "      <th>V16</th>\n",
       "      <td>-0.196539</td>\n",
       "    </tr>\n",
       "  </tbody>\n",
       "</table>\n",
       "</div>"
      ],
      "text/plain": [
       "        Class\n",
       "V17 -0.326481\n",
       "V14 -0.302544\n",
       "V12 -0.260593\n",
       "V10 -0.216883\n",
       "V16 -0.196539"
      ]
     },
     "execution_count": 49,
     "metadata": {},
     "output_type": "execute_result"
    }
   ],
   "source": [
    "#상관관계 수치로 확인\n",
    "# 종속변수('Class')와의 상관관계\n",
    "Corr = df.corr()\n",
    "IF = Corr['Class'].sort_values().to_frame()\n",
    "IF.head(5)"
   ]
  },
  {
   "cell_type": "code",
   "execution_count": 50,
   "metadata": {},
   "outputs": [
    {
     "data": {
      "text/plain": [
       "Text(0.5, 1.0, 'Boxplot of V17')"
      ]
     },
     "execution_count": 50,
     "metadata": {},
     "output_type": "execute_result"
    },
    {
     "data": {
      "image/png": "[encoded data removed]",
      "text/plain": [
       "<Figure size 1080x576 with 2 Axes>"
      ]
     },
     "metadata": {},
     "output_type": "display_data"
    }
   ],
   "source": [
    "#V14, V17의 상자 그림\n",
    "fig, ax = plt.subplots(1, 2, figsize=(15,8))\n",
    "\n",
    "sns.boxplot(x=df['Class'], y=df[\"V14\"],data=df, ax=ax[0])\n",
    "ax[0].set_title(\"Boxplot of V14\")\n",
    "\n",
    "sns.boxplot(x=df['Class'], y=df[\"V17\"],data=df,ax=ax[1])\n",
    "ax[1].set_title(\"Boxplot of V17\")"
   ]
  },
  {
   "cell_type": "code",
   "execution_count": 51,
   "metadata": {},
   "outputs": [
    {
     "data": {
      "text/plain": [
       "Text(0.5, 1.0, 'Boxplot of V23')"
      ]
     },
     "execution_count": 51,
     "metadata": {},
     "output_type": "execute_result"
    },
    {
     "data": {
      "image/png": "[encoded data removed]",
      "text/plain": [
       "<Figure size 1080x576 with 2 Axes>"
      ]
     },
     "metadata": {},
     "output_type": "display_data"
    }
   ],
   "source": [
    "#V22와 V23의 상자그림을 비교 \n",
    "fig, ax = plt.subplots(1, 2, figsize=(15,8))\n",
    "\n",
    "sns.boxplot(x=df['Class'], y=df[\"V22\"],data=df, ax=ax[0])\n",
    "ax[0].set_title(\"Boxplot of V22\")\n",
    "\n",
    "sns.boxplot(x=df['Class'], y=df[\"V23\"],data=df,ax=ax[1])\n",
    "ax[1].set_title(\"Boxplot of V23\")"
   ]
  },
  {
   "cell_type": "code",
   "execution_count": 52,
   "metadata": {},
   "outputs": [],
   "source": [
    "#14, 17의 이상치 제거\n",
    "def remove_outlier(d_cp, column):\n",
    "    fraud_column_data = d_cp[d_cp['Class']==0][column]\n",
    "    quan_25 = np.percentile(fraud_column_data.values,25)\n",
    "    quan_75 = np.percentile(fraud_column_data.values,75)\n",
    "    \n",
    "    iqr = quan_75-quan_25\n",
    "    iqr = iqr*1.5\n",
    "    lowest = quan_25 - iqr\n",
    "    highest = quan_75 + iqr\n",
    "    outlier_index = fraud_column_data[(fraud_column_data < lowest) | (fraud_column_data > highest)].index\n",
    "    print(len(outlier_index))\n",
    "    d_cp.drop(outlier_index, axis = 0, inplace = True)\n",
    "    print(d_cp.shape)\n",
    "    return d_cp"
   ]
  },
  {
   "cell_type": "code",
   "execution_count": 53,
   "metadata": {},
   "outputs": [
    {
     "name": "stdout",
     "output_type": "stream",
     "text": [
      "13800\n",
      "(271007, 31)\n",
      "3578\n",
      "(267429, 31)\n"
     ]
    }
   ],
   "source": [
    "df = remove_outlier(df, 'V14')\n",
    "df = remove_outlier(df, 'V17')"
   ]
  },
  {
   "cell_type": "code",
   "execution_count": 54,
   "metadata": {},
   "outputs": [
    {
     "data": {
      "text/plain": [
       "Text(0.5, 1.0, 'Boxplot of V17')"
      ]
     },
     "execution_count": 54,
     "metadata": {},
     "output_type": "execute_result"
    },
    {
     "data": {
      "image/png": "[encoded data removed]",
      "text/plain": [
       "<Figure size 1080x576 with 2 Axes>"
      ]
     },
     "metadata": {},
     "output_type": "display_data"
    }
   ],
   "source": [
    "#이상치가 제거된 V14, V17의 상자 그림\n",
    "fig, ax = plt.subplots(1, 2, figsize=(15,8))\n",
    "\n",
    "sns.boxplot(x=df['Class'], y=df[\"V14\"],data=df, ax=ax[0])\n",
    "ax[0].set_title(\"Boxplot of V14\")\n",
    "\n",
    "sns.boxplot(x=df['Class'], y=df[\"V17\"],data=df,ax=ax[1])\n",
    "ax[1].set_title(\"Boxplot of V17\")"
   ]
  },
  {
   "cell_type": "code",
   "execution_count": 55,
   "metadata": {},
   "outputs": [],
   "source": [
    "df_copy = df.copy()"
   ]
  },
  {
   "cell_type": "markdown",
   "metadata": {},
   "source": [
    "## 불균형한 데이터 처리\n",
    "\n",
    "- 언더 샘플링 : 많은 데이터 세트를 적은 데이터 세트 수준으로 감소 시키는 방법\n",
    "\n",
    "- 오버 샘플링 : 이상 데이터와 같이 적은 데이터 세트를 증식하여 학습을 위한 충분한 데이터를 확보하는 방법"
   ]
  },
  {
   "cell_type": "code",
   "execution_count": 56,
   "metadata": {},
   "outputs": [
    {
     "data": {
      "text/plain": [
       "0    266937\n",
       "1       492\n",
       "Name: Class, dtype: int64"
      ]
     },
     "execution_count": 56,
     "metadata": {},
     "output_type": "execute_result"
    }
   ],
   "source": [
    "# 목표 변수의 분포 확인\n",
    "df['Class'].value_counts()"
   ]
  },
  {
   "cell_type": "code",
   "execution_count": 57,
   "metadata": {},
   "outputs": [
    {
     "data": {
      "text/plain": [
       "<matplotlib.axes._subplots.AxesSubplot at 0x287974cafc8>"
      ]
     },
     "execution_count": 57,
     "metadata": {},
     "output_type": "execute_result"
    },
    {
     "data": {
      "image/png": "[encoded data removed]",
      "text/plain": [
       "<Figure size 504x288 with 1 Axes>"
      ]
     },
     "metadata": {},
     "output_type": "display_data"
    }
   ],
   "source": [
    "# 목표 변수의 분포 확인\n",
    "sns.set(rc={'figure.figsize':(7,4)})\n",
    "sns.countplot(x='Class',data=df)\n",
    "\n",
    "#문제점 : 매우 불균형함"
   ]
  },
  {
   "cell_type": "markdown",
   "metadata": {},
   "source": [
    "## 과적합을 방지하기 위한 작업"
   ]
  },
  {
   "cell_type": "code",
   "execution_count": 58,
   "metadata": {},
   "outputs": [
    {
     "name": "stdout",
     "output_type": "stream",
     "text": [
      "(213943, 30)\n",
      "(53486, 30)\n"
     ]
    }
   ],
   "source": [
    "#훈련, 테스트 데이터 나누기(8:2)\n",
    "X=df.drop(['Class'],axis=1)\n",
    "y=df['Class']\n",
    "\n",
    "X_train, X_test, y_train, y_test = train_test_split(X,y,test_size=0.20,random_state=11,shuffle=True)\n",
    "\n",
    "print(X_train.shape)\n",
    "print(X_test.shape)"
   ]
  },
  {
   "cell_type": "code",
   "execution_count": 59,
   "metadata": {},
   "outputs": [
    {
     "name": "stdout",
     "output_type": "stream",
     "text": [
      "RandomUnder 적용 전 학습용 피처/레이블 데이터 세트:  (213943, 30) (213943,)\n",
      "RandomUnder 적용 후 학습용 피처/레이블 데이터 세트:  (774, 30) (774,)\n",
      "RandomUnder 적용 후 레이블 값 분포:\n",
      " 1    387\n",
      "0    387\n",
      "Name: Class, dtype: int64\n"
     ]
    }
   ],
   "source": [
    "#X_samp, y_samp = RandomUnderSampler(random_state=0).fit_sample(X_imb, y_imb)\n",
    "rus = RandomUnderSampler(random_state=0)\n",
    "X_train_under,y_train_under = rus.fit_sample(X_train,y_train)\n",
    "print('RandomUnder 적용 전 학습용 피처/레이블 데이터 세트: ', X_train.shape, y_train.shape)\n",
    "print('RandomUnder 적용 후 학습용 피처/레이블 데이터 세트: ', X_train_under.shape, y_train_under.shape)\n",
    "print('RandomUnder 적용 후 레이블 값 분포:\\n', pd.Series(y_train_under).value_counts())"
   ]
  },
  {
   "cell_type": "code",
   "execution_count": 60,
   "metadata": {},
   "outputs": [
    {
     "data": {
      "text/html": [
       "<div>\n",
       "<style scoped>\n",
       "    .dataframe tbody tr th:only-of-type {\n",
       "        vertical-align: middle;\n",
       "    }\n",
       "\n",
       "    .dataframe tbody tr th {\n",
       "        vertical-align: top;\n",
       "    }\n",
       "\n",
       "    .dataframe thead th {\n",
       "        text-align: right;\n",
       "    }\n",
       "</style>\n",
       "<table border=\"1\" class=\"dataframe\">\n",
       "  <thead>\n",
       "    <tr style=\"text-align: right;\">\n",
       "      <th></th>\n",
       "      <th>V1</th>\n",
       "      <th>V2</th>\n",
       "      <th>V3</th>\n",
       "      <th>V4</th>\n",
       "      <th>V5</th>\n",
       "      <th>V6</th>\n",
       "      <th>V7</th>\n",
       "      <th>V8</th>\n",
       "      <th>V9</th>\n",
       "      <th>V10</th>\n",
       "      <th>...</th>\n",
       "      <th>V22</th>\n",
       "      <th>V23</th>\n",
       "      <th>V24</th>\n",
       "      <th>V25</th>\n",
       "      <th>V26</th>\n",
       "      <th>V27</th>\n",
       "      <th>V28</th>\n",
       "      <th>scaler_amount</th>\n",
       "      <th>rob_Time</th>\n",
       "      <th>Class</th>\n",
       "    </tr>\n",
       "  </thead>\n",
       "  <tbody>\n",
       "    <tr>\n",
       "      <th>0</th>\n",
       "      <td>1.318228</td>\n",
       "      <td>-0.098970</td>\n",
       "      <td>0.135043</td>\n",
       "      <td>-0.452919</td>\n",
       "      <td>-0.146853</td>\n",
       "      <td>-0.025502</td>\n",
       "      <td>-0.319345</td>\n",
       "      <td>0.044489</td>\n",
       "      <td>0.185130</td>\n",
       "      <td>-0.049132</td>\n",
       "      <td>...</td>\n",
       "      <td>-0.460631</td>\n",
       "      <td>-0.064012</td>\n",
       "      <td>-0.769587</td>\n",
       "      <td>0.249233</td>\n",
       "      <td>0.958414</td>\n",
       "      <td>-0.075234</td>\n",
       "      <td>-0.011726</td>\n",
       "      <td>-0.334998</td>\n",
       "      <td>-0.354539</td>\n",
       "      <td>0</td>\n",
       "    </tr>\n",
       "    <tr>\n",
       "      <th>1</th>\n",
       "      <td>-0.885254</td>\n",
       "      <td>1.790649</td>\n",
       "      <td>-0.945149</td>\n",
       "      <td>3.853433</td>\n",
       "      <td>-1.543510</td>\n",
       "      <td>0.188582</td>\n",
       "      <td>-2.988383</td>\n",
       "      <td>1.344059</td>\n",
       "      <td>-2.294535</td>\n",
       "      <td>-1.886176</td>\n",
       "      <td>...</td>\n",
       "      <td>0.550802</td>\n",
       "      <td>-0.034882</td>\n",
       "      <td>-0.567608</td>\n",
       "      <td>-0.528318</td>\n",
       "      <td>0.258782</td>\n",
       "      <td>0.506893</td>\n",
       "      <td>0.176736</td>\n",
       "      <td>-0.322964</td>\n",
       "      <td>-0.039004</td>\n",
       "      <td>1</td>\n",
       "    </tr>\n",
       "    <tr>\n",
       "      <th>2</th>\n",
       "      <td>-1.145662</td>\n",
       "      <td>-0.113993</td>\n",
       "      <td>-1.476060</td>\n",
       "      <td>-2.309015</td>\n",
       "      <td>1.578180</td>\n",
       "      <td>-1.973333</td>\n",
       "      <td>0.708946</td>\n",
       "      <td>0.221688</td>\n",
       "      <td>0.385356</td>\n",
       "      <td>-1.234177</td>\n",
       "      <td>...</td>\n",
       "      <td>0.489594</td>\n",
       "      <td>-0.170834</td>\n",
       "      <td>0.562465</td>\n",
       "      <td>-0.342134</td>\n",
       "      <td>0.513842</td>\n",
       "      <td>0.213273</td>\n",
       "      <td>0.043156</td>\n",
       "      <td>-0.349231</td>\n",
       "      <td>0.029136</td>\n",
       "      <td>0</td>\n",
       "    </tr>\n",
       "    <tr>\n",
       "      <th>3</th>\n",
       "      <td>-0.281926</td>\n",
       "      <td>1.017797</td>\n",
       "      <td>-0.012901</td>\n",
       "      <td>-0.463566</td>\n",
       "      <td>0.664946</td>\n",
       "      <td>-1.342312</td>\n",
       "      <td>1.285030</td>\n",
       "      <td>-0.268435</td>\n",
       "      <td>-0.182487</td>\n",
       "      <td>-1.309640</td>\n",
       "      <td>...</td>\n",
       "      <td>0.833933</td>\n",
       "      <td>-0.305858</td>\n",
       "      <td>-0.054096</td>\n",
       "      <td>0.021202</td>\n",
       "      <td>-0.147463</td>\n",
       "      <td>0.140720</td>\n",
       "      <td>0.188751</td>\n",
       "      <td>-0.200423</td>\n",
       "      <td>0.379363</td>\n",
       "      <td>0</td>\n",
       "    </tr>\n",
       "    <tr>\n",
       "      <th>4</th>\n",
       "      <td>-29.200329</td>\n",
       "      <td>16.155701</td>\n",
       "      <td>-30.013712</td>\n",
       "      <td>6.476731</td>\n",
       "      <td>-21.225810</td>\n",
       "      <td>-4.902997</td>\n",
       "      <td>-19.791248</td>\n",
       "      <td>19.168327</td>\n",
       "      <td>-3.617242</td>\n",
       "      <td>-7.870122</td>\n",
       "      <td>...</td>\n",
       "      <td>-2.175815</td>\n",
       "      <td>-1.365104</td>\n",
       "      <td>0.174286</td>\n",
       "      <td>2.103868</td>\n",
       "      <td>-0.209944</td>\n",
       "      <td>1.278681</td>\n",
       "      <td>0.372393</td>\n",
       "      <td>0.046539</td>\n",
       "      <td>-0.657902</td>\n",
       "      <td>1</td>\n",
       "    </tr>\n",
       "    <tr>\n",
       "      <th>...</th>\n",
       "      <td>...</td>\n",
       "      <td>...</td>\n",
       "      <td>...</td>\n",
       "      <td>...</td>\n",
       "      <td>...</td>\n",
       "      <td>...</td>\n",
       "      <td>...</td>\n",
       "      <td>...</td>\n",
       "      <td>...</td>\n",
       "      <td>...</td>\n",
       "      <td>...</td>\n",
       "      <td>...</td>\n",
       "      <td>...</td>\n",
       "      <td>...</td>\n",
       "      <td>...</td>\n",
       "      <td>...</td>\n",
       "      <td>...</td>\n",
       "      <td>...</td>\n",
       "      <td>...</td>\n",
       "      <td>...</td>\n",
       "      <td>...</td>\n",
       "    </tr>\n",
       "    <tr>\n",
       "      <th>769</th>\n",
       "      <td>-2.219219</td>\n",
       "      <td>0.727831</td>\n",
       "      <td>-5.458230</td>\n",
       "      <td>5.924850</td>\n",
       "      <td>3.932464</td>\n",
       "      <td>-3.085984</td>\n",
       "      <td>-1.677870</td>\n",
       "      <td>0.865075</td>\n",
       "      <td>-3.177260</td>\n",
       "      <td>-3.419207</td>\n",
       "      <td>...</td>\n",
       "      <td>-0.817343</td>\n",
       "      <td>-0.028752</td>\n",
       "      <td>0.025723</td>\n",
       "      <td>-0.825835</td>\n",
       "      <td>-0.013089</td>\n",
       "      <td>0.413291</td>\n",
       "      <td>-0.131387</td>\n",
       "      <td>-0.353229</td>\n",
       "      <td>0.744628</td>\n",
       "      <td>1</td>\n",
       "    </tr>\n",
       "    <tr>\n",
       "      <th>770</th>\n",
       "      <td>0.038688</td>\n",
       "      <td>0.843057</td>\n",
       "      <td>0.289403</td>\n",
       "      <td>-0.591093</td>\n",
       "      <td>0.419374</td>\n",
       "      <td>-1.051487</td>\n",
       "      <td>0.970587</td>\n",
       "      <td>-0.164945</td>\n",
       "      <td>-0.002272</td>\n",
       "      <td>-0.409052</td>\n",
       "      <td>...</td>\n",
       "      <td>-0.570684</td>\n",
       "      <td>0.074484</td>\n",
       "      <td>-0.027575</td>\n",
       "      <td>-0.514784</td>\n",
       "      <td>0.144433</td>\n",
       "      <td>0.249288</td>\n",
       "      <td>0.096092</td>\n",
       "      <td>-0.349671</td>\n",
       "      <td>0.883305</td>\n",
       "      <td>0</td>\n",
       "    </tr>\n",
       "    <tr>\n",
       "      <th>771</th>\n",
       "      <td>-1.426623</td>\n",
       "      <td>4.141986</td>\n",
       "      <td>-9.804103</td>\n",
       "      <td>6.666273</td>\n",
       "      <td>-4.749527</td>\n",
       "      <td>-2.073129</td>\n",
       "      <td>-10.089931</td>\n",
       "      <td>2.791345</td>\n",
       "      <td>-3.249516</td>\n",
       "      <td>-11.420451</td>\n",
       "      <td>...</td>\n",
       "      <td>0.407809</td>\n",
       "      <td>0.605809</td>\n",
       "      <td>-0.769348</td>\n",
       "      <td>-1.746337</td>\n",
       "      <td>0.502040</td>\n",
       "      <td>1.977258</td>\n",
       "      <td>0.711607</td>\n",
       "      <td>-0.349231</td>\n",
       "      <td>-0.864214</td>\n",
       "      <td>1</td>\n",
       "    </tr>\n",
       "    <tr>\n",
       "      <th>772</th>\n",
       "      <td>-10.850282</td>\n",
       "      <td>6.727466</td>\n",
       "      <td>-16.760583</td>\n",
       "      <td>8.425832</td>\n",
       "      <td>-10.252697</td>\n",
       "      <td>-4.192171</td>\n",
       "      <td>-14.077086</td>\n",
       "      <td>7.168288</td>\n",
       "      <td>-3.683242</td>\n",
       "      <td>-15.239962</td>\n",
       "      <td>...</td>\n",
       "      <td>0.135535</td>\n",
       "      <td>-1.023967</td>\n",
       "      <td>0.406265</td>\n",
       "      <td>0.106593</td>\n",
       "      <td>-0.026232</td>\n",
       "      <td>-1.464630</td>\n",
       "      <td>-0.411682</td>\n",
       "      <td>-0.041379</td>\n",
       "      <td>0.107708</td>\n",
       "      <td>1</td>\n",
       "    </tr>\n",
       "    <tr>\n",
       "      <th>773</th>\n",
       "      <td>-2.534106</td>\n",
       "      <td>3.142696</td>\n",
       "      <td>-2.789796</td>\n",
       "      <td>-1.466196</td>\n",
       "      <td>0.211472</td>\n",
       "      <td>-1.646857</td>\n",
       "      <td>0.619897</td>\n",
       "      <td>0.848716</td>\n",
       "      <td>0.353766</td>\n",
       "      <td>0.987899</td>\n",
       "      <td>...</td>\n",
       "      <td>0.679962</td>\n",
       "      <td>-0.085270</td>\n",
       "      <td>-0.610916</td>\n",
       "      <td>0.245446</td>\n",
       "      <td>0.165897</td>\n",
       "      <td>0.757544</td>\n",
       "      <td>0.504305</td>\n",
       "      <td>-0.347072</td>\n",
       "      <td>0.892280</td>\n",
       "      <td>0</td>\n",
       "    </tr>\n",
       "  </tbody>\n",
       "</table>\n",
       "<p>774 rows × 31 columns</p>\n",
       "</div>"
      ],
      "text/plain": [
       "            V1         V2         V3        V4         V5        V6  \\\n",
       "0     1.318228  -0.098970   0.135043 -0.452919  -0.146853 -0.025502   \n",
       "1    -0.885254   1.790649  -0.945149  3.853433  -1.543510  0.188582   \n",
       "2    -1.145662  -0.113993  -1.476060 -2.309015   1.578180 -1.973333   \n",
       "3    -0.281926   1.017797  -0.012901 -0.463566   0.664946 -1.342312   \n",
       "4   -29.200329  16.155701 -30.013712  6.476731 -21.225810 -4.902997   \n",
       "..         ...        ...        ...       ...        ...       ...   \n",
       "769  -2.219219   0.727831  -5.458230  5.924850   3.932464 -3.085984   \n",
       "770   0.038688   0.843057   0.289403 -0.591093   0.419374 -1.051487   \n",
       "771  -1.426623   4.141986  -9.804103  6.666273  -4.749527 -2.073129   \n",
       "772 -10.850282   6.727466 -16.760583  8.425832 -10.252697 -4.192171   \n",
       "773  -2.534106   3.142696  -2.789796 -1.466196   0.211472 -1.646857   \n",
       "\n",
       "            V7         V8        V9        V10  ...       V22       V23  \\\n",
       "0    -0.319345   0.044489  0.185130  -0.049132  ... -0.460631 -0.064012   \n",
       "1    -2.988383   1.344059 -2.294535  -1.886176  ...  0.550802 -0.034882   \n",
       "2     0.708946   0.221688  0.385356  -1.234177  ...  0.489594 -0.170834   \n",
       "3     1.285030  -0.268435 -0.182487  -1.309640  ...  0.833933 -0.305858   \n",
       "4   -19.791248  19.168327 -3.617242  -7.870122  ... -2.175815 -1.365104   \n",
       "..         ...        ...       ...        ...  ...       ...       ...   \n",
       "769  -1.677870   0.865075 -3.177260  -3.419207  ... -0.817343 -0.028752   \n",
       "770   0.970587  -0.164945 -0.002272  -0.409052  ... -0.570684  0.074484   \n",
       "771 -10.089931   2.791345 -3.249516 -11.420451  ...  0.407809  0.605809   \n",
       "772 -14.077086   7.168288 -3.683242 -15.239962  ...  0.135535 -1.023967   \n",
       "773   0.619897   0.848716  0.353766   0.987899  ...  0.679962 -0.085270   \n",
       "\n",
       "          V24       V25       V26       V27       V28  scaler_amount  \\\n",
       "0   -0.769587  0.249233  0.958414 -0.075234 -0.011726      -0.334998   \n",
       "1   -0.567608 -0.528318  0.258782  0.506893  0.176736      -0.322964   \n",
       "2    0.562465 -0.342134  0.513842  0.213273  0.043156      -0.349231   \n",
       "3   -0.054096  0.021202 -0.147463  0.140720  0.188751      -0.200423   \n",
       "4    0.174286  2.103868 -0.209944  1.278681  0.372393       0.046539   \n",
       "..        ...       ...       ...       ...       ...            ...   \n",
       "769  0.025723 -0.825835 -0.013089  0.413291 -0.131387      -0.353229   \n",
       "770 -0.027575 -0.514784  0.144433  0.249288  0.096092      -0.349671   \n",
       "771 -0.769348 -1.746337  0.502040  1.977258  0.711607      -0.349231   \n",
       "772  0.406265  0.106593 -0.026232 -1.464630 -0.411682      -0.041379   \n",
       "773 -0.610916  0.245446  0.165897  0.757544  0.504305      -0.347072   \n",
       "\n",
       "     rob_Time  Class  \n",
       "0   -0.354539      0  \n",
       "1   -0.039004      1  \n",
       "2    0.029136      0  \n",
       "3    0.379363      0  \n",
       "4   -0.657902      1  \n",
       "..        ...    ...  \n",
       "769  0.744628      1  \n",
       "770  0.883305      0  \n",
       "771 -0.864214      1  \n",
       "772  0.107708      1  \n",
       "773  0.892280      0  \n",
       "\n",
       "[774 rows x 31 columns]"
      ]
     },
     "execution_count": 60,
     "metadata": {},
     "output_type": "execute_result"
    }
   ],
   "source": [
    "dt = pd.concat([X_train_under,y_train_under],axis=1)\n",
    "df_under = dt.sample(len(dt)).reset_index(drop=True)\n",
    "df_under"
   ]
  },
  {
   "cell_type": "code",
   "execution_count": 61,
   "metadata": {},
   "outputs": [
    {
     "name": "stdout",
     "output_type": "stream",
     "text": [
      "(619, 30)\n",
      "(155, 30)\n"
     ]
    }
   ],
   "source": [
    "#훈련, 검증 데이터 나누기(8:2)\n",
    "X=dt.drop(['Class'],axis=1)\n",
    "y=dt['Class']\n",
    "\n",
    "X_train, X_val, y_train, y_val = train_test_split(X,y,test_size=0.20,random_state=10,shuffle=True)\n",
    "\n",
    "print(X_train.shape)\n",
    "print(X_val.shape)"
   ]
  },
  {
   "cell_type": "markdown",
   "metadata": {},
   "source": [
    "## 1. 언더 샘플링에서 모델링"
   ]
  },
  {
   "cell_type": "code",
   "execution_count": 27,
   "metadata": {},
   "outputs": [
    {
     "data": {
      "text/plain": [
       "<matplotlib.axes._subplots.AxesSubplot at 0x287970d7a88>"
      ]
     },
     "execution_count": 27,
     "metadata": {},
     "output_type": "execute_result"
    },
    {
     "data": {
      "image/png": "[encoded data removed]",
      "text/plain": [
       "<Figure size 504x288 with 1 Axes>"
      ]
     },
     "metadata": {},
     "output_type": "display_data"
    }
   ],
   "source": [
    "sns.countplot(x='Class',data=df_under)"
   ]
  },
  {
   "cell_type": "markdown",
   "metadata": {},
   "source": [
    "## 모델링\n",
    "\n",
    "- 검증 데이터(validation data)를 사용해 모델 생성"
   ]
  },
  {
   "cell_type": "code",
   "execution_count": 29,
   "metadata": {},
   "outputs": [],
   "source": [
    "#모델링 함수\n",
    "def modeling(model,X_train,X_val,y_train,y_val):\n",
    "    model.fit(X_train,y_train)\n",
    "    pred = model.predict(X_val)\n",
    "    metrics(y_val,pred)"
   ]
  },
  {
   "cell_type": "code",
   "execution_count": 30,
   "metadata": {},
   "outputs": [],
   "source": [
    "#정확도, 정밀도, 재현율, f1-score, auroc 확인\n",
    "def metrics(y_val,pred):\n",
    "    accuracy = accuracy_score(y_val,pred)\n",
    "    precision = precision_score(y_val,pred)\n",
    "    recall = recall_score(y_val,pred)\n",
    "    f1 = f1_score(y_val,pred)\n",
    "    roc_score = roc_auc_score(y_val,pred,average='macro')\n",
    "    print('정확도 : {0:.2f}, 정밀도 : {1:.2f}, 재현율 : {2:.2f}'.format(accuracy,precision,recall))\n",
    "    print('f1-score : {0:.2f}, auc : {1:.3f}'.format(f1,roc_score))"
   ]
  },
  {
   "cell_type": "code",
   "execution_count": 31,
   "metadata": {},
   "outputs": [
    {
     "name": "stdout",
     "output_type": "stream",
     "text": [
      "정확도 : 0.96, 정밀도 : 0.99, 재현율 : 0.94\n",
      "f1-score : 0.96, auc : 0.962\n"
     ]
    }
   ],
   "source": [
    "#로지스틱 회귀\n",
    "lr = LogisticRegression(random_state = 0,C=1000)\n",
    "modeling(lr,X_train,X_val,y_train,y_val)"
   ]
  },
  {
   "cell_type": "code",
   "execution_count": 32,
   "metadata": {},
   "outputs": [
    {
     "name": "stdout",
     "output_type": "stream",
     "text": [
      "정확도 : 0.97, 정밀도 : 1.00, 재현율 : 0.95\n",
      "f1-score : 0.97, auc : 0.975\n"
     ]
    }
   ],
   "source": [
    "#랜덤 포레스트\n",
    "rfc = RandomForestClassifier(n_estimators=200,random_state=300, max_depth=10,n_jobs=-1)\n",
    "modeling(rfc,X_train,X_val,y_train,y_val)"
   ]
  },
  {
   "cell_type": "code",
   "execution_count": 33,
   "metadata": {},
   "outputs": [
    {
     "name": "stdout",
     "output_type": "stream",
     "text": [
      "정확도 : 0.95, 정밀도 : 1.00, 재현율 : 0.90\n",
      "f1-score : 0.95, auc : 0.951\n"
     ]
    }
   ],
   "source": [
    "#svm\n",
    "svm = SVC()\n",
    "modeling(svm,X_train,X_val,y_train,y_val)"
   ]
  },
  {
   "cell_type": "code",
   "execution_count": 34,
   "metadata": {},
   "outputs": [
    {
     "name": "stdout",
     "output_type": "stream",
     "text": [
      "정확도 : 0.97, 정밀도 : 1.00, 재현율 : 0.94\n",
      "f1-score : 0.97, auc : 0.969\n"
     ]
    }
   ],
   "source": [
    "#lgbm\n",
    "lgb = LGBMClassifier(n_estimators=300,num_leaves=64,n_jobs=-1,boost_from_average=False)\n",
    "modeling(lgb,X_train,X_val,y_train,y_val)"
   ]
  },
  {
   "cell_type": "markdown",
   "metadata": {},
   "source": [
    "### 테스트 데이터 정확도 확인"
   ]
  },
  {
   "cell_type": "code",
   "execution_count": 35,
   "metadata": {},
   "outputs": [
    {
     "name": "stdout",
     "output_type": "stream",
     "text": [
      "정확도 : 0.98, 정밀도 : 0.08, 재현율 : 0.96\n",
      "f1-score : 0.15, auc : 0.970\n"
     ]
    }
   ],
   "source": [
    "#로지스틱 회귀\n",
    "lr = LogisticRegression()\n",
    "modeling(lr,X_train,X_test,y_train,y_test)"
   ]
  },
  {
   "cell_type": "code",
   "execution_count": 36,
   "metadata": {},
   "outputs": [
    {
     "name": "stdout",
     "output_type": "stream",
     "text": [
      "정확도 : 0.99, 정밀도 : 0.16, 재현율 : 0.94\n",
      "f1-score : 0.28, auc : 0.967\n"
     ]
    }
   ],
   "source": [
    "#랜덤 포레스트\n",
    "rfc = RandomForestClassifier()\n",
    "modeling(rfc,X_train,X_test,y_train,y_test)"
   ]
  },
  {
   "cell_type": "code",
   "execution_count": 37,
   "metadata": {},
   "outputs": [
    {
     "name": "stdout",
     "output_type": "stream",
     "text": [
      "정확도 : 0.98, 정밀도 : 0.10, 재현율 : 0.96\n",
      "f1-score : 0.18, auc : 0.972\n"
     ]
    }
   ],
   "source": [
    "#xgb\n",
    "xgb = XGBClassifier()\n",
    "modeling(xgb,X_train,X_test,y_train,y_test)"
   ]
  },
  {
   "cell_type": "code",
   "execution_count": 38,
   "metadata": {},
   "outputs": [
    {
     "name": "stdout",
     "output_type": "stream",
     "text": [
      "정확도 : 0.99, 정밀도 : 0.12, 재현율 : 0.95\n",
      "f1-score : 0.21, auc : 0.969\n"
     ]
    }
   ],
   "source": [
    "#lgbm\n",
    "lgb = LGBMClassifier(n_estimators=300,num_leaves=64,n_jobs=-1,boost_from_average=False)\n",
    "modeling(lgb,X_train,X_test,y_train,y_test)"
   ]
  },
  {
   "cell_type": "code",
   "execution_count": 39,
   "metadata": {},
   "outputs": [
    {
     "data": {
      "image/png": "[encoded data removed]",
      "text/plain": [
       "<Figure size 1584x864 with 8 Axes>"
      ]
     },
     "metadata": {},
     "output_type": "display_data"
    }
   ],
   "source": [
    "#히트맵 그리기\n",
    "y_pred_log_reg = lr.predict(X_test)\n",
    "y_pred_rfc = rfc.predict(X_test)\n",
    "y_pred_xgb = xgb.predict(X_test)\n",
    "y_pred_lgb = lgb.predict(X_test)\n",
    "\n",
    "\n",
    "lr = confusion_matrix(y_test, y_pred_log_reg)\n",
    "rfc = confusion_matrix(y_test, y_pred_rfc)\n",
    "xgb = confusion_matrix(y_test, y_pred_xgb)\n",
    "lgb = confusion_matrix(y_test, y_pred_lgb)\n",
    "\n",
    "fig, ax = plt.subplots(2, 2,figsize=(22,12))\n",
    "\n",
    "\n",
    "sns.heatmap(lr, ax=ax[0][0], annot=True, cmap=plt.cm.Reds)\n",
    "ax[0, 0].set_title(\"Logistic Regression \\n Confusion Matrix\", fontsize=14)\n",
    "ax[0, 0].set_xticklabels(['', ''], fontsize=30, rotation=90)\n",
    "ax[0, 0].set_yticklabels(['', ''], fontsize=30, rotation=360)\n",
    "\n",
    "sns.heatmap(rfc, ax=ax[0][1], annot=True, cmap=plt.cm.Reds)\n",
    "ax[0][1].set_title(\"random forest \\n Confusion Matrix\", fontsize=14)\n",
    "ax[0][1].set_xticklabels(['', ''], fontsize=30, rotation=90)\n",
    "ax[0][1].set_yticklabels(['', ''], fontsize=30, rotation=360)\n",
    "\n",
    "sns.heatmap(xgb, ax=ax[1][0], annot=True, cmap=plt.cm.Reds)\n",
    "ax[1][0].set_title(\"XGB Classifier \\n Confusion Matrix\", fontsize=14)\n",
    "ax[1][0].set_xticklabels(['', ''], fontsize=30, rotation=90)\n",
    "ax[1][0].set_yticklabels(['', ''], fontsize=30, rotation=360)\n",
    "\n",
    "sns.heatmap(lgb, ax=ax[1][1], annot=True, cmap=plt.cm.Reds)\n",
    "ax[1][1].set_title(\"light gbm \\n Confusion Matrix\", fontsize=14)\n",
    "ax[1][1].set_xticklabels(['', ''], fontsize=30, rotation=90)\n",
    "ax[1][1].set_yticklabels(['', ''], fontsize=30, rotation=360)\n",
    "\n",
    "plt.show()"
   ]
  },
  {
   "cell_type": "markdown",
   "metadata": {},
   "source": [
    "## 언더 샘플링 신경망"
   ]
  },
  {
   "cell_type": "code",
   "execution_count": 70,
   "metadata": {},
   "outputs": [],
   "source": [
    "#언더 샘플링에서 ANN\n",
    "import keras\n",
    "from keras import backend as K\n",
    "from keras.layers.core import Dense\n",
    "from keras.optimizers import Adam\n",
    "from keras.metrics import binary_crossentropy\n",
    "from keras.models import *\n",
    "from keras.layers import *\n",
    "from tensorflow.python.keras.callbacks import EarlyStopping, ModelCheckpoint\n",
    "\n",
    "\n",
    "model = Sequential()\n",
    "model.add(Dense(12, input_shape=(30, ), activation='relu'))\n",
    "model.add(Dense(12, activation='relu'))\n",
    "model.add(Dropout(0.3))\n",
    "\n",
    "model.add(Dense(1, activation='sigmoid'))\n",
    "optimizer = Adam()\n",
    "\n",
    "ck = ModelCheckpoint('rnn_ksic.h5', monitor='val_loss', verbose=1, save_best_only=True)\n",
    "es = EarlyStopping(monitor='val_loss', patience=3)\n",
    "\n",
    "model.compile(optimizer, loss='binary_crossentropy', metrics=['accuracy'])"
   ]
  },
  {
   "cell_type": "code",
   "execution_count": 71,
   "metadata": {},
   "outputs": [
    {
     "name": "stdout",
     "output_type": "stream",
     "text": [
      "Model: \"sequential_2\"\n",
      "_________________________________________________________________\n",
      "Layer (type)                 Output Shape              Param #   \n",
      "=================================================================\n",
      "dense_6 (Dense)              (None, 12)                372       \n",
      "_________________________________________________________________\n",
      "dense_7 (Dense)              (None, 12)                156       \n",
      "_________________________________________________________________\n",
      "dropout_2 (Dropout)          (None, 12)                0         \n",
      "_________________________________________________________________\n",
      "dense_8 (Dense)              (None, 1)                 13        \n",
      "=================================================================\n",
      "Total params: 541\n",
      "Trainable params: 541\n",
      "Non-trainable params: 0\n",
      "_________________________________________________________________\n"
     ]
    }
   ],
   "source": [
    "model.summary()"
   ]
  },
  {
   "cell_type": "code",
   "execution_count": 72,
   "metadata": {},
   "outputs": [
    {
     "name": "stdout",
     "output_type": "stream",
     "text": [
      "Epoch 1/20\n",
      "116/124 [===========================>..] - ETA: 0s - loss: 0.9123 - accuracy: 0.6224\n",
      "Epoch 00001: val_loss improved from inf to 0.45982, saving model to rnn_ksic.h5\n",
      "124/124 [==============================] - 1s 4ms/step - loss: 0.8901 - accuracy: 0.6333 - val_loss: 0.4598 - val_accuracy: 0.8774\n",
      "Epoch 2/20\n",
      " 91/124 [=====================>........] - ETA: 0s - loss: 0.4755 - accuracy: 0.8044\n",
      "Epoch 00002: val_loss improved from 0.45982 to 0.31794, saving model to rnn_ksic.h5\n",
      "124/124 [==============================] - 0s 2ms/step - loss: 0.4587 - accuracy: 0.8110 - val_loss: 0.3179 - val_accuracy: 0.9226\n",
      "Epoch 3/20\n",
      "117/124 [===========================>..] - ETA: 0s - loss: 0.3445 - accuracy: 0.8718\n",
      "Epoch 00003: val_loss improved from 0.31794 to 0.24251, saving model to rnn_ksic.h5\n",
      "124/124 [==============================] - 0s 3ms/step - loss: 0.3415 - accuracy: 0.8772 - val_loss: 0.2425 - val_accuracy: 0.9419\n",
      "Epoch 4/20\n",
      "119/124 [===========================>..] - ETA: 0s - loss: 0.2759 - accuracy: 0.8958\n",
      "Epoch 00004: val_loss improved from 0.24251 to 0.20222, saving model to rnn_ksic.h5\n",
      "124/124 [==============================] - 0s 3ms/step - loss: 0.2743 - accuracy: 0.8950 - val_loss: 0.2022 - val_accuracy: 0.9548\n",
      "Epoch 5/20\n",
      "121/124 [============================>.] - ETA: 0s - loss: 0.2281 - accuracy: 0.9306\n",
      "Epoch 00005: val_loss improved from 0.20222 to 0.17689, saving model to rnn_ksic.h5\n",
      "124/124 [==============================] - 0s 3ms/step - loss: 0.2274 - accuracy: 0.9321 - val_loss: 0.1769 - val_accuracy: 0.9484\n",
      "Epoch 6/20\n",
      "100/124 [=======================>......] - ETA: 0s - loss: 0.2238 - accuracy: 0.9180\n",
      "Epoch 00006: val_loss improved from 0.17689 to 0.16276, saving model to rnn_ksic.h5\n",
      "124/124 [==============================] - 0s 3ms/step - loss: 0.2294 - accuracy: 0.9176 - val_loss: 0.1628 - val_accuracy: 0.9484\n",
      "Epoch 7/20\n",
      "116/124 [===========================>..] - ETA: 0s - loss: 0.1967 - accuracy: 0.9276\n",
      "Epoch 00007: val_loss improved from 0.16276 to 0.15538, saving model to rnn_ksic.h5\n",
      "124/124 [==============================] - 0s 2ms/step - loss: 0.1918 - accuracy: 0.9289 - val_loss: 0.1554 - val_accuracy: 0.9484\n",
      "Epoch 8/20\n",
      "117/124 [===========================>..] - ETA: 0s - loss: 0.1805 - accuracy: 0.9282\n",
      "Epoch 00008: val_loss improved from 0.15538 to 0.15058, saving model to rnn_ksic.h5\n",
      "124/124 [==============================] - 0s 3ms/step - loss: 0.1811 - accuracy: 0.9305 - val_loss: 0.1506 - val_accuracy: 0.9484\n",
      "Epoch 9/20\n",
      "106/124 [========================>.....] - ETA: 0s - loss: 0.1722 - accuracy: 0.9377\n",
      "Epoch 00009: val_loss improved from 0.15058 to 0.14485, saving model to rnn_ksic.h5\n",
      "124/124 [==============================] - 0s 2ms/step - loss: 0.1685 - accuracy: 0.9338 - val_loss: 0.1449 - val_accuracy: 0.9484\n",
      "Epoch 10/20\n",
      " 93/124 [=====================>........] - ETA: 0s - loss: 0.1717 - accuracy: 0.9204\n",
      "Epoch 00010: val_loss improved from 0.14485 to 0.14296, saving model to rnn_ksic.h5\n",
      "124/124 [==============================] - 0s 2ms/step - loss: 0.1771 - accuracy: 0.9160 - val_loss: 0.1430 - val_accuracy: 0.9548\n",
      "Epoch 11/20\n",
      "116/124 [===========================>..] - ETA: 0s - loss: 0.1519 - accuracy: 0.9345\n",
      "Epoch 00011: val_loss improved from 0.14296 to 0.14084, saving model to rnn_ksic.h5\n",
      "124/124 [==============================] - 0s 3ms/step - loss: 0.1564 - accuracy: 0.9321 - val_loss: 0.1408 - val_accuracy: 0.9548\n",
      "Epoch 12/20\n",
      "112/124 [==========================>...] - ETA: 0s - loss: 0.1342 - accuracy: 0.9393\n",
      "Epoch 00012: val_loss did not improve from 0.14084\n",
      "124/124 [==============================] - 0s 2ms/step - loss: 0.1392 - accuracy: 0.9354 - val_loss: 0.1463 - val_accuracy: 0.9548\n",
      "Epoch 13/20\n",
      "122/124 [============================>.] - ETA: 0s - loss: 0.1512 - accuracy: 0.9361\n",
      "Epoch 00013: val_loss improved from 0.14084 to 0.12720, saving model to rnn_ksic.h5\n",
      "124/124 [==============================] - 0s 3ms/step - loss: 0.1491 - accuracy: 0.9370 - val_loss: 0.1272 - val_accuracy: 0.9548\n",
      "Epoch 14/20\n",
      " 90/124 [====================>.........] - ETA: 0s - loss: 0.1440 - accuracy: 0.9422\n",
      "Epoch 00014: val_loss did not improve from 0.12720\n",
      "124/124 [==============================] - 0s 2ms/step - loss: 0.1382 - accuracy: 0.9418 - val_loss: 0.1272 - val_accuracy: 0.9548\n",
      "Epoch 15/20\n",
      "122/124 [============================>.] - ETA: 0s - loss: 0.1374 - accuracy: 0.9410\n",
      "Epoch 00015: val_loss did not improve from 0.12720\n",
      "124/124 [==============================] - 0s 2ms/step - loss: 0.1366 - accuracy: 0.9418 - val_loss: 0.1300 - val_accuracy: 0.9548\n",
      "Epoch 16/20\n",
      "114/124 [==========================>...] - ETA: 0s - loss: 0.1328 - accuracy: 0.9386\n",
      "Epoch 00016: val_loss did not improve from 0.12720\n",
      "124/124 [==============================] - 0s 2ms/step - loss: 0.1313 - accuracy: 0.9402 - val_loss: 0.1276 - val_accuracy: 0.9548\n"
     ]
    }
   ],
   "source": [
    "history=model.fit(X_train,y_train,epochs=20,batch_size=5,callbacks = [ck, es],validation_data=(X_val,y_val))"
   ]
  },
  {
   "cell_type": "code",
   "execution_count": 73,
   "metadata": {},
   "outputs": [
    {
     "name": "stdout",
     "output_type": "stream",
     "text": [
      "1672/1672 [==============================] - ETA: 0s - loss: 0.1006 - accuracy: 0.97 - 6s 4ms/step - loss: 0.1007 - accuracy: 0.9716\n",
      "\n",
      " 테스트 정확도: 0.9716\n"
     ]
    }
   ],
   "source": [
    "#가장 정확도가 높음\n",
    "print(\"\\n 테스트 정확도: %.4f\" % (model.evaluate(X_test, y_test)[1]))"
   ]
  },
  {
   "cell_type": "code",
   "execution_count": 74,
   "metadata": {},
   "outputs": [
    {
     "data": {
      "text/plain": [
       "dict_keys(['loss', 'accuracy', 'val_loss', 'val_accuracy'])"
      ]
     },
     "execution_count": 74,
     "metadata": {},
     "output_type": "execute_result"
    }
   ],
   "source": [
    "history.history.keys()"
   ]
  },
  {
   "cell_type": "code",
   "execution_count": 75,
   "metadata": {},
   "outputs": [
    {
     "data": {
      "image/png": "[encoded data removed]",
      "text/plain": [
       "<Figure size 432x288 with 1 Axes>"
      ]
     },
     "metadata": {
      "needs_background": "light"
     },
     "output_type": "display_data"
    }
   ],
   "source": [
    "import matplotlib.pyplot as plt\n",
    "%matplotlib inline\n",
    "\n",
    "history_dict = history.history\n",
    "loss = history_dict['loss']\n",
    "val_loss = history_dict['val_loss']\n",
    "\n",
    "epochs = range(1, len(loss)+1)\n",
    "plt.plot(epochs, loss, 'y', label='Training loss')\n",
    "plt.plot(epochs, val_loss, 'r', label='Validation loss') \n",
    "plt.title('Training & Validation Loss')\n",
    "plt.xlabel('Epochs')\n",
    "plt.ylabel('Loss')\n",
    "plt.legend()\n",
    "\n",
    "plt.show()"
   ]
  },
  {
   "cell_type": "code",
   "execution_count": 76,
   "metadata": {},
   "outputs": [
    {
     "data": {
      "image/png": "[encoded data removed]",
      "text/plain": [
       "<Figure size 432x288 with 1 Axes>"
      ]
     },
     "metadata": {
      "needs_background": "light"
     },
     "output_type": "display_data"
    }
   ],
   "source": [
    "plt.clf() #그래프 초기화하기\n",
    "acc = history_dict['accuracy']\n",
    "val_acc = history_dict['val_accuracy']\n",
    "\n",
    "plt.plot(epochs, acc, 'y', label='Training acc') \n",
    "plt.plot(epochs, val_acc, 'r', label='Validation acc') \n",
    "plt.title('Training & Validation accuracy')\n",
    "plt.xlabel('Epochs')\n",
    "plt.ylabel('Accuracy')\n",
    "plt.legend()\n",
    "\n",
    "plt.show()"
   ]
  },
  {
   "cell_type": "code",
   "execution_count": 48,
   "metadata": {},
   "outputs": [],
   "source": [
    "import itertools\n",
    "# Create a confusion matrix\n",
    "def plot_confusion_matrix(cm, classes,\n",
    "                          normalize=False,\n",
    "                          title='Confusion matrix',\n",
    "                          cmap=plt.cm.Blues):\n",
    "\n",
    "    plt.imshow(cm, interpolation='nearest', cmap=cmap)\n",
    "    plt.title(title, fontsize=17)\n",
    "    plt.colorbar()\n",
    "    tick_marks = np.arange(len(classes))\n",
    "    plt.xticks(tick_marks, classes, rotation=90)\n",
    "    plt.yticks(tick_marks, classes)\n",
    "\n",
    "    fmt = '.2f' if normalize else 'd'\n",
    "    thresh = cm.max() / 2.\n",
    "    for i, j in itertools.product(range(cm.shape[0]), range(cm.shape[1])):\n",
    "        plt.text(j, i, format(cm[i, j], fmt),\n",
    "                 horizontalalignment=\"center\",\n",
    "                 color=\"white\" if cm[i, j] > thresh else \"black\")\n",
    "\n",
    "    plt.tight_layout()\n",
    "    plt.ylabel('True label')\n",
    "    plt.xlabel('Predicted label')"
   ]
  },
  {
   "cell_type": "code",
   "execution_count": 49,
   "metadata": {},
   "outputs": [
    {
     "name": "stdout",
     "output_type": "stream",
     "text": [
      "WARNING:tensorflow:From <ipython-input-49-fc6070744811>:1: Sequential.predict_classes (from tensorflow.python.keras.engine.sequential) is deprecated and will be removed after 2021-01-01.\n",
      "Instructions for updating:\n",
      "Please use instead:* `np.argmax(model.predict(x), axis=-1)`,   if your model does multi-class classification   (e.g. if it uses a `softmax` last-layer activation).* `(model.predict(x) > 0.5).astype(\"int32\")`,   if your model does binary classification   (e.g. if it uses a `sigmoid` last-layer activation).\n"
     ]
    }
   ],
   "source": [
    "undersample_fraud_predictions = model.predict_classes(X_test)"
   ]
  },
  {
   "cell_type": "code",
   "execution_count": 50,
   "metadata": {},
   "outputs": [
    {
     "data": {
      "image/png": "[encoded data removed]",
      "text/plain": [
       "<Figure size 936x432 with 2 Axes>"
      ]
     },
     "metadata": {
      "needs_background": "light"
     },
     "output_type": "display_data"
    }
   ],
   "source": [
    "undersample_cm = confusion_matrix(y_test, undersample_fraud_predictions)\n",
    "labels = ['No Fraud', 'Fraud']\n",
    "\n",
    "fig = plt.figure(figsize=(13,6))\n",
    "plot_confusion_matrix(undersample_cm, labels, title=\"Random UnderSample \\n Confusion Matrix\", cmap=plt.cm.Reds)"
   ]
  },
  {
   "cell_type": "code",
   "execution_count": 51,
   "metadata": {},
   "outputs": [
    {
     "data": {
      "text/plain": [
       "0.9627269734817364"
      ]
     },
     "execution_count": 51,
     "metadata": {},
     "output_type": "execute_result"
    }
   ],
   "source": [
    "roc_auc_score(y_test,undersample_fraud_predictions,average='macro')"
   ]
  },
  {
   "cell_type": "markdown",
   "metadata": {},
   "source": [
    "## 2. 오버 샘플링에서 모델링"
   ]
  },
  {
   "cell_type": "code",
   "execution_count": 77,
   "metadata": {},
   "outputs": [],
   "source": [
    "df_over = df_copy"
   ]
  },
  {
   "cell_type": "code",
   "execution_count": 78,
   "metadata": {},
   "outputs": [
    {
     "name": "stdout",
     "output_type": "stream",
     "text": [
      "(213943, 30)\n",
      "(53486, 30)\n"
     ]
    }
   ],
   "source": [
    "#훈련, 테스트 데이터 나누기(7:3)\n",
    "X=df_over.drop(['Class'],axis=1)\n",
    "y=df_over['Class']\n",
    "\n",
    "X_train, X_test, y_train, y_test = train_test_split(X,y,test_size=0.20,random_state=10)\n",
    "\n",
    "print(X_train.shape)\n",
    "print(X_test.shape)"
   ]
  },
  {
   "cell_type": "code",
   "execution_count": 79,
   "metadata": {},
   "outputs": [
    {
     "name": "stdout",
     "output_type": "stream",
     "text": [
      "SMOTE 적용 전 학습용 피처/레이블 데이터 세트:  (213943, 30) (213943,)\n",
      "SMOTE 적용 후 학습용 피처/레이블 데이터 세트:  (427094, 30) (427094,)\n",
      "SMOTE 적용 후 레이블 값 분포: \n",
      " 1    213547\n",
      "0    213547\n",
      "Name: Class, dtype: int64\n"
     ]
    }
   ],
   "source": [
    "from imblearn.over_sampling import SMOTE\n",
    "smote = SMOTE(random_state=0)\n",
    "X_train_over,y_train_over = smote.fit_sample(X_train,y_train)\n",
    "print('SMOTE 적용 전 학습용 피처/레이블 데이터 세트: ', X_train.shape, y_train.shape)\n",
    "print('SMOTE 적용 후 학습용 피처/레이블 데이터 세트: ', X_train_over.shape, y_train_over.shape)\n",
    "print('SMOTE 적용 후 레이블 값 분포: \\n', pd.Series(y_train_over).value_counts())"
   ]
  },
  {
   "cell_type": "code",
   "execution_count": 80,
   "metadata": {},
   "outputs": [
    {
     "data": {
      "text/html": [
       "<div>\n",
       "<style scoped>\n",
       "    .dataframe tbody tr th:only-of-type {\n",
       "        vertical-align: middle;\n",
       "    }\n",
       "\n",
       "    .dataframe tbody tr th {\n",
       "        vertical-align: top;\n",
       "    }\n",
       "\n",
       "    .dataframe thead th {\n",
       "        text-align: right;\n",
       "    }\n",
       "</style>\n",
       "<table border=\"1\" class=\"dataframe\">\n",
       "  <thead>\n",
       "    <tr style=\"text-align: right;\">\n",
       "      <th></th>\n",
       "      <th>V1</th>\n",
       "      <th>V2</th>\n",
       "      <th>V3</th>\n",
       "      <th>V4</th>\n",
       "      <th>V5</th>\n",
       "      <th>V6</th>\n",
       "      <th>V7</th>\n",
       "      <th>V8</th>\n",
       "      <th>V9</th>\n",
       "      <th>V10</th>\n",
       "      <th>...</th>\n",
       "      <th>V22</th>\n",
       "      <th>V23</th>\n",
       "      <th>V24</th>\n",
       "      <th>V25</th>\n",
       "      <th>V26</th>\n",
       "      <th>V27</th>\n",
       "      <th>V28</th>\n",
       "      <th>scaler_amount</th>\n",
       "      <th>rob_Time</th>\n",
       "      <th>Class</th>\n",
       "    </tr>\n",
       "  </thead>\n",
       "  <tbody>\n",
       "    <tr>\n",
       "      <th>0</th>\n",
       "      <td>-13.000657</td>\n",
       "      <td>6.728110</td>\n",
       "      <td>-13.464492</td>\n",
       "      <td>8.698505</td>\n",
       "      <td>-11.478070</td>\n",
       "      <td>-2.688232</td>\n",
       "      <td>-14.035496</td>\n",
       "      <td>8.229591</td>\n",
       "      <td>-7.935402</td>\n",
       "      <td>-12.698333</td>\n",
       "      <td>...</td>\n",
       "      <td>-0.503217</td>\n",
       "      <td>-0.242821</td>\n",
       "      <td>0.674880</td>\n",
       "      <td>0.228117</td>\n",
       "      <td>0.001895</td>\n",
       "      <td>-1.191921</td>\n",
       "      <td>-0.745003</td>\n",
       "      <td>-0.121260</td>\n",
       "      <td>-0.509721</td>\n",
       "      <td>1</td>\n",
       "    </tr>\n",
       "    <tr>\n",
       "      <th>1</th>\n",
       "      <td>2.005704</td>\n",
       "      <td>-0.009286</td>\n",
       "      <td>-1.072521</td>\n",
       "      <td>0.559360</td>\n",
       "      <td>-0.458543</td>\n",
       "      <td>-1.955771</td>\n",
       "      <td>0.335910</td>\n",
       "      <td>-0.371075</td>\n",
       "      <td>0.644151</td>\n",
       "      <td>0.040163</td>\n",
       "      <td>...</td>\n",
       "      <td>-0.261782</td>\n",
       "      <td>0.364846</td>\n",
       "      <td>0.796883</td>\n",
       "      <td>-0.196063</td>\n",
       "      <td>-0.537607</td>\n",
       "      <td>-0.036238</td>\n",
       "      <td>-0.050427</td>\n",
       "      <td>-0.345233</td>\n",
       "      <td>0.465102</td>\n",
       "      <td>0</td>\n",
       "    </tr>\n",
       "    <tr>\n",
       "      <th>2</th>\n",
       "      <td>1.948194</td>\n",
       "      <td>-0.374011</td>\n",
       "      <td>-0.076706</td>\n",
       "      <td>0.603817</td>\n",
       "      <td>-0.953771</td>\n",
       "      <td>-0.856720</td>\n",
       "      <td>-0.518491</td>\n",
       "      <td>-0.166421</td>\n",
       "      <td>1.051996</td>\n",
       "      <td>-0.017120</td>\n",
       "      <td>...</td>\n",
       "      <td>0.952117</td>\n",
       "      <td>0.165747</td>\n",
       "      <td>0.553488</td>\n",
       "      <td>-0.247918</td>\n",
       "      <td>0.580965</td>\n",
       "      <td>-0.017050</td>\n",
       "      <td>-0.041049</td>\n",
       "      <td>-0.283383</td>\n",
       "      <td>0.729555</td>\n",
       "      <td>0</td>\n",
       "    </tr>\n",
       "    <tr>\n",
       "      <th>3</th>\n",
       "      <td>-1.816150</td>\n",
       "      <td>-1.316316</td>\n",
       "      <td>0.366490</td>\n",
       "      <td>0.190184</td>\n",
       "      <td>-0.060984</td>\n",
       "      <td>0.030703</td>\n",
       "      <td>0.701135</td>\n",
       "      <td>-0.315864</td>\n",
       "      <td>-0.557433</td>\n",
       "      <td>0.496262</td>\n",
       "      <td>...</td>\n",
       "      <td>-0.553753</td>\n",
       "      <td>-0.333591</td>\n",
       "      <td>-0.340916</td>\n",
       "      <td>0.016347</td>\n",
       "      <td>-0.470629</td>\n",
       "      <td>0.033745</td>\n",
       "      <td>0.087516</td>\n",
       "      <td>0.893613</td>\n",
       "      <td>-0.214499</td>\n",
       "      <td>1</td>\n",
       "    </tr>\n",
       "    <tr>\n",
       "      <th>4</th>\n",
       "      <td>-1.449132</td>\n",
       "      <td>-0.362269</td>\n",
       "      <td>2.626399</td>\n",
       "      <td>-1.308563</td>\n",
       "      <td>0.071225</td>\n",
       "      <td>-0.850020</td>\n",
       "      <td>0.013690</td>\n",
       "      <td>0.196812</td>\n",
       "      <td>0.680528</td>\n",
       "      <td>-1.499822</td>\n",
       "      <td>...</td>\n",
       "      <td>-0.487481</td>\n",
       "      <td>-0.045218</td>\n",
       "      <td>0.440528</td>\n",
       "      <td>0.321208</td>\n",
       "      <td>0.698775</td>\n",
       "      <td>-0.083800</td>\n",
       "      <td>0.061079</td>\n",
       "      <td>-0.193306</td>\n",
       "      <td>-0.317156</td>\n",
       "      <td>0</td>\n",
       "    </tr>\n",
       "    <tr>\n",
       "      <th>...</th>\n",
       "      <td>...</td>\n",
       "      <td>...</td>\n",
       "      <td>...</td>\n",
       "      <td>...</td>\n",
       "      <td>...</td>\n",
       "      <td>...</td>\n",
       "      <td>...</td>\n",
       "      <td>...</td>\n",
       "      <td>...</td>\n",
       "      <td>...</td>\n",
       "      <td>...</td>\n",
       "      <td>...</td>\n",
       "      <td>...</td>\n",
       "      <td>...</td>\n",
       "      <td>...</td>\n",
       "      <td>...</td>\n",
       "      <td>...</td>\n",
       "      <td>...</td>\n",
       "      <td>...</td>\n",
       "      <td>...</td>\n",
       "      <td>...</td>\n",
       "    </tr>\n",
       "    <tr>\n",
       "      <th>427089</th>\n",
       "      <td>1.889834</td>\n",
       "      <td>-2.101028</td>\n",
       "      <td>-0.797006</td>\n",
       "      <td>-1.180686</td>\n",
       "      <td>-1.739289</td>\n",
       "      <td>-0.535717</td>\n",
       "      <td>-1.044299</td>\n",
       "      <td>-0.242822</td>\n",
       "      <td>-0.878313</td>\n",
       "      <td>1.379946</td>\n",
       "      <td>...</td>\n",
       "      <td>0.783309</td>\n",
       "      <td>-0.104072</td>\n",
       "      <td>-0.023828</td>\n",
       "      <td>-0.051203</td>\n",
       "      <td>0.094255</td>\n",
       "      <td>0.002621</td>\n",
       "      <td>-0.017425</td>\n",
       "      <td>0.486369</td>\n",
       "      <td>0.400839</td>\n",
       "      <td>0</td>\n",
       "    </tr>\n",
       "    <tr>\n",
       "      <th>427090</th>\n",
       "      <td>-0.569592</td>\n",
       "      <td>1.189112</td>\n",
       "      <td>-0.099041</td>\n",
       "      <td>0.226899</td>\n",
       "      <td>2.442163</td>\n",
       "      <td>0.219010</td>\n",
       "      <td>2.109671</td>\n",
       "      <td>-0.421881</td>\n",
       "      <td>-2.617232</td>\n",
       "      <td>0.624452</td>\n",
       "      <td>...</td>\n",
       "      <td>0.383452</td>\n",
       "      <td>-0.748816</td>\n",
       "      <td>-0.128769</td>\n",
       "      <td>1.137462</td>\n",
       "      <td>2.704781</td>\n",
       "      <td>-0.435626</td>\n",
       "      <td>-0.244361</td>\n",
       "      <td>-0.185830</td>\n",
       "      <td>0.832952</td>\n",
       "      <td>0</td>\n",
       "    </tr>\n",
       "    <tr>\n",
       "      <th>427091</th>\n",
       "      <td>-0.409847</td>\n",
       "      <td>1.136002</td>\n",
       "      <td>-3.306359</td>\n",
       "      <td>3.207731</td>\n",
       "      <td>-1.985517</td>\n",
       "      <td>-1.570308</td>\n",
       "      <td>-3.042209</td>\n",
       "      <td>0.775822</td>\n",
       "      <td>-1.777390</td>\n",
       "      <td>-4.735228</td>\n",
       "      <td>...</td>\n",
       "      <td>-0.236424</td>\n",
       "      <td>-0.341624</td>\n",
       "      <td>0.161042</td>\n",
       "      <td>0.596888</td>\n",
       "      <td>-0.299243</td>\n",
       "      <td>0.771072</td>\n",
       "      <td>0.456708</td>\n",
       "      <td>0.541318</td>\n",
       "      <td>-0.144497</td>\n",
       "      <td>1</td>\n",
       "    </tr>\n",
       "    <tr>\n",
       "      <th>427092</th>\n",
       "      <td>-4.731165</td>\n",
       "      <td>1.175234</td>\n",
       "      <td>-2.659886</td>\n",
       "      <td>-0.296983</td>\n",
       "      <td>-1.414917</td>\n",
       "      <td>-2.029239</td>\n",
       "      <td>-2.106352</td>\n",
       "      <td>0.381133</td>\n",
       "      <td>0.081740</td>\n",
       "      <td>-3.790469</td>\n",
       "      <td>...</td>\n",
       "      <td>-0.068898</td>\n",
       "      <td>-1.324525</td>\n",
       "      <td>0.199094</td>\n",
       "      <td>-0.049030</td>\n",
       "      <td>-0.897312</td>\n",
       "      <td>-0.817131</td>\n",
       "      <td>-0.105680</td>\n",
       "      <td>-0.003350</td>\n",
       "      <td>-0.093729</td>\n",
       "      <td>1</td>\n",
       "    </tr>\n",
       "    <tr>\n",
       "      <th>427093</th>\n",
       "      <td>1.240652</td>\n",
       "      <td>-0.147944</td>\n",
       "      <td>0.639825</td>\n",
       "      <td>0.412741</td>\n",
       "      <td>-0.783392</td>\n",
       "      <td>-0.727536</td>\n",
       "      <td>-0.329545</td>\n",
       "      <td>-0.169929</td>\n",
       "      <td>2.185770</td>\n",
       "      <td>-0.714061</td>\n",
       "      <td>...</td>\n",
       "      <td>-0.342031</td>\n",
       "      <td>-0.047769</td>\n",
       "      <td>0.417024</td>\n",
       "      <td>0.388868</td>\n",
       "      <td>1.074155</td>\n",
       "      <td>-0.101185</td>\n",
       "      <td>-0.006039</td>\n",
       "      <td>-0.280944</td>\n",
       "      <td>-0.863156</td>\n",
       "      <td>0</td>\n",
       "    </tr>\n",
       "  </tbody>\n",
       "</table>\n",
       "<p>427094 rows × 31 columns</p>\n",
       "</div>"
      ],
      "text/plain": [
       "               V1        V2         V3        V4         V5        V6  \\\n",
       "0      -13.000657  6.728110 -13.464492  8.698505 -11.478070 -2.688232   \n",
       "1        2.005704 -0.009286  -1.072521  0.559360  -0.458543 -1.955771   \n",
       "2        1.948194 -0.374011  -0.076706  0.603817  -0.953771 -0.856720   \n",
       "3       -1.816150 -1.316316   0.366490  0.190184  -0.060984  0.030703   \n",
       "4       -1.449132 -0.362269   2.626399 -1.308563   0.071225 -0.850020   \n",
       "...           ...       ...        ...       ...        ...       ...   \n",
       "427089   1.889834 -2.101028  -0.797006 -1.180686  -1.739289 -0.535717   \n",
       "427090  -0.569592  1.189112  -0.099041  0.226899   2.442163  0.219010   \n",
       "427091  -0.409847  1.136002  -3.306359  3.207731  -1.985517 -1.570308   \n",
       "427092  -4.731165  1.175234  -2.659886 -0.296983  -1.414917 -2.029239   \n",
       "427093   1.240652 -0.147944   0.639825  0.412741  -0.783392 -0.727536   \n",
       "\n",
       "               V7        V8        V9        V10  ...       V22       V23  \\\n",
       "0      -14.035496  8.229591 -7.935402 -12.698333  ... -0.503217 -0.242821   \n",
       "1        0.335910 -0.371075  0.644151   0.040163  ... -0.261782  0.364846   \n",
       "2       -0.518491 -0.166421  1.051996  -0.017120  ...  0.952117  0.165747   \n",
       "3        0.701135 -0.315864 -0.557433   0.496262  ... -0.553753 -0.333591   \n",
       "4        0.013690  0.196812  0.680528  -1.499822  ... -0.487481 -0.045218   \n",
       "...           ...       ...       ...        ...  ...       ...       ...   \n",
       "427089  -1.044299 -0.242822 -0.878313   1.379946  ...  0.783309 -0.104072   \n",
       "427090   2.109671 -0.421881 -2.617232   0.624452  ...  0.383452 -0.748816   \n",
       "427091  -3.042209  0.775822 -1.777390  -4.735228  ... -0.236424 -0.341624   \n",
       "427092  -2.106352  0.381133  0.081740  -3.790469  ... -0.068898 -1.324525   \n",
       "427093  -0.329545 -0.169929  2.185770  -0.714061  ... -0.342031 -0.047769   \n",
       "\n",
       "             V24       V25       V26       V27       V28  scaler_amount  \\\n",
       "0       0.674880  0.228117  0.001895 -1.191921 -0.745003      -0.121260   \n",
       "1       0.796883 -0.196063 -0.537607 -0.036238 -0.050427      -0.345233   \n",
       "2       0.553488 -0.247918  0.580965 -0.017050 -0.041049      -0.283383   \n",
       "3      -0.340916  0.016347 -0.470629  0.033745  0.087516       0.893613   \n",
       "4       0.440528  0.321208  0.698775 -0.083800  0.061079      -0.193306   \n",
       "...          ...       ...       ...       ...       ...            ...   \n",
       "427089 -0.023828 -0.051203  0.094255  0.002621 -0.017425       0.486369   \n",
       "427090 -0.128769  1.137462  2.704781 -0.435626 -0.244361      -0.185830   \n",
       "427091  0.161042  0.596888 -0.299243  0.771072  0.456708       0.541318   \n",
       "427092  0.199094 -0.049030 -0.897312 -0.817131 -0.105680      -0.003350   \n",
       "427093  0.417024  0.388868  1.074155 -0.101185 -0.006039      -0.280944   \n",
       "\n",
       "        rob_Time  Class  \n",
       "0      -0.509721      1  \n",
       "1       0.465102      0  \n",
       "2       0.729555      0  \n",
       "3      -0.214499      1  \n",
       "4      -0.317156      0  \n",
       "...          ...    ...  \n",
       "427089  0.400839      0  \n",
       "427090  0.832952      0  \n",
       "427091 -0.144497      1  \n",
       "427092 -0.093729      1  \n",
       "427093 -0.863156      0  \n",
       "\n",
       "[427094 rows x 31 columns]"
      ]
     },
     "execution_count": 80,
     "metadata": {},
     "output_type": "execute_result"
    }
   ],
   "source": [
    "dt2 = pd.concat([X_train_over,y_train_over],axis=1)\n",
    "df_over = dt2.sample(len(dt2)).reset_index(drop=True)\n",
    "df_over"
   ]
  },
  {
   "cell_type": "code",
   "execution_count": 81,
   "metadata": {},
   "outputs": [
    {
     "data": {
      "text/plain": [
       "<matplotlib.axes._subplots.AxesSubplot at 0x287a93d9f48>"
      ]
     },
     "execution_count": 81,
     "metadata": {},
     "output_type": "execute_result"
    },
    {
     "data": {
      "image/png": "[encoded data removed]",
      "text/plain": [
       "<Figure size 432x288 with 1 Axes>"
      ]
     },
     "metadata": {
      "needs_background": "light"
     },
     "output_type": "display_data"
    }
   ],
   "source": [
    "sns.countplot(x='Class',data=df_over)"
   ]
  },
  {
   "cell_type": "code",
   "execution_count": 82,
   "metadata": {},
   "outputs": [
    {
     "name": "stdout",
     "output_type": "stream",
     "text": [
      "(341675, 30)\n",
      "(85419, 30)\n"
     ]
    }
   ],
   "source": [
    "#훈련, 검증 데이터 나누기(8:2)\n",
    "X=df_over.drop(['Class'],axis=1)\n",
    "y=df_over['Class']\n",
    "\n",
    "X_train, X_val, y_train, y_val = train_test_split(X,y,test_size=0.20,random_state=10,shuffle=True)\n",
    "\n",
    "print(X_train.shape)\n",
    "print(X_val.shape)"
   ]
  },
  {
   "cell_type": "code",
   "execution_count": 57,
   "metadata": {},
   "outputs": [
    {
     "name": "stdout",
     "output_type": "stream",
     "text": [
      "정확도 : 0.96, 정밀도 : 0.98, 재현율 : 0.95\n",
      "f1-score : 0.96, auc : 0.963\n"
     ]
    }
   ],
   "source": [
    "#로지스틱 회귀\n",
    "lr = LogisticRegression(random_state =1,C=1000)\n",
    "modeling(lr,X_train,X_val,y_train,y_val)"
   ]
  },
  {
   "cell_type": "code",
   "execution_count": 58,
   "metadata": {},
   "outputs": [
    {
     "name": "stdout",
     "output_type": "stream",
     "text": [
      "정확도 : 0.99, 정밀도 : 1.00, 재현율 : 0.98\n",
      "f1-score : 0.99, auc : 0.988\n"
     ]
    }
   ],
   "source": [
    "#랜덤포레스트\n",
    "rfc = RandomForestClassifier(n_estimators=200,random_state=30, max_depth=10,n_jobs=-1)\n",
    "modeling(rfc,X_train,X_val,y_train,y_val)"
   ]
  },
  {
   "cell_type": "code",
   "execution_count": 59,
   "metadata": {},
   "outputs": [
    {
     "name": "stdout",
     "output_type": "stream",
     "text": [
      "정확도 : 1.00, 정밀도 : 1.00, 재현율 : 1.00\n",
      "f1-score : 1.00, auc : 1.000\n"
     ]
    }
   ],
   "source": [
    "#xgb\n",
    "xgb = XGBClassifier()\n",
    "modeling(xgb,X_train,X_val,y_train,y_val)"
   ]
  },
  {
   "cell_type": "code",
   "execution_count": 60,
   "metadata": {},
   "outputs": [
    {
     "name": "stdout",
     "output_type": "stream",
     "text": [
      "정확도 : 1.00, 정밀도 : 1.00, 재현율 : 1.00\n",
      "f1-score : 1.00, auc : 1.000\n"
     ]
    }
   ],
   "source": [
    "lgb = LGBMClassifier(n_estimators=1000,num_leaves=64,n_jobs=-1,boost_from_average=False)\n",
    "modeling(lgb,X_train,X_val,y_train,y_val)"
   ]
  },
  {
   "cell_type": "markdown",
   "metadata": {},
   "source": [
    "### 오버 샘플링 테스트 데이터 정확도 확인"
   ]
  },
  {
   "cell_type": "code",
   "execution_count": 61,
   "metadata": {},
   "outputs": [
    {
     "name": "stdout",
     "output_type": "stream",
     "text": [
      "정확도 : 0.98, 정밀도 : 0.07, 재현율 : 0.94\n",
      "f1-score : 0.14, auc : 0.958\n"
     ]
    }
   ],
   "source": [
    "#로지스틱 회귀\n",
    "lr = LogisticRegression(random_state =1,C=1000)\n",
    "modeling(lr,X_train,X_test,y_train,y_test)"
   ]
  },
  {
   "cell_type": "code",
   "execution_count": 62,
   "metadata": {},
   "outputs": [
    {
     "name": "stdout",
     "output_type": "stream",
     "text": [
      "정확도 : 1.00, 정밀도 : 0.89, 재현율 : 0.91\n",
      "f1-score : 0.90, auc : 0.953\n"
     ]
    }
   ],
   "source": [
    "#랜덤포레스트\n",
    "rfc = RandomForestClassifier(n_estimators=200,random_state=30, max_depth=8,n_jobs=-1)\n",
    "modeling(rfc,X_train,X_test,y_train,y_test)"
   ]
  },
  {
   "cell_type": "code",
   "execution_count": 63,
   "metadata": {},
   "outputs": [
    {
     "name": "stdout",
     "output_type": "stream",
     "text": [
      "정확도 : 1.00, 정밀도 : 0.85, 재현율 : 0.91\n",
      "f1-score : 0.88, auc : 0.953\n"
     ]
    }
   ],
   "source": [
    "#xgb\n",
    "xgb = XGBClassifier()\n",
    "modeling(xgb,X_train,X_test,y_train,y_test)"
   ]
  },
  {
   "cell_type": "code",
   "execution_count": 64,
   "metadata": {},
   "outputs": [
    {
     "name": "stdout",
     "output_type": "stream",
     "text": [
      "정확도 : 1.00, 정밀도 : 0.94, 재현율 : 0.89\n",
      "f1-score : 0.91, auc : 0.943\n"
     ]
    }
   ],
   "source": [
    "#lgbm\n",
    "lgb = LGBMClassifier(n_estimators=1000,num_leaves=64,n_jobs=-1,boost_from_average=False)\n",
    "modeling(lgb,X_train,X_test,y_train,y_test)"
   ]
  },
  {
   "cell_type": "code",
   "execution_count": 65,
   "metadata": {},
   "outputs": [
    {
     "data": {
      "image/png": "[encoded data removed]",
      "text/plain": [
       "<Figure size 1584x864 with 8 Axes>"
      ]
     },
     "metadata": {
      "needs_background": "light"
     },
     "output_type": "display_data"
    }
   ],
   "source": [
    "#히트맵 그리기\n",
    "y_pred_log_reg = lr.predict(X_test)\n",
    "y_pred_rfc = rfc.predict(X_test)\n",
    "y_pred_xgb = xgb.predict(X_test)\n",
    "y_pred_lgb = lgb.predict(X_test)\n",
    "\n",
    "\n",
    "lr = confusion_matrix(y_test, y_pred_log_reg)\n",
    "rfc = confusion_matrix(y_test, y_pred_rfc)\n",
    "xgb = confusion_matrix(y_test, y_pred_xgb)\n",
    "lgb = confusion_matrix(y_test, y_pred_lgb)\n",
    "\n",
    "fig, ax = plt.subplots(2, 2,figsize=(22,12))\n",
    "\n",
    "\n",
    "sns.heatmap(lr, ax=ax[0][0], annot=True, cmap=plt.cm.Greens)\n",
    "ax[0, 0].set_title(\"Logistic Regression \\n Confusion Matrix\", fontsize=14)\n",
    "ax[0, 0].set_xticklabels(['', ''], fontsize=30, rotation=90)\n",
    "ax[0, 0].set_yticklabels(['', ''], fontsize=30, rotation=360)\n",
    "\n",
    "sns.heatmap(rfc, ax=ax[0][1], annot=True, cmap=plt.cm.Greens)\n",
    "ax[0][1].set_title(\"random forest \\n Confusion Matrix\", fontsize=14)\n",
    "ax[0][1].set_xticklabels(['', ''], fontsize=30, rotation=90)\n",
    "ax[0][1].set_yticklabels(['', ''], fontsize=30, rotation=360)\n",
    "\n",
    "sns.heatmap(xgb, ax=ax[1][0], annot=True, cmap=plt.cm.Greens)\n",
    "ax[1][0].set_title(\"XGB Classifier \\n Confusion Matrix\", fontsize=14)\n",
    "ax[1][0].set_xticklabels(['', ''], fontsize=30, rotation=90)\n",
    "ax[1][0].set_yticklabels(['', ''], fontsize=30, rotation=360)\n",
    "\n",
    "sns.heatmap(lgb, ax=ax[1][1], annot=True, cmap=plt.cm.Greens)\n",
    "ax[1][1].set_title(\"light gbm \\n Confusion Matrix\", fontsize=14)\n",
    "ax[1][1].set_xticklabels(['', ''], fontsize=30, rotation=90)\n",
    "ax[1][1].set_yticklabels(['', ''], fontsize=30, rotation=360)\n",
    "\n",
    "plt.show()"
   ]
  },
  {
   "cell_type": "markdown",
   "metadata": {},
   "source": [
    "## 오버 샘플링 신경망"
   ]
  },
  {
   "cell_type": "code",
   "execution_count": 83,
   "metadata": {},
   "outputs": [],
   "source": [
    "import keras\n",
    "from keras import backend as K\n",
    "from keras.layers.core import Dense\n",
    "from keras.optimizers import Adam\n",
    "from keras.metrics import binary_crossentropy\n",
    "from keras.models import *\n",
    "from keras.layers import *\n",
    "\n",
    "\n",
    "model = Sequential()\n",
    "model.add(Dense(12, input_shape=(30, ), activation='relu'))\n",
    "model.add(Dense(12, activation='relu'))\n",
    "model.add(Dropout(0.3))\n",
    "\n",
    "model.add(Dense(1, activation='sigmoid'))\n",
    "optimizer = Adam()\n",
    "\n",
    "ck = ModelCheckpoint('rnn_ksic.h5', monitor='val_loss', verbose=1, save_best_only=True)\n",
    "es = EarlyStopping(monitor='val_loss', patience=3)\n",
    "\n",
    "model.compile(optimizer, loss='binary_crossentropy', metrics=['accuracy'])"
   ]
  },
  {
   "cell_type": "code",
   "execution_count": 84,
   "metadata": {},
   "outputs": [
    {
     "name": "stdout",
     "output_type": "stream",
     "text": [
      "Model: \"sequential_3\"\n",
      "_________________________________________________________________\n",
      "Layer (type)                 Output Shape              Param #   \n",
      "=================================================================\n",
      "dense_9 (Dense)              (None, 12)                372       \n",
      "_________________________________________________________________\n",
      "dense_10 (Dense)             (None, 12)                156       \n",
      "_________________________________________________________________\n",
      "dropout_3 (Dropout)          (None, 12)                0         \n",
      "_________________________________________________________________\n",
      "dense_11 (Dense)             (None, 1)                 13        \n",
      "=================================================================\n",
      "Total params: 541\n",
      "Trainable params: 541\n",
      "Non-trainable params: 0\n",
      "_________________________________________________________________\n"
     ]
    }
   ],
   "source": [
    "model.summary()"
   ]
  },
  {
   "cell_type": "code",
   "execution_count": 85,
   "metadata": {},
   "outputs": [
    {
     "name": "stdout",
     "output_type": "stream",
     "text": [
      "Epoch 1/10\n",
      "68328/68335 [============================>.] - ETA: 0s - loss: 0.0297 - accuracy: 0.9899\n",
      "Epoch 00001: val_loss improved from inf to 0.01036, saving model to rnn_ksic.h5\n",
      "68335/68335 [==============================] - 179s 3ms/step - loss: 0.0297 - accuracy: 0.9899 - val_loss: 0.0104 - val_accuracy: 0.9971\n",
      "Epoch 2/10\n",
      "68313/68335 [============================>.] - ETA: 0s - loss: 0.0108 - accuracy: 0.9970\n",
      "Epoch 00002: val_loss improved from 0.01036 to 0.00715, saving model to rnn_ksic.h5\n",
      "68335/68335 [==============================] - 319s 5ms/step - loss: 0.0109 - accuracy: 0.9970 - val_loss: 0.0072 - val_accuracy: 0.9980\n",
      "Epoch 3/10\n",
      "68328/68335 [============================>.] - ETA: 0s - loss: 0.0088 - accuracy: 0.9976\n",
      "Epoch 00003: val_loss improved from 0.00715 to 0.00657, saving model to rnn_ksic.h5\n",
      "68335/68335 [==============================] - 199s 3ms/step - loss: 0.0088 - accuracy: 0.9976 - val_loss: 0.0066 - val_accuracy: 0.9982\n",
      "Epoch 4/10\n",
      "68324/68335 [============================>.] - ETA: 0s - loss: 0.0071 - accuracy: 0.9981\n",
      "Epoch 00004: val_loss improved from 0.00657 to 0.00487, saving model to rnn_ksic.h5\n",
      "68335/68335 [==============================] - 193s 3ms/step - loss: 0.0071 - accuracy: 0.9981 - val_loss: 0.0049 - val_accuracy: 0.9987\n",
      "Epoch 5/10\n",
      "68330/68335 [============================>.] - ETA: 0s - loss: 0.0069 - accuracy: 0.9981\n",
      "Epoch 00005: val_loss did not improve from 0.00487\n",
      "68335/68335 [==============================] - 153s 2ms/step - loss: 0.0069 - accuracy: 0.9981 - val_loss: 0.0051 - val_accuracy: 0.9987\n",
      "Epoch 6/10\n",
      "68291/68335 [============================>.] - ETA: 0s - loss: 0.0065 - accuracy: 0.9984\n",
      "Epoch 00006: val_loss did not improve from 0.00487\n",
      "68335/68335 [==============================] - 56s 813us/step - loss: 0.0065 - accuracy: 0.9984 - val_loss: 0.0063 - val_accuracy: 0.9985\n",
      "Epoch 7/10\n",
      "68280/68335 [============================>.] - ETA: 0s - loss: 0.0062 - accuracy: 0.9985\n",
      "Epoch 00007: val_loss did not improve from 0.00487\n",
      "68335/68335 [==============================] - 57s 836us/step - loss: 0.0062 - accuracy: 0.9985 - val_loss: 0.0053 - val_accuracy: 0.9989\n"
     ]
    }
   ],
   "source": [
    "history=model.fit(X_train,y_train,epochs=10,batch_size=5,callbacks = [ck, es],validation_data=(X_val,y_val))"
   ]
  },
  {
   "cell_type": "code",
   "execution_count": 86,
   "metadata": {},
   "outputs": [
    {
     "name": "stdout",
     "output_type": "stream",
     "text": [
      "1672/1672 [==============================] - 1s 650us/step - loss: 0.0356 - accuracy: 0.9973\n",
      "\n",
      " 테스트 정확도: 0.9973\n"
     ]
    }
   ],
   "source": [
    "print(\"\\n 테스트 정확도: %.4f\" % (model.evaluate(X_test, y_test)[1]))"
   ]
  },
  {
   "cell_type": "code",
   "execution_count": 87,
   "metadata": {},
   "outputs": [
    {
     "data": {
      "text/plain": [
       "dict_keys(['loss', 'accuracy', 'val_loss', 'val_accuracy'])"
      ]
     },
     "execution_count": 87,
     "metadata": {},
     "output_type": "execute_result"
    }
   ],
   "source": [
    "history.history.keys()"
   ]
  },
  {
   "cell_type": "code",
   "execution_count": 88,
   "metadata": {},
   "outputs": [
    {
     "data": {
      "image/png": "[encoded data removed]",
      "text/plain": [
       "<Figure size 432x288 with 1 Axes>"
      ]
     },
     "metadata": {
      "needs_background": "light"
     },
     "output_type": "display_data"
    }
   ],
   "source": [
    "import matplotlib.pyplot as plt\n",
    "%matplotlib inline\n",
    "\n",
    "history_dict = history.history\n",
    "loss = history_dict['loss']\n",
    "val_loss = history_dict['val_loss']\n",
    "\n",
    "epochs = range(1, len(loss)+1)\n",
    "plt.plot(epochs, loss, 'y', label='Training loss')\n",
    "plt.plot(epochs, val_loss, 'r', label='Validation loss') \n",
    "plt.title('Training & Validation Loss')\n",
    "plt.xlabel('Epochs')\n",
    "plt.ylabel('Loss')\n",
    "plt.legend()\n",
    "\n",
    "plt.show()"
   ]
  },
  {
   "cell_type": "code",
   "execution_count": 89,
   "metadata": {},
   "outputs": [
    {
     "data": {
      "image/png": "[encoded data removed]",
      "text/plain": [
       "<Figure size 432x288 with 1 Axes>"
      ]
     },
     "metadata": {
      "needs_background": "light"
     },
     "output_type": "display_data"
    }
   ],
   "source": [
    "plt.clf() #그래프 초기화하기\n",
    "acc = history_dict['accuracy']\n",
    "val_acc = history_dict['val_accuracy']\n",
    "\n",
    "plt.plot(epochs, acc, 'y', label='Training acc') \n",
    "plt.plot(epochs, val_acc, 'r', label='Validation acc') \n",
    "plt.title('Training & Validation accuracy')\n",
    "plt.xlabel('Epochs')\n",
    "plt.ylabel('Accuracy')\n",
    "plt.legend()\n",
    "\n",
    "plt.show()"
   ]
  },
  {
   "cell_type": "code",
   "execution_count": 74,
   "metadata": {},
   "outputs": [],
   "source": [
    "oversample_fraud_predictions = model.predict_classes(X_test)"
   ]
  },
  {
   "cell_type": "code",
   "execution_count": 75,
   "metadata": {},
   "outputs": [
    {
     "data": {
      "image/png": "[encoded data removed]",
      "text/plain": [
       "<Figure size 936x432 with 2 Axes>"
      ]
     },
     "metadata": {
      "needs_background": "light"
     },
     "output_type": "display_data"
    }
   ],
   "source": [
    "oversample_cm = confusion_matrix(y_test, oversample_fraud_predictions)\n",
    "labels = ['No Fraud', 'Fraud']\n",
    "\n",
    "fig = plt.figure(figsize=(13,6))\n",
    "plot_confusion_matrix(oversample_cm, labels, title=\"SMOTE OverSample \\n Confusion Matrix\", cmap=plt.cm.Greens)"
   ]
  },
  {
   "cell_type": "code",
   "execution_count": 76,
   "metadata": {},
   "outputs": [
    {
     "data": {
      "text/plain": [
       "0.9467366704126866"
      ]
     },
     "execution_count": 76,
     "metadata": {},
     "output_type": "execute_result"
    }
   ],
   "source": [
    "roc_auc_score(y_test,oversample_fraud_predictions,average='macro')"
   ]
  }
 ],
 "metadata": {
  "kernelspec": {
   "display_name": "Python 3",
   "language": "python",
   "name": "python3"
  },
  "language_info": {
   "codemirror_mode": {
    "name": "ipython",
    "version": 3
   },
   "file_extension": ".py",
   "mimetype": "text/x-python",
   "name": "python",
   "nbconvert_exporter": "python",
   "pygments_lexer": "ipython3",
   "version": "3.7.6"
  }
 },
 "nbformat": 4,
 "nbformat_minor": 4
}

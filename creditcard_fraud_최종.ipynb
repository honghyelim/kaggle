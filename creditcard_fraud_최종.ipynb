{
 "cells": [
  {
   "cell_type": "code",
   "execution_count": 1,
   "metadata": {},
   "outputs": [],
   "source": [
    "import pandas as pd\n",
    "import numpy as np\n",
    "import matplotlib.pyplot as plt\n",
    "import seaborn as sns\n",
    "from sklearn.preprocessing import StandardScaler, RobustScaler,MinMaxScaler\n",
    "#from sklearn.datasets import make_classification\n",
    "from sklearn.metrics import roc_curve, roc_auc_score\n",
    "from sklearn.ensemble import RandomForestClassifier\n",
    "from sklearn.tree import DecisionTreeClassifier\n",
    "from sklearn.linear_model import LogisticRegression\n",
    "from lightgbm import LGBMClassifier\n",
    "from xgboost import XGBClassifier\n",
    "from sklearn.metrics import confusion_matrix\n",
    "from sklearn.metrics import classification_report\n",
    "from sklearn.model_selection import GridSearchCV\n",
    "from sklearn.metrics import accuracy_score, precision_score, recall_score, f1_score\n",
    "from sklearn.model_selection import train_test_split\n",
    "from sklearn.svm import SVC\n",
    "from imblearn.under_sampling import *\n",
    "import warnings\n",
    "warnings.filterwarnings(\"ignore\")"
   ]
  },
  {
   "cell_type": "markdown",
   "metadata": {},
   "source": [
    "## 분석 목표\n",
    "\n",
    "- 신용카드 사기 데이터를 바탕으로 거래가 정상적인 결제인지 사기인지 탐지(분류)하는 다양한 예측 모델 수립\n",
    "- 토픽 : 불균형한 데이터셋을 어떻게 처리할 것인가"
   ]
  },
  {
   "cell_type": "markdown",
   "metadata": {},
   "source": [
    "## EDA"
   ]
  },
  {
   "cell_type": "code",
   "execution_count": 2,
   "metadata": {},
   "outputs": [],
   "source": [
    "df = pd.read_csv(\"C:/Users/hyelim/Desktop/creditcard.csv\")"
   ]
  },
  {
   "cell_type": "code",
   "execution_count": 3,
   "metadata": {},
   "outputs": [
    {
     "data": {
      "text/html": [
       "<div>\n",
       "<style scoped>\n",
       "    .dataframe tbody tr th:only-of-type {\n",
       "        vertical-align: middle;\n",
       "    }\n",
       "\n",
       "    .dataframe tbody tr th {\n",
       "        vertical-align: top;\n",
       "    }\n",
       "\n",
       "    .dataframe thead th {\n",
       "        text-align: right;\n",
       "    }\n",
       "</style>\n",
       "<table border=\"1\" class=\"dataframe\">\n",
       "  <thead>\n",
       "    <tr style=\"text-align: right;\">\n",
       "      <th></th>\n",
       "      <th>Time</th>\n",
       "      <th>V1</th>\n",
       "      <th>V2</th>\n",
       "      <th>V3</th>\n",
       "      <th>V4</th>\n",
       "      <th>V5</th>\n",
       "      <th>V6</th>\n",
       "      <th>V7</th>\n",
       "      <th>V8</th>\n",
       "      <th>V9</th>\n",
       "      <th>...</th>\n",
       "      <th>V21</th>\n",
       "      <th>V22</th>\n",
       "      <th>V23</th>\n",
       "      <th>V24</th>\n",
       "      <th>V25</th>\n",
       "      <th>V26</th>\n",
       "      <th>V27</th>\n",
       "      <th>V28</th>\n",
       "      <th>Amount</th>\n",
       "      <th>Class</th>\n",
       "    </tr>\n",
       "  </thead>\n",
       "  <tbody>\n",
       "    <tr>\n",
       "      <th>0</th>\n",
       "      <td>0.0</td>\n",
       "      <td>-1.359807</td>\n",
       "      <td>-0.072781</td>\n",
       "      <td>2.536347</td>\n",
       "      <td>1.378155</td>\n",
       "      <td>-0.338321</td>\n",
       "      <td>0.462388</td>\n",
       "      <td>0.239599</td>\n",
       "      <td>0.098698</td>\n",
       "      <td>0.363787</td>\n",
       "      <td>...</td>\n",
       "      <td>-0.018307</td>\n",
       "      <td>0.277838</td>\n",
       "      <td>-0.110474</td>\n",
       "      <td>0.066928</td>\n",
       "      <td>0.128539</td>\n",
       "      <td>-0.189115</td>\n",
       "      <td>0.133558</td>\n",
       "      <td>-0.021053</td>\n",
       "      <td>149.62</td>\n",
       "      <td>0</td>\n",
       "    </tr>\n",
       "    <tr>\n",
       "      <th>1</th>\n",
       "      <td>0.0</td>\n",
       "      <td>1.191857</td>\n",
       "      <td>0.266151</td>\n",
       "      <td>0.166480</td>\n",
       "      <td>0.448154</td>\n",
       "      <td>0.060018</td>\n",
       "      <td>-0.082361</td>\n",
       "      <td>-0.078803</td>\n",
       "      <td>0.085102</td>\n",
       "      <td>-0.255425</td>\n",
       "      <td>...</td>\n",
       "      <td>-0.225775</td>\n",
       "      <td>-0.638672</td>\n",
       "      <td>0.101288</td>\n",
       "      <td>-0.339846</td>\n",
       "      <td>0.167170</td>\n",
       "      <td>0.125895</td>\n",
       "      <td>-0.008983</td>\n",
       "      <td>0.014724</td>\n",
       "      <td>2.69</td>\n",
       "      <td>0</td>\n",
       "    </tr>\n",
       "    <tr>\n",
       "      <th>2</th>\n",
       "      <td>1.0</td>\n",
       "      <td>-1.358354</td>\n",
       "      <td>-1.340163</td>\n",
       "      <td>1.773209</td>\n",
       "      <td>0.379780</td>\n",
       "      <td>-0.503198</td>\n",
       "      <td>1.800499</td>\n",
       "      <td>0.791461</td>\n",
       "      <td>0.247676</td>\n",
       "      <td>-1.514654</td>\n",
       "      <td>...</td>\n",
       "      <td>0.247998</td>\n",
       "      <td>0.771679</td>\n",
       "      <td>0.909412</td>\n",
       "      <td>-0.689281</td>\n",
       "      <td>-0.327642</td>\n",
       "      <td>-0.139097</td>\n",
       "      <td>-0.055353</td>\n",
       "      <td>-0.059752</td>\n",
       "      <td>378.66</td>\n",
       "      <td>0</td>\n",
       "    </tr>\n",
       "    <tr>\n",
       "      <th>3</th>\n",
       "      <td>1.0</td>\n",
       "      <td>-0.966272</td>\n",
       "      <td>-0.185226</td>\n",
       "      <td>1.792993</td>\n",
       "      <td>-0.863291</td>\n",
       "      <td>-0.010309</td>\n",
       "      <td>1.247203</td>\n",
       "      <td>0.237609</td>\n",
       "      <td>0.377436</td>\n",
       "      <td>-1.387024</td>\n",
       "      <td>...</td>\n",
       "      <td>-0.108300</td>\n",
       "      <td>0.005274</td>\n",
       "      <td>-0.190321</td>\n",
       "      <td>-1.175575</td>\n",
       "      <td>0.647376</td>\n",
       "      <td>-0.221929</td>\n",
       "      <td>0.062723</td>\n",
       "      <td>0.061458</td>\n",
       "      <td>123.50</td>\n",
       "      <td>0</td>\n",
       "    </tr>\n",
       "    <tr>\n",
       "      <th>4</th>\n",
       "      <td>2.0</td>\n",
       "      <td>-1.158233</td>\n",
       "      <td>0.877737</td>\n",
       "      <td>1.548718</td>\n",
       "      <td>0.403034</td>\n",
       "      <td>-0.407193</td>\n",
       "      <td>0.095921</td>\n",
       "      <td>0.592941</td>\n",
       "      <td>-0.270533</td>\n",
       "      <td>0.817739</td>\n",
       "      <td>...</td>\n",
       "      <td>-0.009431</td>\n",
       "      <td>0.798278</td>\n",
       "      <td>-0.137458</td>\n",
       "      <td>0.141267</td>\n",
       "      <td>-0.206010</td>\n",
       "      <td>0.502292</td>\n",
       "      <td>0.219422</td>\n",
       "      <td>0.215153</td>\n",
       "      <td>69.99</td>\n",
       "      <td>0</td>\n",
       "    </tr>\n",
       "  </tbody>\n",
       "</table>\n",
       "<p>5 rows × 31 columns</p>\n",
       "</div>"
      ],
      "text/plain": [
       "   Time        V1        V2        V3        V4        V5        V6        V7  \\\n",
       "0   0.0 -1.359807 -0.072781  2.536347  1.378155 -0.338321  0.462388  0.239599   \n",
       "1   0.0  1.191857  0.266151  0.166480  0.448154  0.060018 -0.082361 -0.078803   \n",
       "2   1.0 -1.358354 -1.340163  1.773209  0.379780 -0.503198  1.800499  0.791461   \n",
       "3   1.0 -0.966272 -0.185226  1.792993 -0.863291 -0.010309  1.247203  0.237609   \n",
       "4   2.0 -1.158233  0.877737  1.548718  0.403034 -0.407193  0.095921  0.592941   \n",
       "\n",
       "         V8        V9  ...       V21       V22       V23       V24       V25  \\\n",
       "0  0.098698  0.363787  ... -0.018307  0.277838 -0.110474  0.066928  0.128539   \n",
       "1  0.085102 -0.255425  ... -0.225775 -0.638672  0.101288 -0.339846  0.167170   \n",
       "2  0.247676 -1.514654  ...  0.247998  0.771679  0.909412 -0.689281 -0.327642   \n",
       "3  0.377436 -1.387024  ... -0.108300  0.005274 -0.190321 -1.175575  0.647376   \n",
       "4 -0.270533  0.817739  ... -0.009431  0.798278 -0.137458  0.141267 -0.206010   \n",
       "\n",
       "        V26       V27       V28  Amount  Class  \n",
       "0 -0.189115  0.133558 -0.021053  149.62      0  \n",
       "1  0.125895 -0.008983  0.014724    2.69      0  \n",
       "2 -0.139097 -0.055353 -0.059752  378.66      0  \n",
       "3 -0.221929  0.062723  0.061458  123.50      0  \n",
       "4  0.502292  0.219422  0.215153   69.99      0  \n",
       "\n",
       "[5 rows x 31 columns]"
      ]
     },
     "execution_count": 3,
     "metadata": {},
     "output_type": "execute_result"
    }
   ],
   "source": [
    "df.head()"
   ]
  },
  {
   "cell_type": "code",
   "execution_count": 4,
   "metadata": {},
   "outputs": [
    {
     "data": {
      "text/plain": [
       "(284807, 31)"
      ]
     },
     "execution_count": 4,
     "metadata": {},
     "output_type": "execute_result"
    }
   ],
   "source": [
    "df.shape"
   ]
  },
  {
   "cell_type": "code",
   "execution_count": 5,
   "metadata": {},
   "outputs": [
    {
     "name": "stdout",
     "output_type": "stream",
     "text": [
      "<class 'pandas.core.frame.DataFrame'>\n",
      "RangeIndex: 284807 entries, 0 to 284806\n",
      "Data columns (total 31 columns):\n",
      " #   Column  Non-Null Count   Dtype  \n",
      "---  ------  --------------   -----  \n",
      " 0   Time    284807 non-null  float64\n",
      " 1   V1      284807 non-null  float64\n",
      " 2   V2      284807 non-null  float64\n",
      " 3   V3      284807 non-null  float64\n",
      " 4   V4      284807 non-null  float64\n",
      " 5   V5      284807 non-null  float64\n",
      " 6   V6      284807 non-null  float64\n",
      " 7   V7      284807 non-null  float64\n",
      " 8   V8      284807 non-null  float64\n",
      " 9   V9      284807 non-null  float64\n",
      " 10  V10     284807 non-null  float64\n",
      " 11  V11     284807 non-null  float64\n",
      " 12  V12     284807 non-null  float64\n",
      " 13  V13     284807 non-null  float64\n",
      " 14  V14     284807 non-null  float64\n",
      " 15  V15     284807 non-null  float64\n",
      " 16  V16     284807 non-null  float64\n",
      " 17  V17     284807 non-null  float64\n",
      " 18  V18     284807 non-null  float64\n",
      " 19  V19     284807 non-null  float64\n",
      " 20  V20     284807 non-null  float64\n",
      " 21  V21     284807 non-null  float64\n",
      " 22  V22     284807 non-null  float64\n",
      " 23  V23     284807 non-null  float64\n",
      " 24  V24     284807 non-null  float64\n",
      " 25  V25     284807 non-null  float64\n",
      " 26  V26     284807 non-null  float64\n",
      " 27  V27     284807 non-null  float64\n",
      " 28  V28     284807 non-null  float64\n",
      " 29  Amount  284807 non-null  float64\n",
      " 30  Class   284807 non-null  int64  \n",
      "dtypes: float64(30), int64(1)\n",
      "memory usage: 67.4 MB\n"
     ]
    }
   ],
   "source": [
    "#개인 정보 보호로 인해 거래금액과 시간을 제외하고는 변수를 알 수 없음\n",
    "#v1~v28 은 이미 pca 변환을 거침 \n",
    "df.info()"
   ]
  },
  {
   "cell_type": "code",
   "execution_count": 6,
   "metadata": {},
   "outputs": [
    {
     "data": {
      "text/plain": [
       "0"
      ]
     },
     "execution_count": 6,
     "metadata": {},
     "output_type": "execute_result"
    }
   ],
   "source": [
    "#결측치 확인\n",
    "df.isna().sum().max()"
   ]
  },
  {
   "cell_type": "code",
   "execution_count": 7,
   "metadata": {},
   "outputs": [
    {
     "data": {
      "image/png": "[encoded data removed]",
      "text/plain": [
       "<Figure size 1296x288 with 2 Axes>"
      ]
     },
     "metadata": {
      "needs_background": "light"
     },
     "output_type": "display_data"
    }
   ],
   "source": [
    "# time와 amount 데이터 분포 살펴보기\n",
    "\n",
    "fig, ax = plt.subplots(1, 2, figsize=(18,4))\n",
    "\n",
    "amount_val = df['Amount'].values\n",
    "time_val = df['Time'].values\n",
    "\n",
    "sns.distplot(amount_val, ax=ax[0], color='r')\n",
    "ax[0].set_title('Distribution of Transaction Amount', fontsize=14)\n",
    "ax[0].set_xlim([min(amount_val), max(amount_val)])\n",
    "\n",
    "sns.distplot(time_val, ax=ax[1], color='b')\n",
    "ax[1].set_title('Distribution of Transaction Time', fontsize=14)\n",
    "ax[1].set_xlim([min(time_val), max(time_val)])\n",
    "\n",
    "plt.show()\n",
    "\n",
    "#amount는 0에 쏠려있음\n",
    "#time는 0~16만이 넘는 값에 분포\n",
    "#둘 다 데이터 분포가 너무 크다"
   ]
  },
  {
   "cell_type": "markdown",
   "metadata": {},
   "source": [
    "## 정규화"
   ]
  },
  {
   "cell_type": "code",
   "execution_count": 8,
   "metadata": {},
   "outputs": [],
   "source": [
    "#amount에 대한 정규화 \n",
    "scaler = StandardScaler()\n",
    "df['scaler_amount'] = scaler.fit_transform(df['Amount'].values.reshape(-1,1))\n",
    "\n",
    "rob_scaler = RobustScaler()\n",
    "df['rob_amount'] = rob_scaler.fit_transform(df['Amount'].values.reshape(-1,1))"
   ]
  },
  {
   "cell_type": "code",
   "execution_count": 9,
   "metadata": {},
   "outputs": [
    {
     "data": {
      "image/png": "[encoded data removed]",
      "text/plain": [
       "<Figure size 1296x288 with 2 Axes>"
      ]
     },
     "metadata": {
      "needs_background": "light"
     },
     "output_type": "display_data"
    }
   ],
   "source": [
    "fig, ax = plt.subplots(1, 2, figsize=(18,4))\n",
    "\n",
    "scaler_amount = df['scaler_amount'].values\n",
    "rob_amount = df['rob_amount'].values\n",
    "\n",
    "\n",
    "sns.distplot(scaler_amount, ax=ax[0], color='y')\n",
    "ax[0].set_title('Distribution of Transaction StandardScaler', fontsize=14)\n",
    "ax[0].set_xlim([min(scaler_amount), max(scaler_amount)])\n",
    "\n",
    "sns.distplot(rob_amount, ax=ax[1], color='b')\n",
    "ax[1].set_title('Distribution of Transaction RobustScaler', fontsize=14)\n",
    "ax[1].set_xlim([min(rob_amount), max(rob_amount)])\n",
    "\n",
    "plt.show()\n",
    "\n",
    "#StandardScaler 채택"
   ]
  },
  {
   "cell_type": "code",
   "execution_count": 10,
   "metadata": {},
   "outputs": [],
   "source": [
    "#time에 대한 정규화\n",
    "scaler = StandardScaler()\n",
    "df['scaler_Time'] = scaler.fit_transform(df['Time'].values.reshape(-1,1))\n",
    "\n",
    "rob_scaler = RobustScaler()\n",
    "df['rob_Time'] = rob_scaler.fit_transform(df['Time'].values.reshape(-1,1))"
   ]
  },
  {
   "cell_type": "code",
   "execution_count": 11,
   "metadata": {},
   "outputs": [
    {
     "data": {
      "image/png": "[encoded data removed]",
      "text/plain": [
       "<Figure size 1296x288 with 2 Axes>"
      ]
     },
     "metadata": {
      "needs_background": "light"
     },
     "output_type": "display_data"
    }
   ],
   "source": [
    "fig, ax = plt.subplots(1, 2, figsize=(18,4))\n",
    "\n",
    "scaler_Time = df['scaler_Time'].values\n",
    "rob_Time = df['rob_Time'].values\n",
    "\n",
    "sns.distplot(scaler_Time, ax=ax[0], color='y')\n",
    "ax[0].set_title('Distribution of Transaction StandardScaler', fontsize=14)\n",
    "ax[0].set_xlim([min(scaler_Time), max(scaler_Time)])\n",
    "\n",
    "sns.distplot(rob_Time, ax=ax[1], color='b')\n",
    "ax[1].set_title('Distribution of Transaction RobustScaler', fontsize=14)\n",
    "ax[1].set_xlim([min(rob_Time), max(rob_Time)])\n",
    "\n",
    "plt.show()\n",
    "\n",
    "#RobustScaler 채택"
   ]
  },
  {
   "cell_type": "code",
   "execution_count": 12,
   "metadata": {},
   "outputs": [],
   "source": [
    "#정규화된 데이터 추가\n",
    "df.drop(['Amount','Time','rob_amount','scaler_Time'],axis=1,inplace=True)"
   ]
  },
  {
   "cell_type": "code",
   "execution_count": 13,
   "metadata": {},
   "outputs": [
    {
     "name": "stdout",
     "output_type": "stream",
     "text": [
      "<class 'pandas.core.frame.DataFrame'>\n",
      "RangeIndex: 284807 entries, 0 to 284806\n",
      "Data columns (total 31 columns):\n",
      " #   Column         Non-Null Count   Dtype  \n",
      "---  ------         --------------   -----  \n",
      " 0   V1             284807 non-null  float64\n",
      " 1   V2             284807 non-null  float64\n",
      " 2   V3             284807 non-null  float64\n",
      " 3   V4             284807 non-null  float64\n",
      " 4   V5             284807 non-null  float64\n",
      " 5   V6             284807 non-null  float64\n",
      " 6   V7             284807 non-null  float64\n",
      " 7   V8             284807 non-null  float64\n",
      " 8   V9             284807 non-null  float64\n",
      " 9   V10            284807 non-null  float64\n",
      " 10  V11            284807 non-null  float64\n",
      " 11  V12            284807 non-null  float64\n",
      " 12  V13            284807 non-null  float64\n",
      " 13  V14            284807 non-null  float64\n",
      " 14  V15            284807 non-null  float64\n",
      " 15  V16            284807 non-null  float64\n",
      " 16  V17            284807 non-null  float64\n",
      " 17  V18            284807 non-null  float64\n",
      " 18  V19            284807 non-null  float64\n",
      " 19  V20            284807 non-null  float64\n",
      " 20  V21            284807 non-null  float64\n",
      " 21  V22            284807 non-null  float64\n",
      " 22  V23            284807 non-null  float64\n",
      " 23  V24            284807 non-null  float64\n",
      " 24  V25            284807 non-null  float64\n",
      " 25  V26            284807 non-null  float64\n",
      " 26  V27            284807 non-null  float64\n",
      " 27  V28            284807 non-null  float64\n",
      " 28  Class          284807 non-null  int64  \n",
      " 29  scaler_amount  284807 non-null  float64\n",
      " 30  rob_Time       284807 non-null  float64\n",
      "dtypes: float64(30), int64(1)\n",
      "memory usage: 67.4 MB\n"
     ]
    }
   ],
   "source": [
    "df.info()"
   ]
  },
  {
   "cell_type": "markdown",
   "metadata": {},
   "source": [
    "## 이상치 처리"
   ]
  },
  {
   "cell_type": "code",
   "execution_count": 14,
   "metadata": {},
   "outputs": [
    {
     "data": {
      "text/plain": [
       "<matplotlib.axes._subplots.AxesSubplot at 0x2136e3f35c8>"
      ]
     },
     "execution_count": 14,
     "metadata": {},
     "output_type": "execute_result"
    },
    {
     "data": {
      "image/png": "[encoded data removed]",
      "text/plain": [
       "<Figure size 1008x576 with 2 Axes>"
      ]
     },
     "metadata": {},
     "output_type": "display_data"
    }
   ],
   "source": [
    "#상관관계를 확인 후 목표변수에 영향을 많이 미치는 컬럼에서 이상치 제거\n",
    "\n",
    "sns.set(rc={'figure.figsize':(14,8)})\n",
    "corr = df.corr()\n",
    "sns.heatmap(corr, cmap='coolwarm_r')"
   ]
  },
  {
   "cell_type": "code",
   "execution_count": 15,
   "metadata": {},
   "outputs": [
    {
     "data": {
      "text/html": [
       "<div>\n",
       "<style scoped>\n",
       "    .dataframe tbody tr th:only-of-type {\n",
       "        vertical-align: middle;\n",
       "    }\n",
       "\n",
       "    .dataframe tbody tr th {\n",
       "        vertical-align: top;\n",
       "    }\n",
       "\n",
       "    .dataframe thead th {\n",
       "        text-align: right;\n",
       "    }\n",
       "</style>\n",
       "<table border=\"1\" class=\"dataframe\">\n",
       "  <thead>\n",
       "    <tr style=\"text-align: right;\">\n",
       "      <th></th>\n",
       "      <th>Class</th>\n",
       "    </tr>\n",
       "  </thead>\n",
       "  <tbody>\n",
       "    <tr>\n",
       "      <th>V17</th>\n",
       "      <td>-0.326481</td>\n",
       "    </tr>\n",
       "    <tr>\n",
       "      <th>V14</th>\n",
       "      <td>-0.302544</td>\n",
       "    </tr>\n",
       "    <tr>\n",
       "      <th>V12</th>\n",
       "      <td>-0.260593</td>\n",
       "    </tr>\n",
       "    <tr>\n",
       "      <th>V10</th>\n",
       "      <td>-0.216883</td>\n",
       "    </tr>\n",
       "    <tr>\n",
       "      <th>V16</th>\n",
       "      <td>-0.196539</td>\n",
       "    </tr>\n",
       "  </tbody>\n",
       "</table>\n",
       "</div>"
      ],
      "text/plain": [
       "        Class\n",
       "V17 -0.326481\n",
       "V14 -0.302544\n",
       "V12 -0.260593\n",
       "V10 -0.216883\n",
       "V16 -0.196539"
      ]
     },
     "execution_count": 15,
     "metadata": {},
     "output_type": "execute_result"
    }
   ],
   "source": [
    "#상관관계 수치로 확인\n",
    "# 종속변수('Class')와의 상관관계\n",
    "Corr = df.corr()\n",
    "IF = Corr['Class'].sort_values().to_frame()\n",
    "IF.head(5)"
   ]
  },
  {
   "cell_type": "code",
   "execution_count": 16,
   "metadata": {},
   "outputs": [
    {
     "data": {
      "text/plain": [
       "Text(0.5, 1.0, 'Boxplot of V17')"
      ]
     },
     "execution_count": 16,
     "metadata": {},
     "output_type": "execute_result"
    },
    {
     "data": {
      "image/png": "[encoded data removed]",
      "text/plain": [
       "<Figure size 1080x576 with 2 Axes>"
      ]
     },
     "metadata": {},
     "output_type": "display_data"
    }
   ],
   "source": [
    "#V14, V17의 상자 그림\n",
    "fig, ax = plt.subplots(1, 2, figsize=(15,8))\n",
    "\n",
    "sns.boxplot(x=df['Class'], y=df[\"V14\"],data=df, ax=ax[0])\n",
    "ax[0].set_title(\"Boxplot of V14\")\n",
    "\n",
    "sns.boxplot(x=df['Class'], y=df[\"V17\"],data=df,ax=ax[1])\n",
    "ax[1].set_title(\"Boxplot of V17\")"
   ]
  },
  {
   "cell_type": "code",
   "execution_count": 17,
   "metadata": {},
   "outputs": [
    {
     "data": {
      "text/plain": [
       "Text(0.5, 1.0, 'Boxplot of V23')"
      ]
     },
     "execution_count": 17,
     "metadata": {},
     "output_type": "execute_result"
    },
    {
     "data": {
      "image/png": "[encoded data removed]",
      "text/plain": [
       "<Figure size 1080x576 with 2 Axes>"
      ]
     },
     "metadata": {},
     "output_type": "display_data"
    }
   ],
   "source": [
    "#V22와 V23의 상자그림을 비교 \n",
    "fig, ax = plt.subplots(1, 2, figsize=(15,8))\n",
    "\n",
    "sns.boxplot(x=df['Class'], y=df[\"V22\"],data=df, ax=ax[0])\n",
    "ax[0].set_title(\"Boxplot of V22\")\n",
    "\n",
    "sns.boxplot(x=df['Class'], y=df[\"V23\"],data=df,ax=ax[1])\n",
    "ax[1].set_title(\"Boxplot of V23\")"
   ]
  },
  {
   "cell_type": "code",
   "execution_count": 18,
   "metadata": {},
   "outputs": [],
   "source": [
    "#14, 17의 이상치 제거\n",
    "def remove_outlier(d_cp, column):\n",
    "    fraud_column_data = d_cp[d_cp['Class']==0][column]\n",
    "    quan_25 = np.percentile(fraud_column_data.values,25)\n",
    "    quan_75 = np.percentile(fraud_column_data.values,75)\n",
    "    \n",
    "    iqr = quan_75-quan_25\n",
    "    iqr = iqr*1.5\n",
    "    lowest = quan_25 - iqr\n",
    "    highest = quan_75 + iqr\n",
    "    outlier_index = fraud_column_data[(fraud_column_data < lowest) | (fraud_column_data > highest)].index\n",
    "    print(len(outlier_index))\n",
    "    d_cp.drop(outlier_index, axis = 0, inplace = True)\n",
    "    print(d_cp.shape)\n",
    "    return d_cp"
   ]
  },
  {
   "cell_type": "code",
   "execution_count": 19,
   "metadata": {},
   "outputs": [
    {
     "name": "stdout",
     "output_type": "stream",
     "text": [
      "13800\n",
      "(271007, 31)\n",
      "3578\n",
      "(267429, 31)\n"
     ]
    }
   ],
   "source": [
    "df = remove_outlier(df, 'V14')\n",
    "df = remove_outlier(df, 'V17')"
   ]
  },
  {
   "cell_type": "code",
   "execution_count": 20,
   "metadata": {},
   "outputs": [
    {
     "data": {
      "text/plain": [
       "Text(0.5, 1.0, 'Boxplot of V17')"
      ]
     },
     "execution_count": 20,
     "metadata": {},
     "output_type": "execute_result"
    },
    {
     "data": {
      "image/png": "[encoded data removed]",
      "text/plain": [
       "<Figure size 1080x576 with 2 Axes>"
      ]
     },
     "metadata": {},
     "output_type": "display_data"
    }
   ],
   "source": [
    "#이상치가 제거된 V14, V17의 상자 그림\n",
    "fig, ax = plt.subplots(1, 2, figsize=(15,8))\n",
    "\n",
    "sns.boxplot(x=df['Class'], y=df[\"V14\"],data=df, ax=ax[0])\n",
    "ax[0].set_title(\"Boxplot of V14\")\n",
    "\n",
    "sns.boxplot(x=df['Class'], y=df[\"V17\"],data=df,ax=ax[1])\n",
    "ax[1].set_title(\"Boxplot of V17\")"
   ]
  },
  {
   "cell_type": "code",
   "execution_count": 21,
   "metadata": {},
   "outputs": [],
   "source": [
    "df_copy = df.copy()"
   ]
  },
  {
   "cell_type": "markdown",
   "metadata": {},
   "source": [
    "## 불균형한 데이터 처리\n",
    "\n",
    "- 언더 샘플링 : 많은 데이터 세트를 적은 데이터 세트 수준으로 감소 시키는 방법\n",
    "\n",
    "- 오버 샘플링 : 이상 데이터와 같이 적은 데이터 세트를 증식하여 학습을 위한 충분한 데이터를 확보하는 방법"
   ]
  },
  {
   "cell_type": "code",
   "execution_count": 22,
   "metadata": {},
   "outputs": [
    {
     "data": {
      "text/plain": [
       "0    266937\n",
       "1       492\n",
       "Name: Class, dtype: int64"
      ]
     },
     "execution_count": 22,
     "metadata": {},
     "output_type": "execute_result"
    }
   ],
   "source": [
    "# 목표 변수의 분포 확인\n",
    "df['Class'].value_counts()"
   ]
  },
  {
   "cell_type": "code",
   "execution_count": 23,
   "metadata": {},
   "outputs": [
    {
     "data": {
      "text/plain": [
       "<matplotlib.axes._subplots.AxesSubplot at 0x2136e4bbc08>"
      ]
     },
     "execution_count": 23,
     "metadata": {},
     "output_type": "execute_result"
    },
    {
     "data": {
      "image/png": "[encoded data removed]",
      "text/plain": [
       "<Figure size 504x288 with 1 Axes>"
      ]
     },
     "metadata": {},
     "output_type": "display_data"
    }
   ],
   "source": [
    "# 목표 변수의 분포 확인\n",
    "sns.set(rc={'figure.figsize':(7,4)})\n",
    "sns.countplot(x='Class',data=df)\n",
    "\n",
    "#문제점 : 매우 불균형함"
   ]
  },
  {
   "cell_type": "markdown",
   "metadata": {},
   "source": [
    "## 과적합을 방지하기 위한 작업"
   ]
  },
  {
   "cell_type": "code",
   "execution_count": 24,
   "metadata": {},
   "outputs": [
    {
     "name": "stdout",
     "output_type": "stream",
     "text": [
      "(213943, 30)\n",
      "(53486, 30)\n"
     ]
    }
   ],
   "source": [
    "#훈련, 테스트 데이터 나누기(8:2)\n",
    "X=df.drop(['Class'],axis=1)\n",
    "y=df['Class']\n",
    "\n",
    "X_train, X_test, y_train, y_test = train_test_split(X,y,test_size=0.20,random_state=11,shuffle=True)\n",
    "\n",
    "print(X_train.shape)\n",
    "print(X_test.shape)"
   ]
  },
  {
   "cell_type": "code",
   "execution_count": 25,
   "metadata": {},
   "outputs": [
    {
     "name": "stdout",
     "output_type": "stream",
     "text": [
      "RandomUnder 적용 전 학습용 피처/레이블 데이터 세트:  (213943, 30) (213943,)\n",
      "RandomUnder 적용 후 학습용 피처/레이블 데이터 세트:  (774, 30) (774,)\n",
      "RandomUnder 적용 후 레이블 값 분포:\n",
      " 1    387\n",
      "0    387\n",
      "Name: Class, dtype: int64\n"
     ]
    }
   ],
   "source": [
    "#X_samp, y_samp = RandomUnderSampler(random_state=0).fit_sample(X_imb, y_imb)\n",
    "rus = RandomUnderSampler(random_state=0)\n",
    "X_train_under,y_train_under = rus.fit_sample(X_train,y_train)\n",
    "print('RandomUnder 적용 전 학습용 피처/레이블 데이터 세트: ', X_train.shape, y_train.shape)\n",
    "print('RandomUnder 적용 후 학습용 피처/레이블 데이터 세트: ', X_train_under.shape, y_train_under.shape)\n",
    "print('RandomUnder 적용 후 레이블 값 분포:\\n', pd.Series(y_train_under).value_counts())"
   ]
  },
  {
   "cell_type": "code",
   "execution_count": 26,
   "metadata": {},
   "outputs": [
    {
     "data": {
      "text/html": [
       "<div>\n",
       "<style scoped>\n",
       "    .dataframe tbody tr th:only-of-type {\n",
       "        vertical-align: middle;\n",
       "    }\n",
       "\n",
       "    .dataframe tbody tr th {\n",
       "        vertical-align: top;\n",
       "    }\n",
       "\n",
       "    .dataframe thead th {\n",
       "        text-align: right;\n",
       "    }\n",
       "</style>\n",
       "<table border=\"1\" class=\"dataframe\">\n",
       "  <thead>\n",
       "    <tr style=\"text-align: right;\">\n",
       "      <th></th>\n",
       "      <th>V1</th>\n",
       "      <th>V2</th>\n",
       "      <th>V3</th>\n",
       "      <th>V4</th>\n",
       "      <th>V5</th>\n",
       "      <th>V6</th>\n",
       "      <th>V7</th>\n",
       "      <th>V8</th>\n",
       "      <th>V9</th>\n",
       "      <th>V10</th>\n",
       "      <th>...</th>\n",
       "      <th>V22</th>\n",
       "      <th>V23</th>\n",
       "      <th>V24</th>\n",
       "      <th>V25</th>\n",
       "      <th>V26</th>\n",
       "      <th>V27</th>\n",
       "      <th>V28</th>\n",
       "      <th>scaler_amount</th>\n",
       "      <th>rob_Time</th>\n",
       "      <th>Class</th>\n",
       "    </tr>\n",
       "  </thead>\n",
       "  <tbody>\n",
       "    <tr>\n",
       "      <th>0</th>\n",
       "      <td>1.155629</td>\n",
       "      <td>-0.307500</td>\n",
       "      <td>1.105649</td>\n",
       "      <td>0.685864</td>\n",
       "      <td>-0.979439</td>\n",
       "      <td>0.175827</td>\n",
       "      <td>-0.805439</td>\n",
       "      <td>0.301779</td>\n",
       "      <td>0.860971</td>\n",
       "      <td>-0.039389</td>\n",
       "      <td>...</td>\n",
       "      <td>-0.108959</td>\n",
       "      <td>-0.010896</td>\n",
       "      <td>0.008906</td>\n",
       "      <td>0.229295</td>\n",
       "      <td>0.323289</td>\n",
       "      <td>0.005010</td>\n",
       "      <td>0.011782</td>\n",
       "      <td>-0.307251</td>\n",
       "      <td>-0.624126</td>\n",
       "      <td>0</td>\n",
       "    </tr>\n",
       "    <tr>\n",
       "      <th>1</th>\n",
       "      <td>1.226937</td>\n",
       "      <td>0.100960</td>\n",
       "      <td>-0.168917</td>\n",
       "      <td>0.798603</td>\n",
       "      <td>0.660623</td>\n",
       "      <td>1.103372</td>\n",
       "      <td>-0.141816</td>\n",
       "      <td>0.269774</td>\n",
       "      <td>0.100341</td>\n",
       "      <td>0.077408</td>\n",
       "      <td>...</td>\n",
       "      <td>-0.594565</td>\n",
       "      <td>-0.181556</td>\n",
       "      <td>-1.724122</td>\n",
       "      <td>0.646354</td>\n",
       "      <td>-0.378906</td>\n",
       "      <td>0.035893</td>\n",
       "      <td>-0.003930</td>\n",
       "      <td>-0.292938</td>\n",
       "      <td>-0.085704</td>\n",
       "      <td>0</td>\n",
       "    </tr>\n",
       "    <tr>\n",
       "      <th>2</th>\n",
       "      <td>-1.110330</td>\n",
       "      <td>0.374944</td>\n",
       "      <td>1.379602</td>\n",
       "      <td>-1.678292</td>\n",
       "      <td>-1.630567</td>\n",
       "      <td>0.271700</td>\n",
       "      <td>-1.582681</td>\n",
       "      <td>1.096132</td>\n",
       "      <td>-0.839690</td>\n",
       "      <td>-0.081930</td>\n",
       "      <td>...</td>\n",
       "      <td>1.546763</td>\n",
       "      <td>-0.181595</td>\n",
       "      <td>-0.284472</td>\n",
       "      <td>-0.449561</td>\n",
       "      <td>-0.052660</td>\n",
       "      <td>-0.313229</td>\n",
       "      <td>0.015783</td>\n",
       "      <td>-0.323284</td>\n",
       "      <td>0.500793</td>\n",
       "      <td>0</td>\n",
       "    </tr>\n",
       "    <tr>\n",
       "      <th>3</th>\n",
       "      <td>-3.170818</td>\n",
       "      <td>0.185735</td>\n",
       "      <td>-3.399852</td>\n",
       "      <td>3.761155</td>\n",
       "      <td>-2.148047</td>\n",
       "      <td>-1.598944</td>\n",
       "      <td>-2.519565</td>\n",
       "      <td>1.316215</td>\n",
       "      <td>-2.400106</td>\n",
       "      <td>-4.993417</td>\n",
       "      <td>...</td>\n",
       "      <td>-0.041080</td>\n",
       "      <td>0.904395</td>\n",
       "      <td>0.180016</td>\n",
       "      <td>0.049970</td>\n",
       "      <td>-0.257100</td>\n",
       "      <td>0.859282</td>\n",
       "      <td>0.225924</td>\n",
       "      <td>1.351555</td>\n",
       "      <td>-0.160469</td>\n",
       "      <td>1</td>\n",
       "    </tr>\n",
       "    <tr>\n",
       "      <th>4</th>\n",
       "      <td>-2.003460</td>\n",
       "      <td>-7.159042</td>\n",
       "      <td>-4.050976</td>\n",
       "      <td>1.309580</td>\n",
       "      <td>-2.058102</td>\n",
       "      <td>-0.098621</td>\n",
       "      <td>2.880083</td>\n",
       "      <td>-0.727484</td>\n",
       "      <td>1.460381</td>\n",
       "      <td>-1.531608</td>\n",
       "      <td>...</td>\n",
       "      <td>-1.015232</td>\n",
       "      <td>-1.800985</td>\n",
       "      <td>0.657586</td>\n",
       "      <td>-0.435617</td>\n",
       "      <td>-0.894509</td>\n",
       "      <td>-0.397557</td>\n",
       "      <td>0.314262</td>\n",
       "      <td>8.146182</td>\n",
       "      <td>0.445447</td>\n",
       "      <td>1</td>\n",
       "    </tr>\n",
       "    <tr>\n",
       "      <th>...</th>\n",
       "      <td>...</td>\n",
       "      <td>...</td>\n",
       "      <td>...</td>\n",
       "      <td>...</td>\n",
       "      <td>...</td>\n",
       "      <td>...</td>\n",
       "      <td>...</td>\n",
       "      <td>...</td>\n",
       "      <td>...</td>\n",
       "      <td>...</td>\n",
       "      <td>...</td>\n",
       "      <td>...</td>\n",
       "      <td>...</td>\n",
       "      <td>...</td>\n",
       "      <td>...</td>\n",
       "      <td>...</td>\n",
       "      <td>...</td>\n",
       "      <td>...</td>\n",
       "      <td>...</td>\n",
       "      <td>...</td>\n",
       "      <td>...</td>\n",
       "    </tr>\n",
       "    <tr>\n",
       "      <th>769</th>\n",
       "      <td>1.037489</td>\n",
       "      <td>0.311462</td>\n",
       "      <td>1.099132</td>\n",
       "      <td>2.529935</td>\n",
       "      <td>-0.193429</td>\n",
       "      <td>0.678697</td>\n",
       "      <td>-0.280924</td>\n",
       "      <td>0.300594</td>\n",
       "      <td>-0.529349</td>\n",
       "      <td>0.615578</td>\n",
       "      <td>...</td>\n",
       "      <td>-0.696035</td>\n",
       "      <td>0.157573</td>\n",
       "      <td>-0.019570</td>\n",
       "      <td>0.155845</td>\n",
       "      <td>-0.264585</td>\n",
       "      <td>0.029741</td>\n",
       "      <td>0.020120</td>\n",
       "      <td>-0.292578</td>\n",
       "      <td>-0.521317</td>\n",
       "      <td>0</td>\n",
       "    </tr>\n",
       "    <tr>\n",
       "      <th>770</th>\n",
       "      <td>-1.179294</td>\n",
       "      <td>1.352268</td>\n",
       "      <td>0.550911</td>\n",
       "      <td>-1.359371</td>\n",
       "      <td>1.112860</td>\n",
       "      <td>-1.375839</td>\n",
       "      <td>1.536699</td>\n",
       "      <td>-0.284219</td>\n",
       "      <td>-0.344304</td>\n",
       "      <td>-1.588430</td>\n",
       "      <td>...</td>\n",
       "      <td>0.579732</td>\n",
       "      <td>-0.589660</td>\n",
       "      <td>-0.081457</td>\n",
       "      <td>1.292228</td>\n",
       "      <td>-0.150575</td>\n",
       "      <td>0.119128</td>\n",
       "      <td>0.116659</td>\n",
       "      <td>-0.288340</td>\n",
       "      <td>0.788602</td>\n",
       "      <td>0</td>\n",
       "    </tr>\n",
       "    <tr>\n",
       "      <th>771</th>\n",
       "      <td>1.264464</td>\n",
       "      <td>-1.355062</td>\n",
       "      <td>0.257735</td>\n",
       "      <td>-1.419330</td>\n",
       "      <td>-1.402198</td>\n",
       "      <td>-0.253333</td>\n",
       "      <td>-0.963857</td>\n",
       "      <td>0.028348</td>\n",
       "      <td>-2.076140</td>\n",
       "      <td>1.552333</td>\n",
       "      <td>...</td>\n",
       "      <td>-0.093105</td>\n",
       "      <td>-0.026900</td>\n",
       "      <td>-0.004248</td>\n",
       "      <td>0.251377</td>\n",
       "      <td>-0.196197</td>\n",
       "      <td>0.017906</td>\n",
       "      <td>0.020595</td>\n",
       "      <td>0.060573</td>\n",
       "      <td>-0.057825</td>\n",
       "      <td>0</td>\n",
       "    </tr>\n",
       "    <tr>\n",
       "      <th>772</th>\n",
       "      <td>-1.328513</td>\n",
       "      <td>1.695471</td>\n",
       "      <td>1.170824</td>\n",
       "      <td>3.063501</td>\n",
       "      <td>-0.036084</td>\n",
       "      <td>0.768347</td>\n",
       "      <td>-0.502803</td>\n",
       "      <td>1.081779</td>\n",
       "      <td>-2.262343</td>\n",
       "      <td>0.588736</td>\n",
       "      <td>...</td>\n",
       "      <td>0.523183</td>\n",
       "      <td>-0.327204</td>\n",
       "      <td>-0.257275</td>\n",
       "      <td>0.131594</td>\n",
       "      <td>0.478137</td>\n",
       "      <td>-0.232078</td>\n",
       "      <td>-0.119420</td>\n",
       "      <td>-0.353229</td>\n",
       "      <td>-0.570460</td>\n",
       "      <td>0</td>\n",
       "    </tr>\n",
       "    <tr>\n",
       "      <th>773</th>\n",
       "      <td>-0.417340</td>\n",
       "      <td>4.700055</td>\n",
       "      <td>-7.521767</td>\n",
       "      <td>7.671884</td>\n",
       "      <td>0.260821</td>\n",
       "      <td>-2.646693</td>\n",
       "      <td>-2.854432</td>\n",
       "      <td>0.958783</td>\n",
       "      <td>-4.588536</td>\n",
       "      <td>-6.120715</td>\n",
       "      <td>...</td>\n",
       "      <td>-0.437708</td>\n",
       "      <td>-0.090358</td>\n",
       "      <td>-0.742802</td>\n",
       "      <td>-0.312361</td>\n",
       "      <td>0.502575</td>\n",
       "      <td>0.821390</td>\n",
       "      <td>0.372379</td>\n",
       "      <td>-0.350151</td>\n",
       "      <td>0.892550</td>\n",
       "      <td>1</td>\n",
       "    </tr>\n",
       "  </tbody>\n",
       "</table>\n",
       "<p>774 rows × 31 columns</p>\n",
       "</div>"
      ],
      "text/plain": [
       "           V1        V2        V3        V4        V5        V6        V7  \\\n",
       "0    1.155629 -0.307500  1.105649  0.685864 -0.979439  0.175827 -0.805439   \n",
       "1    1.226937  0.100960 -0.168917  0.798603  0.660623  1.103372 -0.141816   \n",
       "2   -1.110330  0.374944  1.379602 -1.678292 -1.630567  0.271700 -1.582681   \n",
       "3   -3.170818  0.185735 -3.399852  3.761155 -2.148047 -1.598944 -2.519565   \n",
       "4   -2.003460 -7.159042 -4.050976  1.309580 -2.058102 -0.098621  2.880083   \n",
       "..        ...       ...       ...       ...       ...       ...       ...   \n",
       "769  1.037489  0.311462  1.099132  2.529935 -0.193429  0.678697 -0.280924   \n",
       "770 -1.179294  1.352268  0.550911 -1.359371  1.112860 -1.375839  1.536699   \n",
       "771  1.264464 -1.355062  0.257735 -1.419330 -1.402198 -0.253333 -0.963857   \n",
       "772 -1.328513  1.695471  1.170824  3.063501 -0.036084  0.768347 -0.502803   \n",
       "773 -0.417340  4.700055 -7.521767  7.671884  0.260821 -2.646693 -2.854432   \n",
       "\n",
       "           V8        V9       V10  ...       V22       V23       V24  \\\n",
       "0    0.301779  0.860971 -0.039389  ... -0.108959 -0.010896  0.008906   \n",
       "1    0.269774  0.100341  0.077408  ... -0.594565 -0.181556 -1.724122   \n",
       "2    1.096132 -0.839690 -0.081930  ...  1.546763 -0.181595 -0.284472   \n",
       "3    1.316215 -2.400106 -4.993417  ... -0.041080  0.904395  0.180016   \n",
       "4   -0.727484  1.460381 -1.531608  ... -1.015232 -1.800985  0.657586   \n",
       "..        ...       ...       ...  ...       ...       ...       ...   \n",
       "769  0.300594 -0.529349  0.615578  ... -0.696035  0.157573 -0.019570   \n",
       "770 -0.284219 -0.344304 -1.588430  ...  0.579732 -0.589660 -0.081457   \n",
       "771  0.028348 -2.076140  1.552333  ... -0.093105 -0.026900 -0.004248   \n",
       "772  1.081779 -2.262343  0.588736  ...  0.523183 -0.327204 -0.257275   \n",
       "773  0.958783 -4.588536 -6.120715  ... -0.437708 -0.090358 -0.742802   \n",
       "\n",
       "          V25       V26       V27       V28  scaler_amount  rob_Time  Class  \n",
       "0    0.229295  0.323289  0.005010  0.011782      -0.307251 -0.624126      0  \n",
       "1    0.646354 -0.378906  0.035893 -0.003930      -0.292938 -0.085704      0  \n",
       "2   -0.449561 -0.052660 -0.313229  0.015783      -0.323284  0.500793      0  \n",
       "3    0.049970 -0.257100  0.859282  0.225924       1.351555 -0.160469      1  \n",
       "4   -0.435617 -0.894509 -0.397557  0.314262       8.146182  0.445447      1  \n",
       "..        ...       ...       ...       ...            ...       ...    ...  \n",
       "769  0.155845 -0.264585  0.029741  0.020120      -0.292578 -0.521317      0  \n",
       "770  1.292228 -0.150575  0.119128  0.116659      -0.288340  0.788602      0  \n",
       "771  0.251377 -0.196197  0.017906  0.020595       0.060573 -0.057825      0  \n",
       "772  0.131594  0.478137 -0.232078 -0.119420      -0.353229 -0.570460      0  \n",
       "773 -0.312361  0.502575  0.821390  0.372379      -0.350151  0.892550      1  \n",
       "\n",
       "[774 rows x 31 columns]"
      ]
     },
     "execution_count": 26,
     "metadata": {},
     "output_type": "execute_result"
    }
   ],
   "source": [
    "dt = pd.concat([X_train_under,y_train_under],axis=1)\n",
    "df_under = dt.sample(len(dt)).reset_index(drop=True)\n",
    "df_under"
   ]
  },
  {
   "cell_type": "code",
   "execution_count": 27,
   "metadata": {},
   "outputs": [
    {
     "name": "stdout",
     "output_type": "stream",
     "text": [
      "(619, 30)\n",
      "(155, 30)\n"
     ]
    }
   ],
   "source": [
    "#훈련, 검증 데이터 나누기(8:2)\n",
    "X=dt.drop(['Class'],axis=1)\n",
    "y=dt['Class']\n",
    "\n",
    "X_train, X_val, y_train, y_val = train_test_split(X,y,test_size=0.20,random_state=10,shuffle=True)\n",
    "\n",
    "print(X_train.shape)\n",
    "print(X_val.shape)"
   ]
  },
  {
   "cell_type": "markdown",
   "metadata": {},
   "source": [
    "## 1. 언더 샘플링에서 모델링"
   ]
  },
  {
   "cell_type": "code",
   "execution_count": 28,
   "metadata": {},
   "outputs": [
    {
     "data": {
      "text/plain": [
       "<matplotlib.axes._subplots.AxesSubplot at 0x2136e508148>"
      ]
     },
     "execution_count": 28,
     "metadata": {},
     "output_type": "execute_result"
    },
    {
     "data": {
      "image/png": "[encoded data removed]",
      "text/plain": [
       "<Figure size 504x288 with 1 Axes>"
      ]
     },
     "metadata": {},
     "output_type": "display_data"
    }
   ],
   "source": [
    "sns.countplot(x='Class',data=df_under)"
   ]
  },
  {
   "cell_type": "markdown",
   "metadata": {},
   "source": [
    "## 모델링\n",
    "\n",
    "- 검증 데이터(validation data)를 사용해 모델 생성"
   ]
  },
  {
   "cell_type": "code",
   "execution_count": 29,
   "metadata": {},
   "outputs": [],
   "source": [
    "#모델링 함수\n",
    "def modeling(model,X_train,X_val,y_train,y_val):\n",
    "    model.fit(X_train,y_train)\n",
    "    pred = model.predict(X_val)\n",
    "    metrics(y_val,pred)"
   ]
  },
  {
   "cell_type": "code",
   "execution_count": 30,
   "metadata": {},
   "outputs": [],
   "source": [
    "#정확도, 정밀도, 재현율, f1-score, auroc 확인\n",
    "def metrics(y_val,pred):\n",
    "    accuracy = accuracy_score(y_val,pred)\n",
    "    precision = precision_score(y_val,pred)\n",
    "    recall = recall_score(y_val,pred)\n",
    "    f1 = f1_score(y_val,pred)\n",
    "    roc_score = roc_auc_score(y_val,pred,average='macro')\n",
    "    print('정확도 : {0:.2f}, 정밀도 : {1:.2f}, 재현율 : {2:.2f}'.format(accuracy,precision,recall))\n",
    "    print('f1-score : {0:.2f}, auc : {1:.3f}'.format(f1,roc_score))"
   ]
  },
  {
   "cell_type": "code",
   "execution_count": 31,
   "metadata": {},
   "outputs": [
    {
     "name": "stdout",
     "output_type": "stream",
     "text": [
      "정확도 : 0.96, 정밀도 : 0.99, 재현율 : 0.94\n",
      "f1-score : 0.96, auc : 0.962\n"
     ]
    }
   ],
   "source": [
    "#로지스틱 회귀\n",
    "lr = LogisticRegression(random_state = 0,C=1000)\n",
    "modeling(lr,X_train,X_val,y_train,y_val)"
   ]
  },
  {
   "cell_type": "code",
   "execution_count": 32,
   "metadata": {},
   "outputs": [
    {
     "name": "stdout",
     "output_type": "stream",
     "text": [
      "정확도 : 0.97, 정밀도 : 1.00, 재현율 : 0.95\n",
      "f1-score : 0.97, auc : 0.975\n"
     ]
    }
   ],
   "source": [
    "#랜덤 포레스트\n",
    "rfc = RandomForestClassifier(n_estimators=200,random_state=300, max_depth=10,n_jobs=-1)\n",
    "modeling(rfc,X_train,X_val,y_train,y_val)"
   ]
  },
  {
   "cell_type": "code",
   "execution_count": 33,
   "metadata": {},
   "outputs": [
    {
     "name": "stdout",
     "output_type": "stream",
     "text": [
      "정확도 : 0.95, 정밀도 : 1.00, 재현율 : 0.90\n",
      "f1-score : 0.95, auc : 0.951\n"
     ]
    }
   ],
   "source": [
    "#svm\n",
    "svm = SVC()\n",
    "modeling(svm,X_train,X_val,y_train,y_val)"
   ]
  },
  {
   "cell_type": "code",
   "execution_count": 34,
   "metadata": {},
   "outputs": [
    {
     "name": "stdout",
     "output_type": "stream",
     "text": [
      "정확도 : 0.97, 정밀도 : 1.00, 재현율 : 0.94\n",
      "f1-score : 0.97, auc : 0.969\n"
     ]
    }
   ],
   "source": [
    "#lgbm\n",
    "lgb = LGBMClassifier(n_estimators=300,num_leaves=64,n_jobs=-1,boost_from_average=False)\n",
    "modeling(lgb,X_train,X_val,y_train,y_val)"
   ]
  },
  {
   "cell_type": "markdown",
   "metadata": {},
   "source": [
    "### 테스트 데이터 정확도 확인"
   ]
  },
  {
   "cell_type": "code",
   "execution_count": 35,
   "metadata": {},
   "outputs": [
    {
     "name": "stdout",
     "output_type": "stream",
     "text": [
      "정확도 : 0.98, 정밀도 : 0.08, 재현율 : 0.96\n",
      "f1-score : 0.15, auc : 0.970\n"
     ]
    }
   ],
   "source": [
    "#로지스틱 회귀\n",
    "lr = LogisticRegression()\n",
    "modeling(lr,X_train,X_test,y_train,y_test)"
   ]
  },
  {
   "cell_type": "code",
   "execution_count": 36,
   "metadata": {},
   "outputs": [
    {
     "name": "stdout",
     "output_type": "stream",
     "text": [
      "정확도 : 0.99, 정밀도 : 0.16, 재현율 : 0.94\n",
      "f1-score : 0.28, auc : 0.967\n"
     ]
    }
   ],
   "source": [
    "#랜덤 포레스트\n",
    "rfc = RandomForestClassifier()\n",
    "modeling(rfc,X_train,X_test,y_train,y_test)"
   ]
  },
  {
   "cell_type": "code",
   "execution_count": 37,
   "metadata": {},
   "outputs": [
    {
     "name": "stdout",
     "output_type": "stream",
     "text": [
      "정확도 : 0.98, 정밀도 : 0.10, 재현율 : 0.96\n",
      "f1-score : 0.18, auc : 0.972\n"
     ]
    }
   ],
   "source": [
    "#xgb\n",
    "xgb = XGBClassifier()\n",
    "modeling(xgb,X_train,X_test,y_train,y_test)"
   ]
  },
  {
   "cell_type": "code",
   "execution_count": 38,
   "metadata": {},
   "outputs": [
    {
     "name": "stdout",
     "output_type": "stream",
     "text": [
      "정확도 : 0.99, 정밀도 : 0.12, 재현율 : 0.95\n",
      "f1-score : 0.21, auc : 0.969\n"
     ]
    }
   ],
   "source": [
    "#lgbm\n",
    "lgb = LGBMClassifier(n_estimators=300,num_leaves=64,n_jobs=-1,boost_from_average=False)\n",
    "modeling(lgb,X_train,X_test,y_train,y_test)"
   ]
  },
  {
   "cell_type": "code",
   "execution_count": 39,
   "metadata": {},
   "outputs": [
    {
     "data": {
      "image/png": "[encoded data removed]",
      "text/plain": [
       "<Figure size 1584x864 with 8 Axes>"
      ]
     },
     "metadata": {},
     "output_type": "display_data"
    }
   ],
   "source": [
    "#히트맵 그리기\n",
    "y_pred_log_reg = lr.predict(X_test)\n",
    "y_pred_rfc = rfc.predict(X_test)\n",
    "y_pred_xgb = xgb.predict(X_test)\n",
    "y_pred_lgb = lgb.predict(X_test)\n",
    "\n",
    "\n",
    "lr = confusion_matrix(y_test, y_pred_log_reg)\n",
    "rfc = confusion_matrix(y_test, y_pred_rfc)\n",
    "xgb = confusion_matrix(y_test, y_pred_xgb)\n",
    "lgb = confusion_matrix(y_test, y_pred_lgb)\n",
    "\n",
    "fig, ax = plt.subplots(2, 2,figsize=(22,12))\n",
    "\n",
    "\n",
    "sns.heatmap(lr, ax=ax[0][0], annot=True, cmap=plt.cm.Reds)\n",
    "ax[0, 0].set_title(\"Logistic Regression \\n Confusion Matrix\", fontsize=14)\n",
    "ax[0, 0].set_xticklabels(['', ''], fontsize=30, rotation=90)\n",
    "ax[0, 0].set_yticklabels(['', ''], fontsize=30, rotation=360)\n",
    "\n",
    "sns.heatmap(rfc, ax=ax[0][1], annot=True, cmap=plt.cm.Reds)\n",
    "ax[0][1].set_title(\"random forest \\n Confusion Matrix\", fontsize=14)\n",
    "ax[0][1].set_xticklabels(['', ''], fontsize=30, rotation=90)\n",
    "ax[0][1].set_yticklabels(['', ''], fontsize=30, rotation=360)\n",
    "\n",
    "sns.heatmap(xgb, ax=ax[1][0], annot=True, cmap=plt.cm.Reds)\n",
    "ax[1][0].set_title(\"XGB Classifier \\n Confusion Matrix\", fontsize=14)\n",
    "ax[1][0].set_xticklabels(['', ''], fontsize=30, rotation=90)\n",
    "ax[1][0].set_yticklabels(['', ''], fontsize=30, rotation=360)\n",
    "\n",
    "sns.heatmap(lgb, ax=ax[1][1], annot=True, cmap=plt.cm.Reds)\n",
    "ax[1][1].set_title(\"light gbm \\n Confusion Matrix\", fontsize=14)\n",
    "ax[1][1].set_xticklabels(['', ''], fontsize=30, rotation=90)\n",
    "ax[1][1].set_yticklabels(['', ''], fontsize=30, rotation=360)\n",
    "\n",
    "plt.show()"
   ]
  },
  {
   "cell_type": "markdown",
   "metadata": {},
   "source": [
    "## 언더 샘플링 신경망"
   ]
  },
  {
   "cell_type": "code",
   "execution_count": 40,
   "metadata": {},
   "outputs": [],
   "source": [
    "#언더 샘플링에서 ANN\n",
    "import keras\n",
    "from keras import backend as K\n",
    "from keras.layers.core import Dense\n",
    "from keras.optimizers import Adam\n",
    "from keras.metrics import binary_crossentropy\n",
    "from keras.models import *\n",
    "from keras.layers import *\n",
    "\n",
    "\n",
    "model = Sequential()\n",
    "model.add(Dense(12, input_shape=(30, ), activation='relu'))\n",
    "model.add(Dense(12, activation='relu'))\n",
    "model.add(Dropout(0.3))\n",
    "\n",
    "model.add(Dense(1, activation='sigmoid'))\n",
    "optimizer = Adam()\n",
    "model.compile(optimizer, loss='binary_crossentropy', metrics=['accuracy'])"
   ]
  },
  {
   "cell_type": "code",
   "execution_count": 41,
   "metadata": {},
   "outputs": [
    {
     "name": "stdout",
     "output_type": "stream",
     "text": [
      "Model: \"sequential\"\n",
      "_________________________________________________________________\n",
      "Layer (type)                 Output Shape              Param #   \n",
      "=================================================================\n",
      "dense (Dense)                (None, 12)                372       \n",
      "_________________________________________________________________\n",
      "dense_1 (Dense)              (None, 12)                156       \n",
      "_________________________________________________________________\n",
      "dropout (Dropout)            (None, 12)                0         \n",
      "_________________________________________________________________\n",
      "dense_2 (Dense)              (None, 1)                 13        \n",
      "=================================================================\n",
      "Total params: 541\n",
      "Trainable params: 541\n",
      "Non-trainable params: 0\n",
      "_________________________________________________________________\n"
     ]
    }
   ],
   "source": [
    "model.summary()"
   ]
  },
  {
   "cell_type": "code",
   "execution_count": 42,
   "metadata": {},
   "outputs": [
    {
     "name": "stdout",
     "output_type": "stream",
     "text": [
      "Epoch 1/10\n",
      "124/124 [==============================] - 1s 10ms/step - loss: 0.5840 - accuracy: 0.5832 - val_loss: 0.4327 - val_accuracy: 0.6968\n",
      "Epoch 2/10\n",
      "124/124 [==============================] - 1s 5ms/step - loss: 0.4548 - accuracy: 0.7754 - val_loss: 0.3521 - val_accuracy: 0.9097\n",
      "Epoch 3/10\n",
      "124/124 [==============================] - 1s 4ms/step - loss: 0.3656 - accuracy: 0.8869 - val_loss: 0.2818 - val_accuracy: 0.9419\n",
      "Epoch 4/10\n",
      "124/124 [==============================] - 1s 4ms/step - loss: 0.2999 - accuracy: 0.9144 - val_loss: 0.2261 - val_accuracy: 0.9419\n",
      "Epoch 5/10\n",
      "124/124 [==============================] - 0s 4ms/step - loss: 0.2769 - accuracy: 0.9079 - val_loss: 0.1914 - val_accuracy: 0.9484\n",
      "Epoch 6/10\n",
      "124/124 [==============================] - 1s 5ms/step - loss: 0.2411 - accuracy: 0.9176 - val_loss: 0.1630 - val_accuracy: 0.9613\n",
      "Epoch 7/10\n",
      "124/124 [==============================] - 1s 5ms/step - loss: 0.2072 - accuracy: 0.9257 - val_loss: 0.1423 - val_accuracy: 0.9613\n",
      "Epoch 8/10\n",
      "124/124 [==============================] - 0s 3ms/step - loss: 0.2018 - accuracy: 0.9289 - val_loss: 0.1281 - val_accuracy: 0.9613\n",
      "Epoch 9/10\n",
      "124/124 [==============================] - 0s 4ms/step - loss: 0.1784 - accuracy: 0.9386 - val_loss: 0.1158 - val_accuracy: 0.9613\n",
      "Epoch 10/10\n",
      "124/124 [==============================] - 1s 5ms/step - loss: 0.1749 - accuracy: 0.9305 - val_loss: 0.1071 - val_accuracy: 0.9677\n"
     ]
    }
   ],
   "source": [
    "history=model.fit(X_train,y_train,epochs=10,batch_size=5,validation_data=(X_val,y_val))"
   ]
  },
  {
   "cell_type": "code",
   "execution_count": 43,
   "metadata": {},
   "outputs": [
    {
     "name": "stdout",
     "output_type": "stream",
     "text": [
      "1672/1672 [==============================] - 4s 2ms/step - loss: 0.1329 - accuracy: 0.9825\n",
      "\n",
      " 테스트 정확도: 0.9825\n"
     ]
    }
   ],
   "source": [
    "#가장 정확도가 높음\n",
    "print(\"\\n 테스트 정확도: %.4f\" % (model.evaluate(X_test, y_test)[1]))"
   ]
  },
  {
   "cell_type": "code",
   "execution_count": 44,
   "metadata": {},
   "outputs": [
    {
     "data": {
      "text/plain": [
       "dict_keys(['loss', 'accuracy', 'val_loss', 'val_accuracy'])"
      ]
     },
     "execution_count": 44,
     "metadata": {},
     "output_type": "execute_result"
    }
   ],
   "source": [
    "history.history.keys()"
   ]
  },
  {
   "cell_type": "code",
   "execution_count": 45,
   "metadata": {},
   "outputs": [
    {
     "data": {
      "image/png": "[encoded data removed]",
      "text/plain": [
       "<Figure size 432x288 with 1 Axes>"
      ]
     },
     "metadata": {
      "needs_background": "light"
     },
     "output_type": "display_data"
    }
   ],
   "source": [
    "import matplotlib.pyplot as plt\n",
    "%matplotlib inline\n",
    "\n",
    "history_dict = history.history\n",
    "loss = history_dict['loss']\n",
    "val_loss = history_dict['val_loss']\n",
    "\n",
    "epochs = range(1, len(loss)+1)\n",
    "plt.plot(epochs, loss, 'y', label='Training loss')\n",
    "plt.plot(epochs, val_loss, 'r', label='Validation loss') \n",
    "plt.title('Training & Validation Loss')\n",
    "plt.xlabel('Epochs')\n",
    "plt.ylabel('Loss')\n",
    "plt.legend()\n",
    "\n",
    "plt.show()"
   ]
  },
  {
   "cell_type": "code",
   "execution_count": 47,
   "metadata": {},
   "outputs": [
    {
     "data": {
      "image/png": "[encoded data removed]",
      "text/plain": [
       "<Figure size 432x288 with 1 Axes>"
      ]
     },
     "metadata": {
      "needs_background": "light"
     },
     "output_type": "display_data"
    }
   ],
   "source": [
    "plt.clf() #그래프 초기화하기\n",
    "acc = history_dict['accuracy']\n",
    "val_acc = history_dict['val_accuracy']\n",
    "\n",
    "plt.plot(epochs, acc, 'y', label='Training acc') \n",
    "plt.plot(epochs, val_acc, 'r', label='Validation acc') \n",
    "plt.title('Training & Validation accuracy')\n",
    "plt.xlabel('Epochs')\n",
    "plt.ylabel('Accuracy')\n",
    "plt.legend()\n",
    "\n",
    "plt.show()"
   ]
  },
  {
   "cell_type": "code",
   "execution_count": 48,
   "metadata": {},
   "outputs": [],
   "source": [
    "import itertools\n",
    "# Create a confusion matrix\n",
    "def plot_confusion_matrix(cm, classes,\n",
    "                          normalize=False,\n",
    "                          title='Confusion matrix',\n",
    "                          cmap=plt.cm.Blues):\n",
    "\n",
    "    plt.imshow(cm, interpolation='nearest', cmap=cmap)\n",
    "    plt.title(title, fontsize=17)\n",
    "    plt.colorbar()\n",
    "    tick_marks = np.arange(len(classes))\n",
    "    plt.xticks(tick_marks, classes, rotation=90)\n",
    "    plt.yticks(tick_marks, classes)\n",
    "\n",
    "    fmt = '.2f' if normalize else 'd'\n",
    "    thresh = cm.max() / 2.\n",
    "    for i, j in itertools.product(range(cm.shape[0]), range(cm.shape[1])):\n",
    "        plt.text(j, i, format(cm[i, j], fmt),\n",
    "                 horizontalalignment=\"center\",\n",
    "                 color=\"white\" if cm[i, j] > thresh else \"black\")\n",
    "\n",
    "    plt.tight_layout()\n",
    "    plt.ylabel('True label')\n",
    "    plt.xlabel('Predicted label')"
   ]
  },
  {
   "cell_type": "code",
   "execution_count": 49,
   "metadata": {},
   "outputs": [
    {
     "name": "stdout",
     "output_type": "stream",
     "text": [
      "WARNING:tensorflow:From <ipython-input-49-fc6070744811>:1: Sequential.predict_classes (from tensorflow.python.keras.engine.sequential) is deprecated and will be removed after 2021-01-01.\n",
      "Instructions for updating:\n",
      "Please use instead:* `np.argmax(model.predict(x), axis=-1)`,   if your model does multi-class classification   (e.g. if it uses a `softmax` last-layer activation).* `(model.predict(x) > 0.5).astype(\"int32\")`,   if your model does binary classification   (e.g. if it uses a `sigmoid` last-layer activation).\n"
     ]
    }
   ],
   "source": [
    "undersample_fraud_predictions = model.predict_classes(X_test)"
   ]
  },
  {
   "cell_type": "code",
   "execution_count": 50,
   "metadata": {},
   "outputs": [
    {
     "data": {
      "image/png": "[encoded data removed]",
      "text/plain": [
       "<Figure size 936x432 with 2 Axes>"
      ]
     },
     "metadata": {
      "needs_background": "light"
     },
     "output_type": "display_data"
    }
   ],
   "source": [
    "undersample_cm = confusion_matrix(y_test, undersample_fraud_predictions)\n",
    "labels = ['No Fraud', 'Fraud']\n",
    "\n",
    "fig = plt.figure(figsize=(13,6))\n",
    "plot_confusion_matrix(undersample_cm, labels, title=\"Random UnderSample \\n Confusion Matrix\", cmap=plt.cm.Reds)"
   ]
  },
  {
   "cell_type": "code",
   "execution_count": 51,
   "metadata": {},
   "outputs": [
    {
     "data": {
      "text/plain": [
       "0.9627269734817364"
      ]
     },
     "execution_count": 51,
     "metadata": {},
     "output_type": "execute_result"
    }
   ],
   "source": [
    "roc_auc_score(y_test,undersample_fraud_predictions,average='macro')"
   ]
  },
  {
   "cell_type": "markdown",
   "metadata": {},
   "source": [
    "## 2. 오버 샘플링에서 모델링"
   ]
  },
  {
   "cell_type": "code",
   "execution_count": 52,
   "metadata": {},
   "outputs": [],
   "source": [
    "df_over = df_copy"
   ]
  },
  {
   "cell_type": "code",
   "execution_count": 53,
   "metadata": {},
   "outputs": [
    {
     "name": "stdout",
     "output_type": "stream",
     "text": [
      "(213943, 30)\n",
      "(53486, 30)\n"
     ]
    }
   ],
   "source": [
    "#훈련, 테스트 데이터 나누기(7:3)\n",
    "X=df_over.drop(['Class'],axis=1)\n",
    "y=df_over['Class']\n",
    "\n",
    "X_train, X_test, y_train, y_test = train_test_split(X,y,test_size=0.20,random_state=10)\n",
    "\n",
    "print(X_train.shape)\n",
    "print(X_test.shape)"
   ]
  },
  {
   "cell_type": "code",
   "execution_count": 54,
   "metadata": {},
   "outputs": [
    {
     "name": "stdout",
     "output_type": "stream",
     "text": [
      "SMOTE 적용 전 학습용 피처/레이블 데이터 세트:  (213943, 30) (213943,)\n",
      "SMOTE 적용 후 학습용 피처/레이블 데이터 세트:  (427094, 30) (427094,)\n",
      "SMOTE 적용 후 레이블 값 분포: \n",
      " 1    213547\n",
      "0    213547\n",
      "Name: Class, dtype: int64\n"
     ]
    }
   ],
   "source": [
    "from imblearn.over_sampling import SMOTE\n",
    "smote = SMOTE(random_state=0)\n",
    "X_train_over,y_train_over = smote.fit_sample(X_train,y_train)\n",
    "print('SMOTE 적용 전 학습용 피처/레이블 데이터 세트: ', X_train.shape, y_train.shape)\n",
    "print('SMOTE 적용 후 학습용 피처/레이블 데이터 세트: ', X_train_over.shape, y_train_over.shape)\n",
    "print('SMOTE 적용 후 레이블 값 분포: \\n', pd.Series(y_train_over).value_counts())"
   ]
  },
  {
   "cell_type": "code",
   "execution_count": 55,
   "metadata": {},
   "outputs": [
    {
     "data": {
      "text/html": [
       "<div>\n",
       "<style scoped>\n",
       "    .dataframe tbody tr th:only-of-type {\n",
       "        vertical-align: middle;\n",
       "    }\n",
       "\n",
       "    .dataframe tbody tr th {\n",
       "        vertical-align: top;\n",
       "    }\n",
       "\n",
       "    .dataframe thead th {\n",
       "        text-align: right;\n",
       "    }\n",
       "</style>\n",
       "<table border=\"1\" class=\"dataframe\">\n",
       "  <thead>\n",
       "    <tr style=\"text-align: right;\">\n",
       "      <th></th>\n",
       "      <th>V1</th>\n",
       "      <th>V2</th>\n",
       "      <th>V3</th>\n",
       "      <th>V4</th>\n",
       "      <th>V5</th>\n",
       "      <th>V6</th>\n",
       "      <th>V7</th>\n",
       "      <th>V8</th>\n",
       "      <th>V9</th>\n",
       "      <th>V10</th>\n",
       "      <th>...</th>\n",
       "      <th>V22</th>\n",
       "      <th>V23</th>\n",
       "      <th>V24</th>\n",
       "      <th>V25</th>\n",
       "      <th>V26</th>\n",
       "      <th>V27</th>\n",
       "      <th>V28</th>\n",
       "      <th>scaler_amount</th>\n",
       "      <th>rob_Time</th>\n",
       "      <th>Class</th>\n",
       "    </tr>\n",
       "  </thead>\n",
       "  <tbody>\n",
       "    <tr>\n",
       "      <th>0</th>\n",
       "      <td>-1.263741</td>\n",
       "      <td>2.214427</td>\n",
       "      <td>-3.150293</td>\n",
       "      <td>2.100071</td>\n",
       "      <td>0.613240</td>\n",
       "      <td>-1.900459</td>\n",
       "      <td>-0.585863</td>\n",
       "      <td>-0.246818</td>\n",
       "      <td>-1.730000</td>\n",
       "      <td>-2.724503</td>\n",
       "      <td>...</td>\n",
       "      <td>0.761851</td>\n",
       "      <td>0.059043</td>\n",
       "      <td>-0.261111</td>\n",
       "      <td>-0.426835</td>\n",
       "      <td>-0.438092</td>\n",
       "      <td>0.571798</td>\n",
       "      <td>0.411627</td>\n",
       "      <td>-0.219343</td>\n",
       "      <td>0.918445</td>\n",
       "      <td>1</td>\n",
       "    </tr>\n",
       "    <tr>\n",
       "      <th>1</th>\n",
       "      <td>-0.894757</td>\n",
       "      <td>0.902752</td>\n",
       "      <td>0.157064</td>\n",
       "      <td>-1.461818</td>\n",
       "      <td>0.468511</td>\n",
       "      <td>0.092881</td>\n",
       "      <td>0.100389</td>\n",
       "      <td>0.640745</td>\n",
       "      <td>0.096933</td>\n",
       "      <td>-1.501749</td>\n",
       "      <td>...</td>\n",
       "      <td>0.861652</td>\n",
       "      <td>-0.156786</td>\n",
       "      <td>0.139535</td>\n",
       "      <td>-0.393529</td>\n",
       "      <td>0.337009</td>\n",
       "      <td>-0.112963</td>\n",
       "      <td>0.121339</td>\n",
       "      <td>-0.273268</td>\n",
       "      <td>0.913016</td>\n",
       "      <td>0</td>\n",
       "    </tr>\n",
       "    <tr>\n",
       "      <th>2</th>\n",
       "      <td>-14.906318</td>\n",
       "      <td>6.955964</td>\n",
       "      <td>-18.326661</td>\n",
       "      <td>11.221378</td>\n",
       "      <td>-5.431998</td>\n",
       "      <td>-2.787559</td>\n",
       "      <td>-15.777790</td>\n",
       "      <td>-1.106288</td>\n",
       "      <td>-6.983382</td>\n",
       "      <td>-13.902392</td>\n",
       "      <td>...</td>\n",
       "      <td>0.522311</td>\n",
       "      <td>-2.060399</td>\n",
       "      <td>-0.894578</td>\n",
       "      <td>0.546724</td>\n",
       "      <td>0.783897</td>\n",
       "      <td>2.499306</td>\n",
       "      <td>-1.079416</td>\n",
       "      <td>-0.349231</td>\n",
       "      <td>-0.777230</td>\n",
       "      <td>1</td>\n",
       "    </tr>\n",
       "    <tr>\n",
       "      <th>3</th>\n",
       "      <td>-1.343915</td>\n",
       "      <td>2.486806</td>\n",
       "      <td>-0.666106</td>\n",
       "      <td>4.512272</td>\n",
       "      <td>0.077555</td>\n",
       "      <td>0.103115</td>\n",
       "      <td>0.008053</td>\n",
       "      <td>1.130809</td>\n",
       "      <td>-2.919924</td>\n",
       "      <td>1.415100</td>\n",
       "      <td>...</td>\n",
       "      <td>0.623153</td>\n",
       "      <td>0.052563</td>\n",
       "      <td>0.112320</td>\n",
       "      <td>-0.466371</td>\n",
       "      <td>0.343997</td>\n",
       "      <td>-0.168170</td>\n",
       "      <td>0.011045</td>\n",
       "      <td>-0.349231</td>\n",
       "      <td>0.717466</td>\n",
       "      <td>0</td>\n",
       "    </tr>\n",
       "    <tr>\n",
       "      <th>4</th>\n",
       "      <td>-0.901317</td>\n",
       "      <td>3.014035</td>\n",
       "      <td>-5.252978</td>\n",
       "      <td>3.156155</td>\n",
       "      <td>-0.852698</td>\n",
       "      <td>-2.339562</td>\n",
       "      <td>-2.193165</td>\n",
       "      <td>0.654530</td>\n",
       "      <td>-2.828663</td>\n",
       "      <td>-5.957475</td>\n",
       "      <td>...</td>\n",
       "      <td>0.085376</td>\n",
       "      <td>-0.194862</td>\n",
       "      <td>-0.361414</td>\n",
       "      <td>0.552058</td>\n",
       "      <td>0.607427</td>\n",
       "      <td>0.701248</td>\n",
       "      <td>0.354584</td>\n",
       "      <td>-0.023374</td>\n",
       "      <td>0.680204</td>\n",
       "      <td>1</td>\n",
       "    </tr>\n",
       "    <tr>\n",
       "      <th>...</th>\n",
       "      <td>...</td>\n",
       "      <td>...</td>\n",
       "      <td>...</td>\n",
       "      <td>...</td>\n",
       "      <td>...</td>\n",
       "      <td>...</td>\n",
       "      <td>...</td>\n",
       "      <td>...</td>\n",
       "      <td>...</td>\n",
       "      <td>...</td>\n",
       "      <td>...</td>\n",
       "      <td>...</td>\n",
       "      <td>...</td>\n",
       "      <td>...</td>\n",
       "      <td>...</td>\n",
       "      <td>...</td>\n",
       "      <td>...</td>\n",
       "      <td>...</td>\n",
       "      <td>...</td>\n",
       "      <td>...</td>\n",
       "      <td>...</td>\n",
       "    </tr>\n",
       "    <tr>\n",
       "      <th>427089</th>\n",
       "      <td>-2.244514</td>\n",
       "      <td>1.785094</td>\n",
       "      <td>-0.421661</td>\n",
       "      <td>2.249912</td>\n",
       "      <td>-0.787574</td>\n",
       "      <td>-0.164200</td>\n",
       "      <td>0.413499</td>\n",
       "      <td>-0.414937</td>\n",
       "      <td>-0.307649</td>\n",
       "      <td>-1.628627</td>\n",
       "      <td>...</td>\n",
       "      <td>-0.868877</td>\n",
       "      <td>0.143420</td>\n",
       "      <td>-0.073271</td>\n",
       "      <td>-0.141767</td>\n",
       "      <td>-0.544522</td>\n",
       "      <td>0.070993</td>\n",
       "      <td>-0.145520</td>\n",
       "      <td>0.538026</td>\n",
       "      <td>-0.908271</td>\n",
       "      <td>1</td>\n",
       "    </tr>\n",
       "    <tr>\n",
       "      <th>427090</th>\n",
       "      <td>0.706237</td>\n",
       "      <td>2.925989</td>\n",
       "      <td>-5.835309</td>\n",
       "      <td>5.901911</td>\n",
       "      <td>0.362335</td>\n",
       "      <td>-1.041420</td>\n",
       "      <td>-2.802091</td>\n",
       "      <td>0.726986</td>\n",
       "      <td>-2.667190</td>\n",
       "      <td>-4.627660</td>\n",
       "      <td>...</td>\n",
       "      <td>-0.908053</td>\n",
       "      <td>-0.044837</td>\n",
       "      <td>-0.805963</td>\n",
       "      <td>0.346400</td>\n",
       "      <td>-0.008788</td>\n",
       "      <td>0.789163</td>\n",
       "      <td>0.405129</td>\n",
       "      <td>-0.339688</td>\n",
       "      <td>0.556525</td>\n",
       "      <td>1</td>\n",
       "    </tr>\n",
       "    <tr>\n",
       "      <th>427091</th>\n",
       "      <td>-0.404184</td>\n",
       "      <td>0.785845</td>\n",
       "      <td>0.709725</td>\n",
       "      <td>-0.612580</td>\n",
       "      <td>0.703825</td>\n",
       "      <td>-1.099587</td>\n",
       "      <td>1.094726</td>\n",
       "      <td>-0.340571</td>\n",
       "      <td>-0.434312</td>\n",
       "      <td>-0.661131</td>\n",
       "      <td>...</td>\n",
       "      <td>-0.588826</td>\n",
       "      <td>0.046757</td>\n",
       "      <td>0.076894</td>\n",
       "      <td>0.039458</td>\n",
       "      <td>0.195505</td>\n",
       "      <td>-0.162924</td>\n",
       "      <td>-0.011089</td>\n",
       "      <td>-0.348072</td>\n",
       "      <td>0.766621</td>\n",
       "      <td>0</td>\n",
       "    </tr>\n",
       "    <tr>\n",
       "      <th>427092</th>\n",
       "      <td>-0.175293</td>\n",
       "      <td>1.401570</td>\n",
       "      <td>-0.893163</td>\n",
       "      <td>2.003177</td>\n",
       "      <td>1.900909</td>\n",
       "      <td>-0.599097</td>\n",
       "      <td>0.460746</td>\n",
       "      <td>0.076704</td>\n",
       "      <td>-0.441369</td>\n",
       "      <td>-2.215418</td>\n",
       "      <td>...</td>\n",
       "      <td>-0.709520</td>\n",
       "      <td>-0.249411</td>\n",
       "      <td>-1.061419</td>\n",
       "      <td>0.315385</td>\n",
       "      <td>-0.173653</td>\n",
       "      <td>0.111880</td>\n",
       "      <td>0.103889</td>\n",
       "      <td>-0.349231</td>\n",
       "      <td>-0.088485</td>\n",
       "      <td>1</td>\n",
       "    </tr>\n",
       "    <tr>\n",
       "      <th>427093</th>\n",
       "      <td>-3.902800</td>\n",
       "      <td>2.960590</td>\n",
       "      <td>-4.369559</td>\n",
       "      <td>3.759462</td>\n",
       "      <td>-2.871770</td>\n",
       "      <td>-1.164533</td>\n",
       "      <td>-5.131184</td>\n",
       "      <td>0.747892</td>\n",
       "      <td>-2.379689</td>\n",
       "      <td>-5.627941</td>\n",
       "      <td>...</td>\n",
       "      <td>0.173002</td>\n",
       "      <td>-0.026517</td>\n",
       "      <td>0.057409</td>\n",
       "      <td>-0.512485</td>\n",
       "      <td>-0.325016</td>\n",
       "      <td>0.359637</td>\n",
       "      <td>0.399528</td>\n",
       "      <td>-0.156457</td>\n",
       "      <td>-0.347631</td>\n",
       "      <td>1</td>\n",
       "    </tr>\n",
       "  </tbody>\n",
       "</table>\n",
       "<p>427094 rows × 31 columns</p>\n",
       "</div>"
      ],
      "text/plain": [
       "               V1        V2         V3         V4        V5        V6  \\\n",
       "0       -1.263741  2.214427  -3.150293   2.100071  0.613240 -1.900459   \n",
       "1       -0.894757  0.902752   0.157064  -1.461818  0.468511  0.092881   \n",
       "2      -14.906318  6.955964 -18.326661  11.221378 -5.431998 -2.787559   \n",
       "3       -1.343915  2.486806  -0.666106   4.512272  0.077555  0.103115   \n",
       "4       -0.901317  3.014035  -5.252978   3.156155 -0.852698 -2.339562   \n",
       "...           ...       ...        ...        ...       ...       ...   \n",
       "427089  -2.244514  1.785094  -0.421661   2.249912 -0.787574 -0.164200   \n",
       "427090   0.706237  2.925989  -5.835309   5.901911  0.362335 -1.041420   \n",
       "427091  -0.404184  0.785845   0.709725  -0.612580  0.703825 -1.099587   \n",
       "427092  -0.175293  1.401570  -0.893163   2.003177  1.900909 -0.599097   \n",
       "427093  -3.902800  2.960590  -4.369559   3.759462 -2.871770 -1.164533   \n",
       "\n",
       "               V7        V8        V9        V10  ...       V22       V23  \\\n",
       "0       -0.585863 -0.246818 -1.730000  -2.724503  ...  0.761851  0.059043   \n",
       "1        0.100389  0.640745  0.096933  -1.501749  ...  0.861652 -0.156786   \n",
       "2      -15.777790 -1.106288 -6.983382 -13.902392  ...  0.522311 -2.060399   \n",
       "3        0.008053  1.130809 -2.919924   1.415100  ...  0.623153  0.052563   \n",
       "4       -2.193165  0.654530 -2.828663  -5.957475  ...  0.085376 -0.194862   \n",
       "...           ...       ...       ...        ...  ...       ...       ...   \n",
       "427089   0.413499 -0.414937 -0.307649  -1.628627  ... -0.868877  0.143420   \n",
       "427090  -2.802091  0.726986 -2.667190  -4.627660  ... -0.908053 -0.044837   \n",
       "427091   1.094726 -0.340571 -0.434312  -0.661131  ... -0.588826  0.046757   \n",
       "427092   0.460746  0.076704 -0.441369  -2.215418  ... -0.709520 -0.249411   \n",
       "427093  -5.131184  0.747892 -2.379689  -5.627941  ...  0.173002 -0.026517   \n",
       "\n",
       "             V24       V25       V26       V27       V28  scaler_amount  \\\n",
       "0      -0.261111 -0.426835 -0.438092  0.571798  0.411627      -0.219343   \n",
       "1       0.139535 -0.393529  0.337009 -0.112963  0.121339      -0.273268   \n",
       "2      -0.894578  0.546724  0.783897  2.499306 -1.079416      -0.349231   \n",
       "3       0.112320 -0.466371  0.343997 -0.168170  0.011045      -0.349231   \n",
       "4      -0.361414  0.552058  0.607427  0.701248  0.354584      -0.023374   \n",
       "...          ...       ...       ...       ...       ...            ...   \n",
       "427089 -0.073271 -0.141767 -0.544522  0.070993 -0.145520       0.538026   \n",
       "427090 -0.805963  0.346400 -0.008788  0.789163  0.405129      -0.339688   \n",
       "427091  0.076894  0.039458  0.195505 -0.162924 -0.011089      -0.348072   \n",
       "427092 -1.061419  0.315385 -0.173653  0.111880  0.103889      -0.349231   \n",
       "427093  0.057409 -0.512485 -0.325016  0.359637  0.399528      -0.156457   \n",
       "\n",
       "        rob_Time  Class  \n",
       "0       0.918445      1  \n",
       "1       0.913016      0  \n",
       "2      -0.777230      1  \n",
       "3       0.717466      0  \n",
       "4       0.680204      1  \n",
       "...          ...    ...  \n",
       "427089 -0.908271      1  \n",
       "427090  0.556525      1  \n",
       "427091  0.766621      0  \n",
       "427092 -0.088485      1  \n",
       "427093 -0.347631      1  \n",
       "\n",
       "[427094 rows x 31 columns]"
      ]
     },
     "execution_count": 55,
     "metadata": {},
     "output_type": "execute_result"
    }
   ],
   "source": [
    "dt2 = pd.concat([X_train_over,y_train_over],axis=1)\n",
    "df_over = dt2.sample(len(dt2)).reset_index(drop=True)\n",
    "df_over"
   ]
  },
  {
   "cell_type": "code",
   "execution_count": 56,
   "metadata": {},
   "outputs": [
    {
     "name": "stdout",
     "output_type": "stream",
     "text": [
      "(341675, 30)\n",
      "(85419, 30)\n"
     ]
    }
   ],
   "source": [
    "#훈련, 검증 데이터 나누기(8:2)\n",
    "X=df_over.drop(['Class'],axis=1)\n",
    "y=df_over['Class']\n",
    "\n",
    "X_train, X_val, y_train, y_val = train_test_split(X,y,test_size=0.20,random_state=10,shuffle=True)\n",
    "\n",
    "print(X_train.shape)\n",
    "print(X_val.shape)"
   ]
  },
  {
   "cell_type": "code",
   "execution_count": 57,
   "metadata": {},
   "outputs": [
    {
     "name": "stdout",
     "output_type": "stream",
     "text": [
      "정확도 : 0.96, 정밀도 : 0.98, 재현율 : 0.95\n",
      "f1-score : 0.96, auc : 0.963\n"
     ]
    }
   ],
   "source": [
    "#로지스틱 회귀\n",
    "lr = LogisticRegression(random_state =1,C=1000)\n",
    "modeling(lr,X_train,X_val,y_train,y_val)"
   ]
  },
  {
   "cell_type": "code",
   "execution_count": 58,
   "metadata": {},
   "outputs": [
    {
     "name": "stdout",
     "output_type": "stream",
     "text": [
      "정확도 : 0.99, 정밀도 : 1.00, 재현율 : 0.98\n",
      "f1-score : 0.99, auc : 0.988\n"
     ]
    }
   ],
   "source": [
    "#랜덤포레스트\n",
    "rfc = RandomForestClassifier(n_estimators=200,random_state=30, max_depth=10,n_jobs=-1)\n",
    "modeling(rfc,X_train,X_val,y_train,y_val)"
   ]
  },
  {
   "cell_type": "code",
   "execution_count": 59,
   "metadata": {},
   "outputs": [
    {
     "name": "stdout",
     "output_type": "stream",
     "text": [
      "정확도 : 1.00, 정밀도 : 1.00, 재현율 : 1.00\n",
      "f1-score : 1.00, auc : 1.000\n"
     ]
    }
   ],
   "source": [
    "#xgb\n",
    "xgb = XGBClassifier()\n",
    "modeling(xgb,X_train,X_val,y_train,y_val)"
   ]
  },
  {
   "cell_type": "code",
   "execution_count": 60,
   "metadata": {},
   "outputs": [
    {
     "name": "stdout",
     "output_type": "stream",
     "text": [
      "정확도 : 1.00, 정밀도 : 1.00, 재현율 : 1.00\n",
      "f1-score : 1.00, auc : 1.000\n"
     ]
    }
   ],
   "source": [
    "lgb = LGBMClassifier(n_estimators=1000,num_leaves=64,n_jobs=-1,boost_from_average=False)\n",
    "modeling(lgb,X_train,X_val,y_train,y_val)"
   ]
  },
  {
   "cell_type": "markdown",
   "metadata": {},
   "source": [
    "### 오버 샘플링 테스트 데이터 정확도 확인"
   ]
  },
  {
   "cell_type": "code",
   "execution_count": 61,
   "metadata": {},
   "outputs": [
    {
     "name": "stdout",
     "output_type": "stream",
     "text": [
      "정확도 : 0.98, 정밀도 : 0.07, 재현율 : 0.94\n",
      "f1-score : 0.14, auc : 0.958\n"
     ]
    }
   ],
   "source": [
    "#로지스틱 회귀\n",
    "lr = LogisticRegression(random_state =1,C=1000)\n",
    "modeling(lr,X_train,X_test,y_train,y_test)"
   ]
  },
  {
   "cell_type": "code",
   "execution_count": 62,
   "metadata": {},
   "outputs": [
    {
     "name": "stdout",
     "output_type": "stream",
     "text": [
      "정확도 : 1.00, 정밀도 : 0.89, 재현율 : 0.91\n",
      "f1-score : 0.90, auc : 0.953\n"
     ]
    }
   ],
   "source": [
    "#랜덤포레스트\n",
    "rfc = RandomForestClassifier(n_estimators=200,random_state=30, max_depth=8,n_jobs=-1)\n",
    "modeling(rfc,X_train,X_test,y_train,y_test)"
   ]
  },
  {
   "cell_type": "code",
   "execution_count": 63,
   "metadata": {},
   "outputs": [
    {
     "name": "stdout",
     "output_type": "stream",
     "text": [
      "정확도 : 1.00, 정밀도 : 0.85, 재현율 : 0.91\n",
      "f1-score : 0.88, auc : 0.953\n"
     ]
    }
   ],
   "source": [
    "#xgb\n",
    "xgb = XGBClassifier()\n",
    "modeling(xgb,X_train,X_test,y_train,y_test)"
   ]
  },
  {
   "cell_type": "code",
   "execution_count": 64,
   "metadata": {},
   "outputs": [
    {
     "name": "stdout",
     "output_type": "stream",
     "text": [
      "정확도 : 1.00, 정밀도 : 0.94, 재현율 : 0.89\n",
      "f1-score : 0.91, auc : 0.943\n"
     ]
    }
   ],
   "source": [
    "#lgbm\n",
    "lgb = LGBMClassifier(n_estimators=1000,num_leaves=64,n_jobs=-1,boost_from_average=False)\n",
    "modeling(lgb,X_train,X_test,y_train,y_test)"
   ]
  },
  {
   "cell_type": "code",
   "execution_count": 65,
   "metadata": {},
   "outputs": [
    {
     "data": {
      "image/png": "[encoded data removed]",
      "text/plain": [
       "<Figure size 1584x864 with 8 Axes>"
      ]
     },
     "metadata": {
      "needs_background": "light"
     },
     "output_type": "display_data"
    }
   ],
   "source": [
    "#히트맵 그리기\n",
    "y_pred_log_reg = lr.predict(X_test)\n",
    "y_pred_rfc = rfc.predict(X_test)\n",
    "y_pred_xgb = xgb.predict(X_test)\n",
    "y_pred_lgb = lgb.predict(X_test)\n",
    "\n",
    "\n",
    "lr = confusion_matrix(y_test, y_pred_log_reg)\n",
    "rfc = confusion_matrix(y_test, y_pred_rfc)\n",
    "xgb = confusion_matrix(y_test, y_pred_xgb)\n",
    "lgb = confusion_matrix(y_test, y_pred_lgb)\n",
    "\n",
    "fig, ax = plt.subplots(2, 2,figsize=(22,12))\n",
    "\n",
    "\n",
    "sns.heatmap(lr, ax=ax[0][0], annot=True, cmap=plt.cm.Greens)\n",
    "ax[0, 0].set_title(\"Logistic Regression \\n Confusion Matrix\", fontsize=14)\n",
    "ax[0, 0].set_xticklabels(['', ''], fontsize=30, rotation=90)\n",
    "ax[0, 0].set_yticklabels(['', ''], fontsize=30, rotation=360)\n",
    "\n",
    "sns.heatmap(rfc, ax=ax[0][1], annot=True, cmap=plt.cm.Greens)\n",
    "ax[0][1].set_title(\"random forest \\n Confusion Matrix\", fontsize=14)\n",
    "ax[0][1].set_xticklabels(['', ''], fontsize=30, rotation=90)\n",
    "ax[0][1].set_yticklabels(['', ''], fontsize=30, rotation=360)\n",
    "\n",
    "sns.heatmap(xgb, ax=ax[1][0], annot=True, cmap=plt.cm.Greens)\n",
    "ax[1][0].set_title(\"XGB Classifier \\n Confusion Matrix\", fontsize=14)\n",
    "ax[1][0].set_xticklabels(['', ''], fontsize=30, rotation=90)\n",
    "ax[1][0].set_yticklabels(['', ''], fontsize=30, rotation=360)\n",
    "\n",
    "sns.heatmap(lgb, ax=ax[1][1], annot=True, cmap=plt.cm.Greens)\n",
    "ax[1][1].set_title(\"light gbm \\n Confusion Matrix\", fontsize=14)\n",
    "ax[1][1].set_xticklabels(['', ''], fontsize=30, rotation=90)\n",
    "ax[1][1].set_yticklabels(['', ''], fontsize=30, rotation=360)\n",
    "\n",
    "plt.show()"
   ]
  },
  {
   "cell_type": "markdown",
   "metadata": {},
   "source": [
    "## 오버 샘플링 신경망"
   ]
  },
  {
   "cell_type": "code",
   "execution_count": 66,
   "metadata": {},
   "outputs": [],
   "source": [
    "import keras\n",
    "from keras import backend as K\n",
    "from keras.layers.core import Dense\n",
    "from keras.optimizers import Adam\n",
    "from keras.metrics import binary_crossentropy\n",
    "from keras.models import *\n",
    "from keras.layers import *\n",
    "\n",
    "model = Sequential()\n",
    "model.add(Dense(12, input_shape=(30, ), activation='relu'))\n",
    "model.add(Dense(12, activation='relu'))\n",
    "model.add(Dropout(0.3))\n",
    "\n",
    "model.add(Dense(1, activation='sigmoid'))\n",
    "optimizer = Adam()\n",
    "model.compile(optimizer, loss='binary_crossentropy', metrics=['accuracy'])"
   ]
  },
  {
   "cell_type": "code",
   "execution_count": 67,
   "metadata": {},
   "outputs": [
    {
     "name": "stdout",
     "output_type": "stream",
     "text": [
      "Model: \"sequential_1\"\n",
      "_________________________________________________________________\n",
      "Layer (type)                 Output Shape              Param #   \n",
      "=================================================================\n",
      "dense_3 (Dense)              (None, 12)                372       \n",
      "_________________________________________________________________\n",
      "dense_4 (Dense)              (None, 12)                156       \n",
      "_________________________________________________________________\n",
      "dropout_1 (Dropout)          (None, 12)                0         \n",
      "_________________________________________________________________\n",
      "dense_5 (Dense)              (None, 1)                 13        \n",
      "=================================================================\n",
      "Total params: 541\n",
      "Trainable params: 541\n",
      "Non-trainable params: 0\n",
      "_________________________________________________________________\n"
     ]
    }
   ],
   "source": [
    "model.summary()"
   ]
  },
  {
   "cell_type": "code",
   "execution_count": 68,
   "metadata": {},
   "outputs": [
    {
     "name": "stdout",
     "output_type": "stream",
     "text": [
      "Epoch 1/10\n",
      "68335/68335 [==============================] - 183s 3ms/step - loss: 0.0360 - accuracy: 0.9865 - val_loss: 0.0123 - val_accuracy: 0.9963\n",
      "Epoch 2/10\n",
      "68335/68335 [==============================] - 169s 2ms/step - loss: 0.0131 - accuracy: 0.9962 - val_loss: 0.0094 - val_accuracy: 0.9974\n",
      "Epoch 3/10\n",
      "68335/68335 [==============================] - 180s 3ms/step - loss: 0.0103 - accuracy: 0.9972 - val_loss: 0.0087 - val_accuracy: 0.9975\n",
      "Epoch 4/10\n",
      "68335/68335 [==============================] - 198s 3ms/step - loss: 0.0086 - accuracy: 0.9977 - val_loss: 0.0059 - val_accuracy: 0.9986\n",
      "Epoch 5/10\n",
      "68335/68335 [==============================] - 209s 3ms/step - loss: 0.0081 - accuracy: 0.9980 - val_loss: 0.0091 - val_accuracy: 0.9978\n",
      "Epoch 6/10\n",
      "68335/68335 [==============================] - 219s 3ms/step - loss: 0.0075 - accuracy: 0.9981 - val_loss: 0.0055 - val_accuracy: 0.9985\n",
      "Epoch 7/10\n",
      "68335/68335 [==============================] - 219s 3ms/step - loss: 0.0068 - accuracy: 0.9984 - val_loss: 0.0074 - val_accuracy: 0.9984\n",
      "Epoch 8/10\n",
      "68335/68335 [==============================] - 214s 3ms/step - loss: 0.0068 - accuracy: 0.9984 - val_loss: 0.0067 - val_accuracy: 0.9984\n",
      "Epoch 9/10\n",
      "68335/68335 [==============================] - 188s 3ms/step - loss: 0.0067 - accuracy: 0.9984 - val_loss: 0.0050 - val_accuracy: 0.9987\n",
      "Epoch 10/10\n",
      "68335/68335 [==============================] - 204s 3ms/step - loss: 0.0069 - accuracy: 0.9983 - val_loss: 0.0054 - val_accuracy: 0.9987\n"
     ]
    }
   ],
   "source": [
    "history=model.fit(X_train,y_train,epochs=10,batch_size=5,validation_data=(X_val,y_val))"
   ]
  },
  {
   "cell_type": "code",
   "execution_count": 69,
   "metadata": {},
   "outputs": [
    {
     "name": "stdout",
     "output_type": "stream",
     "text": [
      "1672/1672 [==============================] - 4s 3ms/step - loss: 0.0355 - accuracy: 0.9975\n",
      "\n",
      " 테스트 정확도: 0.9975\n"
     ]
    }
   ],
   "source": [
    "print(\"\\n 테스트 정확도: %.4f\" % (model.evaluate(X_test, y_test)[1]))"
   ]
  },
  {
   "cell_type": "code",
   "execution_count": 70,
   "metadata": {},
   "outputs": [
    {
     "data": {
      "text/plain": [
       "dict_keys(['loss', 'accuracy', 'val_loss', 'val_accuracy'])"
      ]
     },
     "execution_count": 70,
     "metadata": {},
     "output_type": "execute_result"
    }
   ],
   "source": [
    "history.history.keys()"
   ]
  },
  {
   "cell_type": "code",
   "execution_count": 71,
   "metadata": {},
   "outputs": [
    {
     "data": {
      "image/png": "[encoded data removed]",
      "text/plain": [
       "<Figure size 432x288 with 1 Axes>"
      ]
     },
     "metadata": {
      "needs_background": "light"
     },
     "output_type": "display_data"
    }
   ],
   "source": [
    "import matplotlib.pyplot as plt\n",
    "%matplotlib inline\n",
    "\n",
    "history_dict = history.history\n",
    "loss = history_dict['loss']\n",
    "val_loss = history_dict['val_loss']\n",
    "\n",
    "epochs = range(1, len(loss)+1)\n",
    "plt.plot(epochs, loss, 'y', label='Training loss')\n",
    "plt.plot(epochs, val_loss, 'r', label='Validation loss') \n",
    "plt.title('Training & Validation Loss')\n",
    "plt.xlabel('Epochs')\n",
    "plt.ylabel('Loss')\n",
    "plt.legend()\n",
    "\n",
    "plt.show()"
   ]
  },
  {
   "cell_type": "code",
   "execution_count": 73,
   "metadata": {},
   "outputs": [
    {
     "data": {
      "image/png": "[encoded data removed]",
      "text/plain": [
       "<Figure size 432x288 with 1 Axes>"
      ]
     },
     "metadata": {
      "needs_background": "light"
     },
     "output_type": "display_data"
    }
   ],
   "source": [
    "plt.clf() #그래프 초기화하기\n",
    "acc = history_dict['accuracy']\n",
    "val_acc = history_dict['val_accuracy']\n",
    "\n",
    "plt.plot(epochs, acc, 'y', label='Training acc') \n",
    "plt.plot(epochs, val_acc, 'r', label='Validation acc') \n",
    "plt.title('Training & Validation accuracy')\n",
    "plt.xlabel('Epochs')\n",
    "plt.ylabel('Accuracy')\n",
    "plt.legend()\n",
    "\n",
    "plt.show()"
   ]
  },
  {
   "cell_type": "code",
   "execution_count": 74,
   "metadata": {},
   "outputs": [],
   "source": [
    "oversample_fraud_predictions = model.predict_classes(X_test)"
   ]
  },
  {
   "cell_type": "code",
   "execution_count": 75,
   "metadata": {},
   "outputs": [
    {
     "data": {
      "image/png": "[encoded data removed]",
      "text/plain": [
       "<Figure size 936x432 with 2 Axes>"
      ]
     },
     "metadata": {
      "needs_background": "light"
     },
     "output_type": "display_data"
    }
   ],
   "source": [
    "oversample_cm = confusion_matrix(y_test, oversample_fraud_predictions)\n",
    "labels = ['No Fraud', 'Fraud']\n",
    "\n",
    "fig = plt.figure(figsize=(13,6))\n",
    "plot_confusion_matrix(oversample_cm, labels, title=\"SMOTE OverSample \\n Confusion Matrix\", cmap=plt.cm.Greens)"
   ]
  },
  {
   "cell_type": "code",
   "execution_count": 76,
   "metadata": {},
   "outputs": [
    {
     "data": {
      "text/plain": [
       "0.9467366704126866"
      ]
     },
     "execution_count": 76,
     "metadata": {},
     "output_type": "execute_result"
    }
   ],
   "source": [
    "roc_auc_score(y_test,oversample_fraud_predictions,average='macro')"
   ]
  },
  {
   "cell_type": "code",
   "execution_count": null,
   "metadata": {},
   "outputs": [],
   "source": []
  }
 ],
 "metadata": {
  "kernelspec": {
   "display_name": "Python 3",
   "language": "python",
   "name": "python3"
  },
  "language_info": {
   "codemirror_mode": {
    "name": "ipython",
    "version": 3
   },
   "file_extension": ".py",
   "mimetype": "text/x-python",
   "name": "python",
   "nbconvert_exporter": "python",
   "pygments_lexer": "ipython3",
   "version": "3.7.6"
  }
 },
 "nbformat": 4,
 "nbformat_minor": 4
}
